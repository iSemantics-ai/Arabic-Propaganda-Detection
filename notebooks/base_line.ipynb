{
 "cells": [
  {
   "cell_type": "code",
   "execution_count": 1,
   "metadata": {},
   "outputs": [],
   "source": [
    "import fasttext\n",
    "import optuna\n",
    "import pandas as pd\n",
    "import numpy as np\n",
    "import seaborn as sns\n",
    "import matplotlib.pyplot as plt\n",
    "from tqdm.auto import tqdm\n",
    "from sklearnex import patch_sklearn\n",
    "\n",
    "optuna.logging.set_verbosity(optuna.logging.WARNING)"
   ]
  },
  {
   "cell_type": "code",
   "execution_count": 2,
   "metadata": {},
   "outputs": [
    {
     "name": "stderr",
     "output_type": "stream",
     "text": [
      "Intel(R) Extension for Scikit-learn* enabled (https://github.com/intel/scikit-learn-intelex)\n"
     ]
    }
   ],
   "source": [
    "patch_sklearn()\n",
    "sns.set()\n",
    "sns.set_style(\"whitegrid\", {\"axes.grid\": False})\n",
    "%matplotlib inline"
   ]
  },
  {
   "cell_type": "code",
   "execution_count": 3,
   "metadata": {},
   "outputs": [],
   "source": [
    "from sklearn.metrics import f1_score\n",
    "from sklearn.metrics import confusion_matrix\n",
    "from sklearn.metrics import classification_report\n",
    "from sklearn.metrics import ConfusionMatrixDisplay\n",
    "from sklearn.model_selection import train_test_split\n",
    "from sklearn.linear_model import LogisticRegression"
   ]
  },
  {
   "cell_type": "code",
   "execution_count": 4,
   "metadata": {},
   "outputs": [
    {
     "name": "stderr",
     "output_type": "stream",
     "text": [
      "Warning : `load_model` does not return WordVectorModel or SupervisedModel any more, but a `FastText` object which is very similar.\n"
     ]
    }
   ],
   "source": [
    "encoder = fasttext.load_model('../models/encoders/cc.ar.300.bin')"
   ]
  },
  {
   "cell_type": "code",
   "execution_count": 5,
   "metadata": {},
   "outputs": [
    {
     "data": {
      "text/html": [
       "<div>\n",
       "<style scoped>\n",
       "    .dataframe tbody tr th:only-of-type {\n",
       "        vertical-align: middle;\n",
       "    }\n",
       "\n",
       "    .dataframe tbody tr th {\n",
       "        vertical-align: top;\n",
       "    }\n",
       "\n",
       "    .dataframe thead th {\n",
       "        text-align: right;\n",
       "    }\n",
       "</style>\n",
       "<table border=\"1\" class=\"dataframe\">\n",
       "  <thead>\n",
       "    <tr style=\"text-align: right;\">\n",
       "      <th></th>\n",
       "      <th>tweetid</th>\n",
       "      <th>tweet_text</th>\n",
       "      <th>text</th>\n",
       "      <th>tech</th>\n",
       "      <th>label</th>\n",
       "    </tr>\n",
       "  </thead>\n",
       "  <tbody>\n",
       "    <tr>\n",
       "      <th>0</th>\n",
       "      <td>295735762505322497</td>\n",
       "      <td>النعيم أمي، وعين أمي، وقبلة أمي، فأكرمها يالله...</td>\n",
       "      <td>النعيم أمي، وعين أمي، وقبلة أمي، فأكرمها يالله...</td>\n",
       "      <td>None</td>\n",
       "      <td>0</td>\n",
       "    </tr>\n",
       "    <tr>\n",
       "      <th>1</th>\n",
       "      <td>1080873494227886086</td>\n",
       "      <td>RT @rood516: عرض الاجازه😍👌🏻1\\nســــاعه\\nقـــلم...</td>\n",
       "      <td>RT : عرض الاجازه1 ســــاعه قـــلم كــبك نظـــا...</td>\n",
       "      <td>None</td>\n",
       "      <td>0</td>\n",
       "    </tr>\n",
       "    <tr>\n",
       "      <th>2</th>\n",
       "      <td>1027481525506453504</td>\n",
       "      <td>RT @6FSH1_: مهما ضاق صدرك تذكر أن في ناس توهم ...</td>\n",
       "      <td>RT : مهما ضاق صدرك تذكر أن في ناس توهم بيسجلون...</td>\n",
       "      <td>None</td>\n",
       "      <td>0</td>\n",
       "    </tr>\n",
       "    <tr>\n",
       "      <th>3</th>\n",
       "      <td>417202038037299200</td>\n",
       "      <td>RT @f450450: ﴿ياحي ياقيوم برحمتك أستغيث أصلح ل...</td>\n",
       "      <td>RT : ﴿ياحي ياقيوم برحمتك أستغيث أصلح لي شأني ك...</td>\n",
       "      <td>None</td>\n",
       "      <td>0</td>\n",
       "    </tr>\n",
       "    <tr>\n",
       "      <th>4</th>\n",
       "      <td>834074569673736193</td>\n",
       "      <td>RT @7744Qa: بعض البشر ، إذا وجد البديل نكر الج...</td>\n",
       "      <td>RT : بعض البشر ، إذا وجد البديل نكر الجميل. قر...</td>\n",
       "      <td>None</td>\n",
       "      <td>0</td>\n",
       "    </tr>\n",
       "  </tbody>\n",
       "</table>\n",
       "</div>"
      ],
      "text/plain": [
       "               tweetid                                         tweet_text  \\\n",
       "0   295735762505322497  النعيم أمي، وعين أمي، وقبلة أمي، فأكرمها يالله...   \n",
       "1  1080873494227886086  RT @rood516: عرض الاجازه😍👌🏻1\\nســــاعه\\nقـــلم...   \n",
       "2  1027481525506453504  RT @6FSH1_: مهما ضاق صدرك تذكر أن في ناس توهم ...   \n",
       "3   417202038037299200  RT @f450450: ﴿ياحي ياقيوم برحمتك أستغيث أصلح ل...   \n",
       "4   834074569673736193  RT @7744Qa: بعض البشر ، إذا وجد البديل نكر الج...   \n",
       "\n",
       "                                                text  tech  label  \n",
       "0  النعيم أمي، وعين أمي، وقبلة أمي، فأكرمها يالله...  None      0  \n",
       "1  RT : عرض الاجازه1 ســــاعه قـــلم كــبك نظـــا...  None      0  \n",
       "2  RT : مهما ضاق صدرك تذكر أن في ناس توهم بيسجلون...  None      0  \n",
       "3  RT : ﴿ياحي ياقيوم برحمتك أستغيث أصلح لي شأني ك...  None      0  \n",
       "4  RT : بعض البشر ، إذا وجد البديل نكر الجميل. قر...  None      0  "
      ]
     },
     "execution_count": 5,
     "metadata": {},
     "output_type": "execute_result"
    }
   ],
   "source": [
    "dataset = pd.read_json(\"../data/processed/to_label.json\")\n",
    "dataset.head()"
   ]
  },
  {
   "cell_type": "code",
   "execution_count": 6,
   "metadata": {},
   "outputs": [
    {
     "name": "stdout",
     "output_type": "stream",
     "text": [
      "<class 'pandas.core.frame.DataFrame'>\n",
      "Index: 2100 entries, 0 to 2099\n",
      "Data columns (total 5 columns):\n",
      " #   Column      Non-Null Count  Dtype \n",
      "---  ------      --------------  ----- \n",
      " 0   tweetid     2100 non-null   int64 \n",
      " 1   tweet_text  2100 non-null   object\n",
      " 2   text        2100 non-null   object\n",
      " 3   tech        202 non-null    object\n",
      " 4   label       2100 non-null   int64 \n",
      "dtypes: int64(2), object(3)\n",
      "memory usage: 98.4+ KB\n"
     ]
    }
   ],
   "source": [
    "dataset.info()"
   ]
  },
  {
   "cell_type": "code",
   "execution_count": 7,
   "metadata": {},
   "outputs": [
    {
     "data": {
      "application/vnd.jupyter.widget-view+json": {
       "model_id": "9c48e0db763c446a839c637e7c27cde5",
       "version_major": 2,
       "version_minor": 0
      },
      "text/plain": [
       "  0%|          | 0/2100 [00:00<?, ?it/s]"
      ]
     },
     "metadata": {},
     "output_type": "display_data"
    }
   ],
   "source": [
    "vectors = []\n",
    "for t in tqdm(dataset.text.to_list(), total=len(dataset)):\n",
    "    vectors.append(list(encoder.get_sentence_vector(t)))\n",
    "\n",
    "dataset[\"vector\"] = vectors"
   ]
  },
  {
   "cell_type": "code",
   "execution_count": 8,
   "metadata": {},
   "outputs": [],
   "source": [
    "label_names = [\"transparent\", \"propaganda\"]"
   ]
  },
  {
   "cell_type": "code",
   "execution_count": 9,
   "metadata": {},
   "outputs": [],
   "source": [
    "label2id = {label_names[i]: i for i in range(len(label_names))}\n",
    "id2label = {i: label_names[i] for i in range(len(label_names))}"
   ]
  },
  {
   "cell_type": "code",
   "execution_count": 10,
   "metadata": {},
   "outputs": [],
   "source": [
    "train, valid = train_test_split(\n",
    "    dataset, test_size=0.4, random_state=42, stratify=dataset.label\n",
    ")\n",
    "valid, test = train_test_split(\n",
    "    valid, test_size=0.5, random_state=42, stratify=valid.label\n",
    ")"
   ]
  },
  {
   "cell_type": "code",
   "execution_count": 11,
   "metadata": {},
   "outputs": [],
   "source": [
    "train = train.reset_index(drop=True)\n",
    "valid = valid.reset_index(drop=True)\n",
    "test = test.reset_index(drop=True)"
   ]
  },
  {
   "cell_type": "code",
   "execution_count": 12,
   "metadata": {},
   "outputs": [
    {
     "data": {
      "text/html": [
       "<div>\n",
       "<style scoped>\n",
       "    .dataframe tbody tr th:only-of-type {\n",
       "        vertical-align: middle;\n",
       "    }\n",
       "\n",
       "    .dataframe tbody tr th {\n",
       "        vertical-align: top;\n",
       "    }\n",
       "\n",
       "    .dataframe thead th {\n",
       "        text-align: right;\n",
       "    }\n",
       "</style>\n",
       "<table border=\"1\" class=\"dataframe\">\n",
       "  <thead>\n",
       "    <tr style=\"text-align: right;\">\n",
       "      <th></th>\n",
       "      <th>tweetid</th>\n",
       "      <th>tweet_text</th>\n",
       "      <th>text</th>\n",
       "      <th>tech</th>\n",
       "      <th>label</th>\n",
       "      <th>vector</th>\n",
       "    </tr>\n",
       "  </thead>\n",
       "  <tbody>\n",
       "    <tr>\n",
       "      <th>0</th>\n",
       "      <td>977553193814122498</td>\n",
       "      <td>شاركوا معنا .. في #ساعة_الأرض الليلة \\nساعة وا...</td>\n",
       "      <td>شاركوا معنا .. في ساعة الأرض الليلة ساعة واحد ...</td>\n",
       "      <td>None</td>\n",
       "      <td>0</td>\n",
       "      <td>[-0.0009555278, 0.0012486062, -0.013509666, 0....</td>\n",
       "    </tr>\n",
       "    <tr>\n",
       "      <th>1</th>\n",
       "      <td>1005856990436970497</td>\n",
       "      <td>RT @qtfcjohz: َاللهم طهر قلوبنا من كل ضيق \\nوي...</td>\n",
       "      <td>RT : اللهم طهر قلوبنا من كل ضيق ويسر أمورنا في...</td>\n",
       "      <td>None</td>\n",
       "      <td>0</td>\n",
       "      <td>[-0.026198564, 0.011223065, -0.03573343, 0.006...</td>\n",
       "    </tr>\n",
       "    <tr>\n",
       "      <th>2</th>\n",
       "      <td>705893711595622400</td>\n",
       "      <td>- 97 يوم . . https://t.co/B4vN1bYT1q</td>\n",
       "      <td>- 97 يوم . .</td>\n",
       "      <td>None</td>\n",
       "      <td>0</td>\n",
       "      <td>[-0.016985966, 0.023942119, 0.013537327, -0.01...</td>\n",
       "    </tr>\n",
       "    <tr>\n",
       "      <th>3</th>\n",
       "      <td>898256787857604609</td>\n",
       "      <td>RT @soso_ot511: ”اشتقت بصمت أتألم لأكن الله لط...</td>\n",
       "      <td>RT : ”اشتقت بصمت أتألم لأكن الله لطيف بـ القلو...</td>\n",
       "      <td>None</td>\n",
       "      <td>0</td>\n",
       "      <td>[-0.008837707, 0.0028942337, 0.0024905056, 0.0...</td>\n",
       "    </tr>\n",
       "    <tr>\n",
       "      <th>4</th>\n",
       "      <td>884211704090984448</td>\n",
       "      <td>قالﷺ:\\n(من كانت الآخرة همـــه\\nجعل الله غناه ف...</td>\n",
       "      <td>قالﷺ: (من كانت الآخرة همـــه جعل الله غناه في ...</td>\n",
       "      <td>None</td>\n",
       "      <td>0</td>\n",
       "      <td>[-0.020786136, 0.001279178, -0.025478864, 0.04...</td>\n",
       "    </tr>\n",
       "  </tbody>\n",
       "</table>\n",
       "</div>"
      ],
      "text/plain": [
       "               tweetid                                         tweet_text  \\\n",
       "0   977553193814122498  شاركوا معنا .. في #ساعة_الأرض الليلة \\nساعة وا...   \n",
       "1  1005856990436970497  RT @qtfcjohz: َاللهم طهر قلوبنا من كل ضيق \\nوي...   \n",
       "2   705893711595622400               - 97 يوم . . https://t.co/B4vN1bYT1q   \n",
       "3   898256787857604609  RT @soso_ot511: ”اشتقت بصمت أتألم لأكن الله لط...   \n",
       "4   884211704090984448  قالﷺ:\\n(من كانت الآخرة همـــه\\nجعل الله غناه ف...   \n",
       "\n",
       "                                                text  tech  label  \\\n",
       "0  شاركوا معنا .. في ساعة الأرض الليلة ساعة واحد ...  None      0   \n",
       "1  RT : اللهم طهر قلوبنا من كل ضيق ويسر أمورنا في...  None      0   \n",
       "2                                       - 97 يوم . .  None      0   \n",
       "3  RT : ”اشتقت بصمت أتألم لأكن الله لطيف بـ القلو...  None      0   \n",
       "4  قالﷺ: (من كانت الآخرة همـــه جعل الله غناه في ...  None      0   \n",
       "\n",
       "                                              vector  \n",
       "0  [-0.0009555278, 0.0012486062, -0.013509666, 0....  \n",
       "1  [-0.026198564, 0.011223065, -0.03573343, 0.006...  \n",
       "2  [-0.016985966, 0.023942119, 0.013537327, -0.01...  \n",
       "3  [-0.008837707, 0.0028942337, 0.0024905056, 0.0...  \n",
       "4  [-0.020786136, 0.001279178, -0.025478864, 0.04...  "
      ]
     },
     "execution_count": 12,
     "metadata": {},
     "output_type": "execute_result"
    }
   ],
   "source": [
    "test.head()"
   ]
  },
  {
   "cell_type": "code",
   "execution_count": 13,
   "metadata": {},
   "outputs": [
    {
     "data": {
      "text/plain": [
       "{0: 0.903968253968254, 1: 0.09603174603174604}"
      ]
     },
     "execution_count": 13,
     "metadata": {},
     "output_type": "execute_result"
    }
   ],
   "source": [
    "w = train.label.value_counts(normalize=True).to_list()\n",
    "w = {i: w[i] for i in range(len(w))}\n",
    "w"
   ]
  },
  {
   "cell_type": "code",
   "execution_count": 14,
   "metadata": {},
   "outputs": [],
   "source": [
    "def objective(trial):\n",
    "    p = trial.suggest_categorical(\"penalty\", [\"l1\", \"l2\"])\n",
    "    s = trial.suggest_categorical(\"solver\", [\"liblinear\"])\n",
    "    c = trial.suggest_categorical(\"C\", [0.1, 1.0, 10.0, 100.0, 1000.0])\n",
    "    model = LogisticRegression(\n",
    "        penalty=p, solver=s, C=c, class_weight=w, max_iter=1000, random_state=42\n",
    "    )\n",
    "    model.fit(train.vector.to_list(), train.label.to_list())\n",
    "    # acc = model.score(x_test, y_test)\n",
    "    f1 = f1_score(\n",
    "        valid.label.to_list(),\n",
    "        model.predict(valid.vector.to_list()),\n",
    "        average=\"binary\",\n",
    "    )\n",
    "    return f1"
   ]
  },
  {
   "cell_type": "code",
   "execution_count": 15,
   "metadata": {},
   "outputs": [
    {
     "data": {
      "application/vnd.jupyter.widget-view+json": {
       "model_id": "7cb8be8d87fe4dd9999b7b88a0608806",
       "version_major": 2,
       "version_minor": 0
      },
      "text/plain": [
       "  0%|          | 0/1000 [00:00<?, ?it/s]"
      ]
     },
     "metadata": {},
     "output_type": "display_data"
    }
   ],
   "source": [
    "study = optuna.create_study(study_name=\"baseline\", direction=\"maximize\")\n",
    "study.optimize(objective, n_trials=1000, n_jobs=-1, show_progress_bar=True)"
   ]
  },
  {
   "cell_type": "code",
   "execution_count": 16,
   "metadata": {},
   "outputs": [
    {
     "data": {
      "text/html": [
       "<style>#sk-container-id-1 {color: black;}#sk-container-id-1 pre{padding: 0;}#sk-container-id-1 div.sk-toggleable {background-color: white;}#sk-container-id-1 label.sk-toggleable__label {cursor: pointer;display: block;width: 100%;margin-bottom: 0;padding: 0.3em;box-sizing: border-box;text-align: center;}#sk-container-id-1 label.sk-toggleable__label-arrow:before {content: \"▸\";float: left;margin-right: 0.25em;color: #696969;}#sk-container-id-1 label.sk-toggleable__label-arrow:hover:before {color: black;}#sk-container-id-1 div.sk-estimator:hover label.sk-toggleable__label-arrow:before {color: black;}#sk-container-id-1 div.sk-toggleable__content {max-height: 0;max-width: 0;overflow: hidden;text-align: left;background-color: #f0f8ff;}#sk-container-id-1 div.sk-toggleable__content pre {margin: 0.2em;color: black;border-radius: 0.25em;background-color: #f0f8ff;}#sk-container-id-1 input.sk-toggleable__control:checked~div.sk-toggleable__content {max-height: 200px;max-width: 100%;overflow: auto;}#sk-container-id-1 input.sk-toggleable__control:checked~label.sk-toggleable__label-arrow:before {content: \"▾\";}#sk-container-id-1 div.sk-estimator input.sk-toggleable__control:checked~label.sk-toggleable__label {background-color: #d4ebff;}#sk-container-id-1 div.sk-label input.sk-toggleable__control:checked~label.sk-toggleable__label {background-color: #d4ebff;}#sk-container-id-1 input.sk-hidden--visually {border: 0;clip: rect(1px 1px 1px 1px);clip: rect(1px, 1px, 1px, 1px);height: 1px;margin: -1px;overflow: hidden;padding: 0;position: absolute;width: 1px;}#sk-container-id-1 div.sk-estimator {font-family: monospace;background-color: #f0f8ff;border: 1px dotted black;border-radius: 0.25em;box-sizing: border-box;margin-bottom: 0.5em;}#sk-container-id-1 div.sk-estimator:hover {background-color: #d4ebff;}#sk-container-id-1 div.sk-parallel-item::after {content: \"\";width: 100%;border-bottom: 1px solid gray;flex-grow: 1;}#sk-container-id-1 div.sk-label:hover label.sk-toggleable__label {background-color: #d4ebff;}#sk-container-id-1 div.sk-serial::before {content: \"\";position: absolute;border-left: 1px solid gray;box-sizing: border-box;top: 0;bottom: 0;left: 50%;z-index: 0;}#sk-container-id-1 div.sk-serial {display: flex;flex-direction: column;align-items: center;background-color: white;padding-right: 0.2em;padding-left: 0.2em;position: relative;}#sk-container-id-1 div.sk-item {position: relative;z-index: 1;}#sk-container-id-1 div.sk-parallel {display: flex;align-items: stretch;justify-content: center;background-color: white;position: relative;}#sk-container-id-1 div.sk-item::before, #sk-container-id-1 div.sk-parallel-item::before {content: \"\";position: absolute;border-left: 1px solid gray;box-sizing: border-box;top: 0;bottom: 0;left: 50%;z-index: -1;}#sk-container-id-1 div.sk-parallel-item {display: flex;flex-direction: column;z-index: 1;position: relative;background-color: white;}#sk-container-id-1 div.sk-parallel-item:first-child::after {align-self: flex-end;width: 50%;}#sk-container-id-1 div.sk-parallel-item:last-child::after {align-self: flex-start;width: 50%;}#sk-container-id-1 div.sk-parallel-item:only-child::after {width: 0;}#sk-container-id-1 div.sk-dashed-wrapped {border: 1px dashed gray;margin: 0 0.4em 0.5em 0.4em;box-sizing: border-box;padding-bottom: 0.4em;background-color: white;}#sk-container-id-1 div.sk-label label {font-family: monospace;font-weight: bold;display: inline-block;line-height: 1.2em;}#sk-container-id-1 div.sk-label-container {text-align: center;}#sk-container-id-1 div.sk-container {/* jupyter's `normalize.less` sets `[hidden] { display: none; }` but bootstrap.min.css set `[hidden] { display: none !important; }` so we also need the `!important` here to be able to override the default hidden behavior on the sphinx rendered scikit-learn.org. See: https://github.com/scikit-learn/scikit-learn/issues/21755 */display: inline-block !important;position: relative;}#sk-container-id-1 div.sk-text-repr-fallback {display: none;}</style><div id=\"sk-container-id-1\" class=\"sk-top-container\"><div class=\"sk-text-repr-fallback\"><pre>LogisticRegression(C=1000.0,\n",
       "                   class_weight={0: 0.903968253968254, 1: 0.09603174603174604},\n",
       "                   max_iter=1000, penalty=&#x27;l1&#x27;, random_state=42,\n",
       "                   solver=&#x27;liblinear&#x27;)</pre><b>In a Jupyter environment, please rerun this cell to show the HTML representation or trust the notebook. <br />On GitHub, the HTML representation is unable to render, please try loading this page with nbviewer.org.</b></div><div class=\"sk-container\" hidden><div class=\"sk-item\"><div class=\"sk-estimator sk-toggleable\"><input class=\"sk-toggleable__control sk-hidden--visually\" id=\"sk-estimator-id-1\" type=\"checkbox\" checked><label for=\"sk-estimator-id-1\" class=\"sk-toggleable__label sk-toggleable__label-arrow\">LogisticRegression</label><div class=\"sk-toggleable__content\"><pre>LogisticRegression(C=1000.0,\n",
       "                   class_weight={0: 0.903968253968254, 1: 0.09603174603174604},\n",
       "                   max_iter=1000, penalty=&#x27;l1&#x27;, random_state=42,\n",
       "                   solver=&#x27;liblinear&#x27;)</pre></div></div></div></div></div>"
      ],
      "text/plain": [
       "LogisticRegression(C=1000.0,\n",
       "                   class_weight={0: 0.903968253968254, 1: 0.09603174603174604},\n",
       "                   max_iter=1000, penalty='l1', random_state=42,\n",
       "                   solver='liblinear')"
      ]
     },
     "execution_count": 16,
     "metadata": {},
     "output_type": "execute_result"
    }
   ],
   "source": [
    "model = LogisticRegression(class_weight=w, random_state=42, max_iter=1000, **study.best_params)\n",
    "model.fit(train.vector.to_list(), train.label.to_list())"
   ]
  },
  {
   "cell_type": "code",
   "execution_count": 17,
   "metadata": {},
   "outputs": [],
   "source": [
    "preds_test = model.predict(test.vector.to_list())"
   ]
  },
  {
   "cell_type": "code",
   "execution_count": 18,
   "metadata": {},
   "outputs": [
    {
     "name": "stdout",
     "output_type": "stream",
     "text": [
      "              precision    recall  f1-score   support\n",
      "\n",
      " transparent       0.95      0.95      0.95       380\n",
      "  propaganda       0.50      0.50      0.50        40\n",
      "\n",
      "    accuracy                           0.90       420\n",
      "   macro avg       0.72      0.72      0.72       420\n",
      "weighted avg       0.90      0.90      0.90       420\n",
      "\n"
     ]
    }
   ],
   "source": [
    "print(\n",
    "    classification_report(test.label.to_list(), preds_test, target_names=label_names)\n",
    ")"
   ]
  },
  {
   "cell_type": "code",
   "execution_count": 19,
   "metadata": {},
   "outputs": [
    {
     "data": {
      "image/png": "[encoded data removed]",
      "text/plain": [
       "<Figure size 640x480 with 2 Axes>"
      ]
     },
     "metadata": {},
     "output_type": "display_data"
    }
   ],
   "source": [
    "cm = confusion_matrix(test.label.to_list(), preds_test)\n",
    "disp = ConfusionMatrixDisplay(confusion_matrix=cm, display_labels=label_names)\n",
    "\n",
    "disp.plot()\n",
    "plt.show()"
   ]
  }
 ],
 "metadata": {
  "kernelspec": {
   "display_name": "Python 3 (ipykernel)",
   "language": "python",
   "name": "python3"
  },
  "language_info": {
   "codemirror_mode": {
    "name": "ipython",
    "version": 3
   },
   "file_extension": ".py",
   "mimetype": "text/x-python",
   "name": "python",
   "nbconvert_exporter": "python",
   "pygments_lexer": "ipython3",
   "version": "3.8.17"
  }
 },
 "nbformat": 4,
 "nbformat_minor": 2
}
