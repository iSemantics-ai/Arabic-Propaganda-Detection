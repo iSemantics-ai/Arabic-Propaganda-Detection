{
 "cells": [
  {
   "cell_type": "markdown",
   "id": "3ceb6a84",
   "metadata": {},
   "source": [
    "# Labeling Functions Ideas\n"
   ]
  },
  {
   "cell_type": "markdown",
   "id": "1f1031e6",
   "metadata": {},
   "source": [
    "Exploring the LFs ideas behind users meta data, propaganda techniques, and assumptions made about the task.\n",
    "\n",
    "Focusing only on the propaganda techniques in this file.\n"
   ]
  },
  {
   "cell_type": "code",
   "execution_count": 1,
   "id": "6a8e8b22",
   "metadata": {},
   "outputs": [],
   "source": [
    "import re\n",
    "import glob\n",
    "import emoji\n",
    "import json\n",
    "import random\n",
    "import stanza\n",
    "import numpy as np\n",
    "import pandas as pd\n",
    "import seaborn as sns\n",
    "from tqdm.auto import tqdm\n",
    "from nltk.corpus import stopwords\n",
    "from nltk.tokenize import word_tokenize\n",
    "from transformers import pipeline\n",
    "\n",
    "sns.set()\n",
    "%matplotlib inline"
   ]
  },
  {
   "cell_type": "code",
   "execution_count": 2,
   "id": "0f557a50",
   "metadata": {},
   "outputs": [],
   "source": [
    "# defining data paths\n",
    "\n",
    "prop_data_path = \"../data/processed/propaganda.json\"\n",
    "gen_data_paths = \"../data/processed/genuine*.json\"\n",
    "access_tokens_path = \"../data/access_tokens.json\"\n",
    "\n",
    "prop_data_annotated = \"../data/processed/propaganda_annotated.pkl\"\n",
    "gen_data_annotated = \"../data/processed/genuine_annotated.pkl\""
   ]
  },
  {
   "cell_type": "code",
   "execution_count": 3,
   "id": "1b116f8d",
   "metadata": {},
   "outputs": [],
   "source": [
    "# defining HuggingFace models checkpoints\n",
    "\n",
    "sarcasm_model_ckpt = \"Bmalmotairy/marbert-finetuned-wanlp_sarcasm\"\n",
    "hate_model_ckpt = \"Andrazp/multilingual-hate-speech-robacofi\"\n",
    "zeroshot_model_ckpt = \"joeddav/xlm-roberta-large-xnli\""
   ]
  },
  {
   "cell_type": "code",
   "execution_count": 4,
   "id": "0869a470",
   "metadata": {},
   "outputs": [],
   "source": [
    "# loading the HuggingFace access tokens\n",
    "\n",
    "with open(access_tokens_path) as f:\n",
    "    hf_key = json.load(f)[\"huggingface\"][\"read_token\"]"
   ]
  },
  {
   "cell_type": "code",
   "execution_count": 5,
   "id": "8f223fc7",
   "metadata": {},
   "outputs": [],
   "source": [
    "# defining the emoji count engine\n",
    "\n",
    "em_engine = emoji.emoji_count  # this is a function"
   ]
  },
  {
   "cell_type": "code",
   "execution_count": 6,
   "id": "3c8ab85a",
   "metadata": {},
   "outputs": [
    {
     "data": {
      "text/html": [
       "<div>\n",
       "<style scoped>\n",
       "    .dataframe tbody tr th:only-of-type {\n",
       "        vertical-align: middle;\n",
       "    }\n",
       "\n",
       "    .dataframe tbody tr th {\n",
       "        vertical-align: top;\n",
       "    }\n",
       "\n",
       "    .dataframe thead th {\n",
       "        text-align: right;\n",
       "    }\n",
       "</style>\n",
       "<table border=\"1\" class=\"dataframe\">\n",
       "  <thead>\n",
       "    <tr style=\"text-align: right;\">\n",
       "      <th></th>\n",
       "      <th>tweetid</th>\n",
       "      <th>userid</th>\n",
       "      <th>user_display_name</th>\n",
       "      <th>user_screen_name</th>\n",
       "      <th>user_reported_location</th>\n",
       "      <th>user_profile_description</th>\n",
       "      <th>follower_count</th>\n",
       "      <th>following_count</th>\n",
       "      <th>account_creation_date</th>\n",
       "      <th>tweet_text</th>\n",
       "      <th>is_retweet</th>\n",
       "      <th>quote_count</th>\n",
       "      <th>reply_count</th>\n",
       "      <th>like_count</th>\n",
       "      <th>retweet_count</th>\n",
       "      <th>hashtags</th>\n",
       "      <th>urls</th>\n",
       "      <th>user_mentions</th>\n",
       "      <th>text</th>\n",
       "    </tr>\n",
       "  </thead>\n",
       "  <tbody>\n",
       "    <tr>\n",
       "      <th>0</th>\n",
       "      <td>1161436140945195008</td>\n",
       "      <td>392352672</td>\n",
       "      <td>نجديه عذيه .</td>\n",
       "      <td>Ksa_FO1</td>\n",
       "      <td>نجد العذيه للدعم</td>\n",
       "      <td>مابادل اقل من ٥ الاف ولا أقبل المقدم بدون طلب ...</td>\n",
       "      <td>70616</td>\n",
       "      <td>52577</td>\n",
       "      <td>1318723200000</td>\n",
       "      <td>RT @GROB_07: #حـسـآب_تـمــيزة_بـتـفـاعـل 💫\\n⠀┈...</td>\n",
       "      <td>True</td>\n",
       "      <td>0</td>\n",
       "      <td>0</td>\n",
       "      <td>0</td>\n",
       "      <td>0</td>\n",
       "      <td>3</td>\n",
       "      <td>0</td>\n",
       "      <td>2</td>\n",
       "      <td>حـسـآب تـمــيزة بـتـفـاعـل ⠀┈┉━◈♔♚♔◈━┅┄ نجــــ...</td>\n",
       "    </tr>\n",
       "    <tr>\n",
       "      <th>1</th>\n",
       "      <td>764273648496742400</td>\n",
       "      <td>4708503082</td>\n",
       "      <td>ْ‏ོ جود العبداللّهہ|| ོالتنبيهات ما توصل</td>\n",
       "      <td>j06__</td>\n",
       "      <td>None</td>\n",
       "      <td>‏‏‏‏‏‏‏‏‏‏‏إنه يستجيب منذُ أن دعوُت ولگِن يُدب...</td>\n",
       "      <td>60061</td>\n",
       "      <td>2617</td>\n",
       "      <td>1451865600000</td>\n",
       "      <td>اللهم اكثر من امثالي ليعم الخير و تعم السعادة ...</td>\n",
       "      <td>False</td>\n",
       "      <td>0</td>\n",
       "      <td>0</td>\n",
       "      <td>0</td>\n",
       "      <td>0</td>\n",
       "      <td>1</td>\n",
       "      <td>0</td>\n",
       "      <td>0</td>\n",
       "      <td>اللهم اكثر من امثالي ليعم الخير و تعم السعادة ...</td>\n",
       "    </tr>\n",
       "  </tbody>\n",
       "</table>\n",
       "</div>"
      ],
      "text/plain": [
       "               tweetid      userid                         user_display_name  \\\n",
       "0  1161436140945195008   392352672                              نجديه عذيه .   \n",
       "1   764273648496742400  4708503082  ْ‏ོ جود العبداللّهہ|| ོالتنبيهات ما توصل   \n",
       "\n",
       "  user_screen_name user_reported_location  \\\n",
       "0          Ksa_FO1       نجد العذيه للدعم   \n",
       "1            j06__                   None   \n",
       "\n",
       "                            user_profile_description  follower_count  \\\n",
       "0  مابادل اقل من ٥ الاف ولا أقبل المقدم بدون طلب ...           70616   \n",
       "1  ‏‏‏‏‏‏‏‏‏‏‏إنه يستجيب منذُ أن دعوُت ولگِن يُدب...           60061   \n",
       "\n",
       "   following_count  account_creation_date  \\\n",
       "0            52577          1318723200000   \n",
       "1             2617          1451865600000   \n",
       "\n",
       "                                          tweet_text  is_retweet  quote_count  \\\n",
       "0  RT @GROB_07: #حـسـآب_تـمــيزة_بـتـفـاعـل 💫\\n⠀┈...        True            0   \n",
       "1  اللهم اكثر من امثالي ليعم الخير و تعم السعادة ...       False            0   \n",
       "\n",
       "   reply_count  like_count  retweet_count  hashtags  urls  user_mentions  \\\n",
       "0            0           0              0         3     0              2   \n",
       "1            0           0              0         1     0              0   \n",
       "\n",
       "                                                text  \n",
       "0  حـسـآب تـمــيزة بـتـفـاعـل ⠀┈┉━◈♔♚♔◈━┅┄ نجــــ...  \n",
       "1  اللهم اكثر من امثالي ليعم الخير و تعم السعادة ...  "
      ]
     },
     "execution_count": 6,
     "metadata": {},
     "output_type": "execute_result"
    }
   ],
   "source": [
    "prop_data = pd.read_json(prop_data_path)\n",
    "prop_data.head(2)"
   ]
  },
  {
   "cell_type": "code",
   "execution_count": 7,
   "id": "5b6db045",
   "metadata": {},
   "outputs": [
    {
     "name": "stdout",
     "output_type": "stream",
     "text": [
      "<class 'pandas.core.frame.DataFrame'>\n",
      "Index: 56000 entries, 0 to 55999\n",
      "Data columns (total 19 columns):\n",
      " #   Column                    Non-Null Count  Dtype \n",
      "---  ------                    --------------  ----- \n",
      " 0   tweetid                   56000 non-null  int64 \n",
      " 1   userid                    56000 non-null  object\n",
      " 2   user_display_name         56000 non-null  object\n",
      " 3   user_screen_name          56000 non-null  object\n",
      " 4   user_reported_location    36366 non-null  object\n",
      " 5   user_profile_description  51749 non-null  object\n",
      " 6   follower_count            56000 non-null  int64 \n",
      " 7   following_count           56000 non-null  int64 \n",
      " 8   account_creation_date     56000 non-null  int64 \n",
      " 9   tweet_text                56000 non-null  object\n",
      " 10  is_retweet                56000 non-null  bool  \n",
      " 11  quote_count               56000 non-null  int64 \n",
      " 12  reply_count               56000 non-null  int64 \n",
      " 13  like_count                56000 non-null  int64 \n",
      " 14  retweet_count             56000 non-null  int64 \n",
      " 15  hashtags                  56000 non-null  int64 \n",
      " 16  urls                      56000 non-null  int64 \n",
      " 17  user_mentions             56000 non-null  int64 \n",
      " 18  text                      56000 non-null  object\n",
      "dtypes: bool(1), int64(11), object(7)\n",
      "memory usage: 8.2+ MB\n"
     ]
    }
   ],
   "source": [
    "prop_data.info()"
   ]
  },
  {
   "cell_type": "code",
   "execution_count": 8,
   "id": "9e36e2a2",
   "metadata": {},
   "outputs": [
    {
     "data": {
      "text/plain": [
       "['../data/processed\\\\genuine_banking.json',\n",
       " '../data/processed\\\\genuine_gov.json',\n",
       " '../data/processed\\\\genuine_jour.json',\n",
       " '../data/processed\\\\genuine_news.json',\n",
       " '../data/processed\\\\genuine_sports.json',\n",
       " '../data/processed\\\\genuine_univ.json']"
      ]
     },
     "execution_count": 8,
     "metadata": {},
     "output_type": "execute_result"
    }
   ],
   "source": [
    "files = glob.glob(gen_data_paths)\n",
    "files"
   ]
  },
  {
   "cell_type": "code",
   "execution_count": 9,
   "id": "e7e04a06",
   "metadata": {},
   "outputs": [],
   "source": [
    "dfs = [pd.read_json(f) for f in files]"
   ]
  },
  {
   "cell_type": "code",
   "execution_count": 10,
   "id": "d6a151f9",
   "metadata": {},
   "outputs": [],
   "source": [
    "# the following lines are to handle old version of genuine data (banking - sports).\n",
    "\n",
    "# dfs = [\n",
    "#     pd.read_json(f)\n",
    "#     for f in files\n",
    "#     if f.endswith(\"banking.json\") or f.endswith(\"sports.json\")\n",
    "# ]"
   ]
  },
  {
   "cell_type": "code",
   "execution_count": 11,
   "id": "04bab00e",
   "metadata": {},
   "outputs": [
    {
     "data": {
      "text/html": [
       "<div>\n",
       "<style scoped>\n",
       "    .dataframe tbody tr th:only-of-type {\n",
       "        vertical-align: middle;\n",
       "    }\n",
       "\n",
       "    .dataframe tbody tr th {\n",
       "        vertical-align: top;\n",
       "    }\n",
       "\n",
       "    .dataframe thead th {\n",
       "        text-align: right;\n",
       "    }\n",
       "</style>\n",
       "<table border=\"1\" class=\"dataframe\">\n",
       "  <thead>\n",
       "    <tr style=\"text-align: right;\">\n",
       "      <th></th>\n",
       "      <th>tweetid</th>\n",
       "      <th>userid</th>\n",
       "      <th>user_display_name</th>\n",
       "      <th>user_screen_name</th>\n",
       "      <th>user_reported_location</th>\n",
       "      <th>user_profile_description</th>\n",
       "      <th>follower_count</th>\n",
       "      <th>following_count</th>\n",
       "      <th>account_creation_date</th>\n",
       "      <th>tweet_text</th>\n",
       "      <th>is_retweet</th>\n",
       "      <th>quote_count</th>\n",
       "      <th>reply_count</th>\n",
       "      <th>like_count</th>\n",
       "      <th>retweet_count</th>\n",
       "      <th>hashtags</th>\n",
       "      <th>urls</th>\n",
       "      <th>user_mentions</th>\n",
       "      <th>text</th>\n",
       "    </tr>\n",
       "  </thead>\n",
       "  <tbody>\n",
       "    <tr>\n",
       "      <th>0</th>\n",
       "      <td>1526234562359066624</td>\n",
       "      <td>947365777</td>\n",
       "      <td>بنك التنمية الاجتماعية</td>\n",
       "      <td>SDB_sa</td>\n",
       "      <td>Kingdom of Saudi Arabia</td>\n",
       "      <td>بنك التنمية الاجتماعية، أحد الركائز الحكومية ا...</td>\n",
       "      <td>409379.0</td>\n",
       "      <td>12.0</td>\n",
       "      <td>2012-11-14T08:50:59.000Z</td>\n",
       "      <td>الفائز بالمركز الثالث في #هاكثون_الادخار #وزين...</td>\n",
       "      <td>False</td>\n",
       "      <td>0.0</td>\n",
       "      <td>1.0</td>\n",
       "      <td>8</td>\n",
       "      <td>2.0</td>\n",
       "      <td>2</td>\n",
       "      <td>1</td>\n",
       "      <td>0</td>\n",
       "      <td>الفائز بالمركز الثالث في هاكثون الادخار وزين ف...</td>\n",
       "    </tr>\n",
       "    <tr>\n",
       "      <th>1</th>\n",
       "      <td>1488090545981378568</td>\n",
       "      <td>2321495687</td>\n",
       "      <td>إمارة المنطقة الشرقية</td>\n",
       "      <td>emara_sharqia</td>\n",
       "      <td>None</td>\n",
       "      <td>الحساب الرسمي لـ #إمارة_المنطقة_الشرقية - المم...</td>\n",
       "      <td>477714.0</td>\n",
       "      <td>7.0</td>\n",
       "      <td>2014-02-03T08:49:37.000Z</td>\n",
       "      <td>استقبل صاحب السمو الملكي الأمير سعود بن نايف\\n...</td>\n",
       "      <td>False</td>\n",
       "      <td>0.0</td>\n",
       "      <td>5.0</td>\n",
       "      <td>32</td>\n",
       "      <td>27.0</td>\n",
       "      <td>1</td>\n",
       "      <td>2</td>\n",
       "      <td>0</td>\n",
       "      <td>استقبل صاحب السمو الملكي الأمير سعود بن نايف أ...</td>\n",
       "    </tr>\n",
       "  </tbody>\n",
       "</table>\n",
       "</div>"
      ],
      "text/plain": [
       "               tweetid      userid       user_display_name user_screen_name  \\\n",
       "0  1526234562359066624   947365777  بنك التنمية الاجتماعية           SDB_sa   \n",
       "1  1488090545981378568  2321495687   إمارة المنطقة الشرقية    emara_sharqia   \n",
       "\n",
       "    user_reported_location                           user_profile_description  \\\n",
       "0  Kingdom of Saudi Arabia  بنك التنمية الاجتماعية، أحد الركائز الحكومية ا...   \n",
       "1                     None  الحساب الرسمي لـ #إمارة_المنطقة_الشرقية - المم...   \n",
       "\n",
       "   follower_count  following_count     account_creation_date  \\\n",
       "0        409379.0             12.0  2012-11-14T08:50:59.000Z   \n",
       "1        477714.0              7.0  2014-02-03T08:49:37.000Z   \n",
       "\n",
       "                                          tweet_text  is_retweet  quote_count  \\\n",
       "0  الفائز بالمركز الثالث في #هاكثون_الادخار #وزين...       False          0.0   \n",
       "1  استقبل صاحب السمو الملكي الأمير سعود بن نايف\\n...       False          0.0   \n",
       "\n",
       "   reply_count like_count  retweet_count  hashtags  urls  user_mentions  \\\n",
       "0          1.0          8            2.0         2     1              0   \n",
       "1          5.0         32           27.0         1     2              0   \n",
       "\n",
       "                                                text  \n",
       "0  الفائز بالمركز الثالث في هاكثون الادخار وزين ف...  \n",
       "1  استقبل صاحب السمو الملكي الأمير سعود بن نايف أ...  "
      ]
     },
     "execution_count": 11,
     "metadata": {},
     "output_type": "execute_result"
    }
   ],
   "source": [
    "gen_data = pd.concat(dfs, ignore_index=True).drop_duplicates(subset=[\"tweetid\"])\n",
    "gen_data.head(2)"
   ]
  },
  {
   "cell_type": "code",
   "execution_count": 12,
   "id": "7e0dbe4d",
   "metadata": {},
   "outputs": [
    {
     "name": "stdout",
     "output_type": "stream",
     "text": [
      "<class 'pandas.core.frame.DataFrame'>\n",
      "Index: 140612 entries, 0 to 148624\n",
      "Data columns (total 19 columns):\n",
      " #   Column                    Non-Null Count   Dtype  \n",
      "---  ------                    --------------   -----  \n",
      " 0   tweetid                   140610 non-null  object \n",
      " 1   userid                    140611 non-null  object \n",
      " 2   user_display_name         131651 non-null  object \n",
      " 3   user_screen_name          131651 non-null  object \n",
      " 4   user_reported_location    109839 non-null  object \n",
      " 5   user_profile_description  131335 non-null  object \n",
      " 6   follower_count            131651 non-null  float64\n",
      " 7   following_count           131651 non-null  float64\n",
      " 8   account_creation_date     131651 non-null  object \n",
      " 9   tweet_text                140612 non-null  object \n",
      " 10  is_retweet                140612 non-null  bool   \n",
      " 11  quote_count               140607 non-null  float64\n",
      " 12  reply_count               140608 non-null  float64\n",
      " 13  like_count                140608 non-null  object \n",
      " 14  retweet_count             140608 non-null  float64\n",
      " 15  hashtags                  140612 non-null  int64  \n",
      " 16  urls                      140612 non-null  int64  \n",
      " 17  user_mentions             140612 non-null  int64  \n",
      " 18  text                      140612 non-null  object \n",
      "dtypes: bool(1), float64(5), int64(3), object(10)\n",
      "memory usage: 20.5+ MB\n"
     ]
    }
   ],
   "source": [
    "gen_data.info()"
   ]
  },
  {
   "cell_type": "code",
   "execution_count": 13,
   "id": "9fa29dc6",
   "metadata": {},
   "outputs": [],
   "source": [
    "prop_data[\"emojis\"] = prop_data.tweet_text.apply(em_engine)\n",
    "gen_data[\"emojis\"] = gen_data.tweet_text.apply(em_engine)"
   ]
  },
  {
   "cell_type": "code",
   "execution_count": 14,
   "id": "b65486a4",
   "metadata": {},
   "outputs": [
    {
     "data": {
      "text/plain": [
       "<Axes: xlabel='urls', ylabel='Count'>"
      ]
     },
     "execution_count": 14,
     "metadata": {},
     "output_type": "execute_result"
    },
    {
     "data": {
      "image/png": "[encoded data removed]",
      "text/plain": [
       "<Figure size 640x480 with 1 Axes>"
      ]
     },
     "metadata": {},
     "output_type": "display_data"
    }
   ],
   "source": [
    "sns.histplot(gen_data.urls, bins=np.arange(0, 20, 1))"
   ]
  },
  {
   "cell_type": "code",
   "execution_count": 15,
   "id": "09eb88e3",
   "metadata": {},
   "outputs": [
    {
     "data": {
      "text/plain": [
       "<Axes: xlabel='urls', ylabel='Count'>"
      ]
     },
     "execution_count": 15,
     "metadata": {},
     "output_type": "execute_result"
    },
    {
     "data": {
      "image/png": "[encoded data removed]",
      "text/plain": [
       "<Figure size 640x480 with 1 Axes>"
      ]
     },
     "metadata": {},
     "output_type": "display_data"
    }
   ],
   "source": [
    "sns.histplot(prop_data.urls, bins=np.arange(0, 20, 1))"
   ]
  },
  {
   "cell_type": "markdown",
   "id": "c87ba555",
   "metadata": {},
   "source": [
    "It seems that genuine users tend to add `at least one URL` in their tweets. On the other hand, propagandist users tend to `ignore adding any URLs`.\n"
   ]
  },
  {
   "cell_type": "code",
   "execution_count": 16,
   "id": "92e156dc",
   "metadata": {},
   "outputs": [
    {
     "data": {
      "text/plain": [
       "<Axes: xlabel='hashtags', ylabel='Count'>"
      ]
     },
     "execution_count": 16,
     "metadata": {},
     "output_type": "execute_result"
    },
    {
     "data": {
      "image/png": "[encoded data removed]",
      "text/plain": [
       "<Figure size 640x480 with 1 Axes>"
      ]
     },
     "metadata": {},
     "output_type": "display_data"
    }
   ],
   "source": [
    "sns.histplot(gen_data.hashtags, bins=np.arange(0, 20, 1))"
   ]
  },
  {
   "cell_type": "code",
   "execution_count": 17,
   "id": "51353342",
   "metadata": {},
   "outputs": [
    {
     "data": {
      "text/plain": [
       "<Axes: xlabel='hashtags', ylabel='Count'>"
      ]
     },
     "execution_count": 17,
     "metadata": {},
     "output_type": "execute_result"
    },
    {
     "data": {
      "image/png": "[encoded data removed]",
      "text/plain": [
       "<Figure size 640x480 with 1 Axes>"
      ]
     },
     "metadata": {},
     "output_type": "display_data"
    }
   ],
   "source": [
    "sns.histplot(prop_data.hashtags, bins=np.arange(0, 20, 1))"
   ]
  },
  {
   "cell_type": "markdown",
   "id": "84bc8c4e",
   "metadata": {},
   "source": [
    "Hashtags are equivalently present in both categories (gen, prop).\n"
   ]
  },
  {
   "cell_type": "code",
   "execution_count": 18,
   "id": "d54bbd16",
   "metadata": {},
   "outputs": [
    {
     "data": {
      "text/plain": [
       "<Axes: xlabel='emojis', ylabel='Count'>"
      ]
     },
     "execution_count": 18,
     "metadata": {},
     "output_type": "execute_result"
    },
    {
     "data": {
      "image/png": "[encoded data removed]",
      "text/plain": [
       "<Figure size 640x480 with 1 Axes>"
      ]
     },
     "metadata": {},
     "output_type": "display_data"
    }
   ],
   "source": [
    "sns.histplot(gen_data.emojis, bins=np.arange(0, 20, 1))"
   ]
  },
  {
   "cell_type": "code",
   "execution_count": 19,
   "id": "af42ea84",
   "metadata": {},
   "outputs": [
    {
     "data": {
      "text/plain": [
       "<Axes: xlabel='emojis', ylabel='Count'>"
      ]
     },
     "execution_count": 19,
     "metadata": {},
     "output_type": "execute_result"
    },
    {
     "data": {
      "image/png": "[encoded data removed]",
      "text/plain": [
       "<Figure size 640x480 with 1 Axes>"
      ]
     },
     "metadata": {},
     "output_type": "display_data"
    }
   ],
   "source": [
    "sns.histplot(prop_data.emojis, bins=np.arange(0, 20, 1))"
   ]
  },
  {
   "cell_type": "markdown",
   "id": "90c952e4",
   "metadata": {},
   "source": [
    "No difference in the two worlds.\n"
   ]
  },
  {
   "cell_type": "code",
   "execution_count": 20,
   "id": "d628cd99",
   "metadata": {},
   "outputs": [
    {
     "data": {
      "text/plain": [
       "<Axes: xlabel='user_mentions', ylabel='Count'>"
      ]
     },
     "execution_count": 20,
     "metadata": {},
     "output_type": "execute_result"
    },
    {
     "data": {
      "image/png": "[encoded data removed]",
      "text/plain": [
       "<Figure size 640x480 with 1 Axes>"
      ]
     },
     "metadata": {},
     "output_type": "display_data"
    }
   ],
   "source": [
    "sns.histplot(gen_data.user_mentions, bins=np.arange(0, 20, 1))"
   ]
  },
  {
   "cell_type": "code",
   "execution_count": 21,
   "id": "61fc6bfa",
   "metadata": {},
   "outputs": [
    {
     "data": {
      "text/plain": [
       "<Axes: xlabel='user_mentions', ylabel='Count'>"
      ]
     },
     "execution_count": 21,
     "metadata": {},
     "output_type": "execute_result"
    },
    {
     "data": {
      "image/png": "[encoded data removed]",
      "text/plain": [
       "<Figure size 640x480 with 1 Axes>"
      ]
     },
     "metadata": {},
     "output_type": "display_data"
    }
   ],
   "source": [
    "sns.histplot(prop_data.user_mentions, bins=np.arange(0, 20, 1))"
   ]
  },
  {
   "cell_type": "markdown",
   "id": "d04cd4aa",
   "metadata": {},
   "source": [
    "It seems that propagandists tend to mention at least one person in the tweet as opposite to genuine users. But, does a propagandist mention themselves in their tweets?\n"
   ]
  },
  {
   "cell_type": "code",
   "execution_count": 22,
   "id": "f3e173d0",
   "metadata": {},
   "outputs": [
    {
     "data": {
      "application/vnd.jupyter.widget-view+json": {
       "model_id": "834b77b5ca2948afb3c1b19c9e6e446b",
       "version_major": 2,
       "version_minor": 0
      },
      "text/plain": [
       "  0%|          | 0/56000 [00:00<?, ?it/s]"
      ]
     },
     "metadata": {},
     "output_type": "display_data"
    }
   ],
   "source": [
    "mentions_engine = re.compile(r\"@\\w+\")\n",
    "\n",
    "prop_self_mentions = [\n",
    "    r.user_screen_name in mentions_engine.findall(r.tweet_text)\n",
    "    for _, r in tqdm(prop_data.iterrows(), total=len(prop_data))\n",
    "]"
   ]
  },
  {
   "cell_type": "code",
   "execution_count": 23,
   "id": "6db8f196",
   "metadata": {},
   "outputs": [
    {
     "data": {
      "text/plain": [
       "False    56000\n",
       "Name: count, dtype: int64"
      ]
     },
     "execution_count": 23,
     "metadata": {},
     "output_type": "execute_result"
    }
   ],
   "source": [
    "pd.Series(prop_self_mentions).value_counts()"
   ]
  },
  {
   "cell_type": "code",
   "execution_count": 24,
   "id": "1cac505e",
   "metadata": {},
   "outputs": [
    {
     "data": {
      "application/vnd.jupyter.widget-view+json": {
       "model_id": "7afd459cfed94146bd30fcfe1f3798df",
       "version_major": 2,
       "version_minor": 0
      },
      "text/plain": [
       "  0%|          | 0/140612 [00:00<?, ?it/s]"
      ]
     },
     "metadata": {},
     "output_type": "display_data"
    }
   ],
   "source": [
    "gen_self_mentions = [\n",
    "    r.user_screen_name in mentions_engine.findall(r.tweet_text)\n",
    "    for _, r in tqdm(gen_data.iterrows(), total=len(gen_data))\n",
    "]"
   ]
  },
  {
   "cell_type": "code",
   "execution_count": 25,
   "id": "872d32ee",
   "metadata": {},
   "outputs": [
    {
     "data": {
      "text/plain": [
       "False    140612\n",
       "Name: count, dtype: int64"
      ]
     },
     "execution_count": 25,
     "metadata": {},
     "output_type": "execute_result"
    }
   ],
   "source": [
    "pd.Series(gen_self_mentions).value_counts()"
   ]
  },
  {
   "cell_type": "markdown",
   "id": "20c850f0",
   "metadata": {},
   "source": [
    "No self-mentions at all.\n"
   ]
  },
  {
   "cell_type": "code",
   "execution_count": 26,
   "id": "7fbe972c",
   "metadata": {},
   "outputs": [],
   "source": [
    "# word count in all tweets with stop words\n",
    "\n",
    "gen_data[\"word_count\"] = gen_data.text.apply(lambda x: len(word_tokenize(x)))\n",
    "prop_data[\"word_count\"] = prop_data.text.apply(lambda x: len(word_tokenize(x)))"
   ]
  },
  {
   "cell_type": "code",
   "execution_count": 27,
   "id": "76d17547",
   "metadata": {},
   "outputs": [
    {
     "data": {
      "text/plain": [
       "<Axes: xlabel='word_count', ylabel='Count'>"
      ]
     },
     "execution_count": 27,
     "metadata": {},
     "output_type": "execute_result"
    },
    {
     "data": {
      "image/png": "[encoded data removed]",
      "text/plain": [
       "<Figure size 640x480 with 1 Axes>"
      ]
     },
     "metadata": {},
     "output_type": "display_data"
    }
   ],
   "source": [
    "sns.histplot(gen_data.word_count, bins=np.arange(0, 70, 5))"
   ]
  },
  {
   "cell_type": "code",
   "execution_count": 28,
   "id": "c21d8f1d",
   "metadata": {},
   "outputs": [
    {
     "data": {
      "text/plain": [
       "<Axes: xlabel='word_count', ylabel='Count'>"
      ]
     },
     "execution_count": 28,
     "metadata": {},
     "output_type": "execute_result"
    },
    {
     "data": {
      "image/png": "[encoded data removed]",
      "text/plain": [
       "<Figure size 640x480 with 1 Axes>"
      ]
     },
     "metadata": {},
     "output_type": "display_data"
    }
   ],
   "source": [
    "sns.histplot(prop_data.word_count, bins=np.arange(0, 70, 5))"
   ]
  },
  {
   "cell_type": "markdown",
   "id": "2fbd0466",
   "metadata": {},
   "source": [
    "We have some propagandist users tweet in less than 5 words. But, do these tweets contain propaganda techniques? we will find out by providing number of words as a propaganda flag.\n"
   ]
  },
  {
   "cell_type": "code",
   "execution_count": 29,
   "id": "b817a813",
   "metadata": {},
   "outputs": [],
   "source": [
    "# word cloud with stop words\n",
    "\n",
    "gen_words, prop_words = [], []\n",
    "\n",
    "for _, r in gen_data.iterrows():\n",
    "    if not pd.isna(r.text):\n",
    "        gen_words.extend(word_tokenize(r.text))\n",
    "\n",
    "for _, r in prop_data.iterrows():\n",
    "    if not pd.isna(r.user_profile_description):\n",
    "        prop_words.extend(word_tokenize(r.text))"
   ]
  },
  {
   "cell_type": "code",
   "execution_count": 30,
   "id": "8f9c2b8a",
   "metadata": {
    "scrolled": false
   },
   "outputs": [
    {
     "data": {
      "text/plain": [
       "في       67687\n",
       ".        51074\n",
       "من       45532\n",
       ":        38218\n",
       "..       34153\n",
       "ولي      30447\n",
       "العهد    29211\n",
       "على      27512\n",
       "بن       19569\n",
       "أسعار    17673\n",
       "Name: count, dtype: int64"
      ]
     },
     "execution_count": 30,
     "metadata": {},
     "output_type": "execute_result"
    }
   ],
   "source": [
    "pd.Series(gen_words).value_counts()[:10]"
   ]
  },
  {
   "cell_type": "code",
   "execution_count": 31,
   "id": "4fa8dcd2",
   "metadata": {
    "scrolled": false
   },
   "outputs": [
    {
     "data": {
      "text/plain": [
       "الله     14420\n",
       "من       13558\n",
       ".        12306\n",
       "في        9763\n",
       "..        7725\n",
       ":         7599\n",
       "لا        6257\n",
       "على       5749\n",
       "،         5431\n",
       "اللهم     5175\n",
       "Name: count, dtype: int64"
      ]
     },
     "execution_count": 31,
     "metadata": {},
     "output_type": "execute_result"
    }
   ],
   "source": [
    "pd.Series(prop_words).value_counts()[:10]"
   ]
  },
  {
   "cell_type": "code",
   "execution_count": 32,
   "id": "41680d72",
   "metadata": {},
   "outputs": [
    {
     "data": {
      "text/plain": [
       "['شباط',\n",
       " 'أ',\n",
       " 'اللذين',\n",
       " 'بماذا',\n",
       " 'تسعة',\n",
       " 'أجل',\n",
       " 'الألى',\n",
       " 'هَؤلاء',\n",
       " 'ثالث',\n",
       " 'بئس']"
      ]
     },
     "execution_count": 32,
     "metadata": {},
     "output_type": "execute_result"
    }
   ],
   "source": [
    "# word cloud without stop words\n",
    "\n",
    "sw = stopwords.words(\"arabic\")\n",
    "random.sample(sw, 10)"
   ]
  },
  {
   "cell_type": "code",
   "execution_count": 33,
   "id": "f91dab5e",
   "metadata": {},
   "outputs": [],
   "source": [
    "gen_words_sw = list(np.array(gen_words)[~np.in1d(gen_words, sw)])\n",
    "prop_words_sw = list(np.array(prop_words)[~np.in1d(prop_words, sw)])"
   ]
  },
  {
   "cell_type": "code",
   "execution_count": 34,
   "id": "00df78b9",
   "metadata": {
    "scrolled": false
   },
   "outputs": [
    {
     "data": {
      "text/plain": [
       "['.', ':', '..', 'ولي', 'العهد', 'بن', 'أسعار', \"''\", '``', 'سمو']"
      ]
     },
     "execution_count": 34,
     "metadata": {},
     "output_type": "execute_result"
    }
   ],
   "source": [
    "pd.Series(gen_words_sw).value_counts()[:10].index.tolist()"
   ]
  },
  {
   "cell_type": "code",
   "execution_count": 35,
   "id": "cae0b9eb",
   "metadata": {
    "scrolled": false
   },
   "outputs": [
    {
     "data": {
      "text/plain": [
       "['الله', '.', '..', ':', '،', 'اللهم', '!', 'قروب', '(', 'للدعم']"
      ]
     },
     "execution_count": 35,
     "metadata": {},
     "output_type": "execute_result"
    }
   ],
   "source": [
    "pd.Series(prop_words_sw).value_counts()[:10].index.tolist()"
   ]
  },
  {
   "cell_type": "markdown",
   "id": "5bff3878",
   "metadata": {},
   "source": [
    "Loaded language key words should be extacted from the most repeated words by propagandists.\n"
   ]
  },
  {
   "cell_type": "code",
   "execution_count": 36,
   "id": "5b3c593d",
   "metadata": {},
   "outputs": [
    {
     "data": {
      "application/vnd.jupyter.widget-view+json": {
       "model_id": "0357d7ec9b814def909c25d67a74620b",
       "version_major": 2,
       "version_minor": 0
      },
      "text/plain": [
       "Downloading https://raw.githubusercontent.com/stanfordnlp/stanza-resources/main/resources_1.5.0.json:   0%|   …"
      ]
     },
     "metadata": {},
     "output_type": "display_data"
    },
    {
     "name": "stderr",
     "output_type": "stream",
     "text": [
      "2023-10-23 18:27:35 INFO: Downloading default packages for language: ar (Arabic) ...\n",
      "2023-10-23 18:27:36 INFO: File exists: C:\\Users\\ehhho\\stanza_resources\\ar\\default.zip\n",
      "2023-10-23 18:27:39 INFO: Finished downloading models and saved to C:\\Users\\ehhho\\stanza_resources.\n",
      "2023-10-23 18:27:39 INFO: Loading these models for language: ar (Arabic):\n",
      "=======================\n",
      "| Processor | Package |\n",
      "-----------------------\n",
      "| tokenize  | padt    |\n",
      "| mwt       | padt    |\n",
      "| pos       | padt    |\n",
      "| lemma     | padt    |\n",
      "| depparse  | padt    |\n",
      "| ner       | aqmar   |\n",
      "=======================\n",
      "\n",
      "2023-10-23 18:27:39 INFO: Using device: cuda\n",
      "2023-10-23 18:27:39 INFO: Loading: tokenize\n",
      "2023-10-23 18:27:47 INFO: Loading: mwt\n",
      "2023-10-23 18:27:47 INFO: Loading: pos\n",
      "2023-10-23 18:27:48 INFO: Loading: lemma\n",
      "2023-10-23 18:27:48 INFO: Loading: depparse\n",
      "2023-10-23 18:27:49 INFO: Loading: ner\n",
      "2023-10-23 18:27:50 INFO: Done loading processors!\n"
     ]
    }
   ],
   "source": [
    "# multiple preprocessing steps using stanza pipeline\n",
    "\n",
    "stanza.download(\"ar\")\n",
    "arnlp = stanza.Pipeline(\"ar\", verbose=True, download_method=None)"
   ]
  },
  {
   "cell_type": "code",
   "execution_count": 37,
   "id": "6e16e592",
   "metadata": {},
   "outputs": [],
   "source": [
    "docs = [stanza.Document([], text=t) for t in gen_data.text.to_list()]\n",
    "docs = arnlp(docs)"
   ]
  },
  {
   "cell_type": "code",
   "execution_count": 38,
   "id": "bee9b9f0",
   "metadata": {},
   "outputs": [],
   "source": [
    "gen_data[\"docs\"] = docs"
   ]
  },
  {
   "cell_type": "code",
   "execution_count": 39,
   "id": "18dc0d72",
   "metadata": {},
   "outputs": [],
   "source": [
    "docs = [stanza.Document([], text=t) for t in prop_data.text.to_list()]\n",
    "docs = arnlp(docs)"
   ]
  },
  {
   "cell_type": "code",
   "execution_count": 40,
   "id": "735cc530",
   "metadata": {},
   "outputs": [],
   "source": [
    "prop_data[\"docs\"] = docs"
   ]
  },
  {
   "cell_type": "code",
   "execution_count": 41,
   "id": "0afa147f",
   "metadata": {},
   "outputs": [],
   "source": [
    "# getting the number of entities per tweet\n",
    "\n",
    "gen_num_ents = [len(es.entities) for es in gen_data.docs]\n",
    "prop_num_ents = [len(es.entities) for es in prop_data.docs]"
   ]
  },
  {
   "cell_type": "code",
   "execution_count": 42,
   "id": "86eaeb13",
   "metadata": {},
   "outputs": [
    {
     "data": {
      "text/plain": [
       "<Axes: ylabel='Count'>"
      ]
     },
     "execution_count": 42,
     "metadata": {},
     "output_type": "execute_result"
    },
    {
     "data": {
      "image/png": "[encoded data removed]",
      "text/plain": [
       "<Figure size 640x480 with 1 Axes>"
      ]
     },
     "metadata": {},
     "output_type": "display_data"
    }
   ],
   "source": [
    "sns.histplot(gen_num_ents, bins=np.arange(0, 15, 1))"
   ]
  },
  {
   "cell_type": "code",
   "execution_count": 43,
   "id": "e86290bf",
   "metadata": {},
   "outputs": [
    {
     "data": {
      "text/plain": [
       "<Axes: ylabel='Count'>"
      ]
     },
     "execution_count": 43,
     "metadata": {},
     "output_type": "execute_result"
    },
    {
     "data": {
      "image/png": "[encoded data removed]",
      "text/plain": [
       "<Figure size 640x480 with 1 Axes>"
      ]
     },
     "metadata": {},
     "output_type": "display_data"
    }
   ],
   "source": [
    "sns.histplot(prop_num_ents, bins=np.arange(0, 15, 1))"
   ]
  },
  {
   "cell_type": "markdown",
   "id": "bd07e248",
   "metadata": {},
   "source": [
    "Same distribution and no difference.\n"
   ]
  },
  {
   "cell_type": "code",
   "execution_count": 5,
   "id": "783ca776",
   "metadata": {},
   "outputs": [],
   "source": [
    "import torch\n",
    "\n",
    "# remove stanza model from GPU\n",
    "arnlp = None\n",
    "\n",
    "# clear GPU memory\n",
    "torch.cuda.empty_cache()"
   ]
  },
  {
   "cell_type": "code",
   "execution_count": 6,
   "id": "f19339dc",
   "metadata": {},
   "outputs": [],
   "source": [
    "batch_size = 256"
   ]
  },
  {
   "cell_type": "code",
   "execution_count": 50,
   "id": "4158f671",
   "metadata": {},
   "outputs": [],
   "source": [
    "# sarcasm speech detection\n",
    "\n",
    "sarcasm_model = pipeline(\n",
    "    task=\"text-classification\",\n",
    "    model=sarcasm_model_ckpt,\n",
    "    batch_size=batch_size,\n",
    "    device=\"cuda\",\n",
    "    token=hf_key,\n",
    ")"
   ]
  },
  {
   "cell_type": "code",
   "execution_count": 51,
   "id": "c78a9076",
   "metadata": {},
   "outputs": [
    {
     "name": "stdout",
     "output_type": "stream",
     "text": [
      "Text: الفائز بالمركز الثالث في هاكثون الادخار وزين فريق إيزان بفكرة تطبيق يختص بالتقنية المالية الشخصية من تتبع وادارة المصاريف والحصول على قروض مصغرة.\n",
      "Classification: [{'label': 'Non-Sarcasm', 'score': 0.9976761937141418}]\n"
     ]
    }
   ],
   "source": [
    "print(f\"Text: {gen_data.text[0]}\\nClassification: {sarcasm_model(gen_data.text[0])}\")"
   ]
  },
  {
   "cell_type": "code",
   "execution_count": 52,
   "id": "9e2c50e2",
   "metadata": {},
   "outputs": [],
   "source": [
    "sarcasm_preds = sarcasm_model(gen_data.text.to_list())\n",
    "gen_data[\"sarcasm\"] = sarcasm_preds"
   ]
  },
  {
   "cell_type": "code",
   "execution_count": 53,
   "id": "b0b8f4d4",
   "metadata": {},
   "outputs": [
    {
     "data": {
      "text/plain": [
       "Non-Sarcasm    139121\n",
       "Sarcasm          1491\n",
       "Name: count, dtype: int64"
      ]
     },
     "execution_count": 53,
     "metadata": {},
     "output_type": "execute_result"
    }
   ],
   "source": [
    "pd.Series([t[\"label\"] for t in gen_data.sarcasm]).value_counts()"
   ]
  },
  {
   "cell_type": "code",
   "execution_count": 54,
   "id": "6dc6e189",
   "metadata": {},
   "outputs": [],
   "source": [
    "sarcasm_preds = sarcasm_model(prop_data.text.to_list())\n",
    "prop_data[\"sarcasm\"] = sarcasm_preds"
   ]
  },
  {
   "cell_type": "code",
   "execution_count": 55,
   "id": "e0c2908e",
   "metadata": {},
   "outputs": [
    {
     "data": {
      "text/plain": [
       "Non-Sarcasm    55111\n",
       "Sarcasm          889\n",
       "Name: count, dtype: int64"
      ]
     },
     "execution_count": 55,
     "metadata": {},
     "output_type": "execute_result"
    }
   ],
   "source": [
    "pd.Series([t[\"label\"] for t in prop_data.sarcasm]).value_counts()"
   ]
  },
  {
   "cell_type": "code",
   "execution_count": 56,
   "id": "012ef384",
   "metadata": {},
   "outputs": [
    {
     "data": {
      "text/plain": [
       "0       55547\n",
       "True      453\n",
       "Name: count, dtype: int64"
      ]
     },
     "execution_count": 56,
     "metadata": {},
     "output_type": "execute_result"
    }
   ],
   "source": [
    "# for the technique of name calling or labeling,\n",
    "# are there any sarcasm tweets that contain entities?\n",
    "\n",
    "name_calling = []\n",
    "for _, r in prop_data.iterrows():\n",
    "    name_calling.append(len(r.docs.entities) and r.sarcasm[\"label\"] == \"Sarcasm\")\n",
    "\n",
    "pd.Series(name_calling).value_counts()"
   ]
  },
  {
   "cell_type": "markdown",
   "id": "9162cfdb",
   "metadata": {},
   "source": [
    "We can assume that we have 0.5K tweets by propagandists that contain the name calling technique.\n"
   ]
  },
  {
   "cell_type": "code",
   "execution_count": 57,
   "id": "d8de01b0",
   "metadata": {},
   "outputs": [
    {
     "data": {
      "text/plain": [
       "False    139538\n",
       "True       1074\n",
       "Name: count, dtype: int64"
      ]
     },
     "execution_count": 57,
     "metadata": {},
     "output_type": "execute_result"
    }
   ],
   "source": [
    "name_calling = []\n",
    "for _, r in gen_data.iterrows():\n",
    "    name_calling.append(len(r.docs.entities) and r.sarcasm[\"label\"] == \"Sarcasm\")\n",
    "\n",
    "pd.Series(name_calling).value_counts()"
   ]
  },
  {
   "cell_type": "markdown",
   "id": "b18e883c",
   "metadata": {},
   "source": [
    "Also, We can assume that we have 1K tweets by genuine users that contain the name calling technique.\n"
   ]
  },
  {
   "cell_type": "code",
   "execution_count": 58,
   "id": "2ab90fc3",
   "metadata": {},
   "outputs": [],
   "source": [
    "# trying to detect the doubt technique by detecting questions\n",
    "# the doubt question ar mainly 'هل', so we will be detecting auxs\n",
    "\n",
    "gen_contain_q = []\n",
    "for doc in gen_data.docs:\n",
    "    contain = False\n",
    "    if len(doc.sentences) != 0:\n",
    "        for word in doc.sentences[0].words:\n",
    "            if word.upos == \"AUX\":\n",
    "                contain = True\n",
    "                break\n",
    "    gen_contain_q.append(contain)"
   ]
  },
  {
   "cell_type": "code",
   "execution_count": 59,
   "id": "fe1035b2",
   "metadata": {},
   "outputs": [
    {
     "data": {
      "text/plain": [
       "False    128314\n",
       "True      12298\n",
       "Name: count, dtype: int64"
      ]
     },
     "execution_count": 59,
     "metadata": {},
     "output_type": "execute_result"
    }
   ],
   "source": [
    "pd.Series(gen_contain_q).value_counts()"
   ]
  },
  {
   "cell_type": "code",
   "execution_count": 60,
   "id": "db3d77e1",
   "metadata": {},
   "outputs": [],
   "source": [
    "prop_contain_q = []\n",
    "for doc in prop_data.docs:\n",
    "    contain = False\n",
    "    for word in doc.sentences[0].words:\n",
    "        if word.upos == \"AUX\":\n",
    "            contain = True\n",
    "            break\n",
    "    prop_contain_q.append(contain)"
   ]
  },
  {
   "cell_type": "code",
   "execution_count": 61,
   "id": "95a137d4",
   "metadata": {},
   "outputs": [
    {
     "data": {
      "text/plain": [
       "False    52524\n",
       "True      3476\n",
       "Name: count, dtype: int64"
      ]
     },
     "execution_count": 61,
     "metadata": {},
     "output_type": "execute_result"
    }
   ],
   "source": [
    "pd.Series(prop_contain_q).value_counts()"
   ]
  },
  {
   "cell_type": "markdown",
   "id": "a7f3362b",
   "metadata": {},
   "source": [
    "We have around 15.5K tweets in the entire datasets that contain at least one question.\n"
   ]
  },
  {
   "cell_type": "code",
   "execution_count": 62,
   "id": "128e451a",
   "metadata": {},
   "outputs": [],
   "source": [
    "# remove sarcasm model from GPU\n",
    "sarcasm_model = None\n",
    "\n",
    "# clear GPU memory\n",
    "torch.cuda.empty_cache()"
   ]
  },
  {
   "cell_type": "code",
   "execution_count": 63,
   "id": "4d4ee93d",
   "metadata": {},
   "outputs": [
    {
     "data": {
      "application/vnd.jupyter.widget-view+json": {
       "model_id": "fb72cd6c3e5d42d096d3e6d835c34b28",
       "version_major": 2,
       "version_minor": 0
      },
      "text/plain": [
       "Downloading (…)lve/main/config.json:   0%|          | 0.00/913 [00:00<?, ?B/s]"
      ]
     },
     "metadata": {},
     "output_type": "display_data"
    },
    {
     "data": {
      "application/vnd.jupyter.widget-view+json": {
       "model_id": "10035d2a783a4844bf7bcd0264aab181",
       "version_major": 2,
       "version_minor": 0
      },
      "text/plain": [
       "Downloading pytorch_model.bin:   0%|          | 0.00/1.11G [00:00<?, ?B/s]"
      ]
     },
     "metadata": {},
     "output_type": "display_data"
    },
    {
     "data": {
      "application/vnd.jupyter.widget-view+json": {
       "model_id": "8e76ee47451647eeadb10f7f0aa615db",
       "version_major": 2,
       "version_minor": 0
      },
      "text/plain": [
       "Downloading (…)tencepiece.bpe.model:   0%|          | 0.00/5.07M [00:00<?, ?B/s]"
      ]
     },
     "metadata": {},
     "output_type": "display_data"
    },
    {
     "data": {
      "application/vnd.jupyter.widget-view+json": {
       "model_id": "bd08f33562ac4047b9ade859de004566",
       "version_major": 2,
       "version_minor": 0
      },
      "text/plain": [
       "Downloading (…)/main/tokenizer.json:   0%|          | 0.00/9.10M [00:00<?, ?B/s]"
      ]
     },
     "metadata": {},
     "output_type": "display_data"
    }
   ],
   "source": [
    "# detecting the hate speech signal distributions\n",
    "\n",
    "hate_model = pipeline(\n",
    "    task=\"text-classification\",\n",
    "    model=hate_model_ckpt,\n",
    "    batch_size=batch_size,\n",
    "    device=\"cuda\",\n",
    "    token=hf_key,\n",
    ")"
   ]
  },
  {
   "cell_type": "code",
   "execution_count": 64,
   "id": "dbb85d3f",
   "metadata": {},
   "outputs": [],
   "source": [
    "hate_preds = hate_model(gen_data.text.to_list())\n",
    "gen_data[\"hate\"] = hate_preds"
   ]
  },
  {
   "cell_type": "code",
   "execution_count": 65,
   "id": "a60200f9",
   "metadata": {},
   "outputs": [
    {
     "data": {
      "text/plain": [
       "not offensive    137980\n",
       "offensive          2632\n",
       "Name: count, dtype: int64"
      ]
     },
     "execution_count": 65,
     "metadata": {},
     "output_type": "execute_result"
    }
   ],
   "source": [
    "pd.Series([t[\"label\"] for t in gen_data.hate]).value_counts()"
   ]
  },
  {
   "cell_type": "code",
   "execution_count": 66,
   "id": "5e73d160",
   "metadata": {},
   "outputs": [],
   "source": [
    "hate_preds = hate_model(prop_data.text.to_list())\n",
    "prop_data[\"hate\"] = hate_preds"
   ]
  },
  {
   "cell_type": "code",
   "execution_count": 67,
   "id": "6023f238",
   "metadata": {},
   "outputs": [
    {
     "data": {
      "text/plain": [
       "not offensive    53603\n",
       "offensive         2397\n",
       "Name: count, dtype: int64"
      ]
     },
     "execution_count": 67,
     "metadata": {},
     "output_type": "execute_result"
    }
   ],
   "source": [
    "pd.Series([t[\"label\"] for t in prop_data.hate]).value_counts()"
   ]
  },
  {
   "cell_type": "markdown",
   "id": "f861e2f0",
   "metadata": {},
   "source": [
    "In total, we have around 5K tweets that contain hate speech. This is also related to the name calling and smears techniques.\n"
   ]
  },
  {
   "cell_type": "code",
   "execution_count": 68,
   "id": "144b795b",
   "metadata": {},
   "outputs": [],
   "source": [
    "# remove hate model from GPU\n",
    "hate_model = None\n",
    "\n",
    "# clear GPU memory\n",
    "torch.cuda.empty_cache()"
   ]
  },
  {
   "cell_type": "code",
   "execution_count": 73,
   "id": "1da1a648",
   "metadata": {},
   "outputs": [
    {
     "name": "stdout",
     "output_type": "stream",
     "text": [
      "<class 'pandas.core.frame.DataFrame'>\n",
      "Index: 140612 entries, 0 to 148624\n",
      "Data columns (total 24 columns):\n",
      " #   Column                    Non-Null Count   Dtype  \n",
      "---  ------                    --------------   -----  \n",
      " 0   tweetid                   140610 non-null  object \n",
      " 1   userid                    140611 non-null  object \n",
      " 2   user_display_name         131651 non-null  object \n",
      " 3   user_screen_name          131651 non-null  object \n",
      " 4   user_reported_location    109839 non-null  object \n",
      " 5   user_profile_description  131335 non-null  object \n",
      " 6   follower_count            131651 non-null  float64\n",
      " 7   following_count           131651 non-null  float64\n",
      " 8   account_creation_date     131651 non-null  object \n",
      " 9   tweet_text                140612 non-null  object \n",
      " 10  is_retweet                140612 non-null  bool   \n",
      " 11  quote_count               140607 non-null  float64\n",
      " 12  reply_count               140608 non-null  float64\n",
      " 13  like_count                140608 non-null  object \n",
      " 14  retweet_count             140608 non-null  float64\n",
      " 15  hashtags                  140612 non-null  int64  \n",
      " 16  urls                      140612 non-null  int64  \n",
      " 17  user_mentions             140612 non-null  int64  \n",
      " 18  text                      140612 non-null  object \n",
      " 19  emojis                    140612 non-null  int64  \n",
      " 20  word_count                140612 non-null  int64  \n",
      " 21  docs                      140612 non-null  object \n",
      " 22  sarcasm                   140612 non-null  object \n",
      " 23  hate                      140612 non-null  object \n",
      "dtypes: bool(1), float64(5), int64(5), object(13)\n",
      "memory usage: 29.9+ MB\n"
     ]
    }
   ],
   "source": [
    "gen_data.info()"
   ]
  },
  {
   "cell_type": "code",
   "execution_count": 74,
   "id": "3a5f6181",
   "metadata": {},
   "outputs": [
    {
     "name": "stdout",
     "output_type": "stream",
     "text": [
      "<class 'pandas.core.frame.DataFrame'>\n",
      "Index: 56000 entries, 0 to 55999\n",
      "Data columns (total 24 columns):\n",
      " #   Column                    Non-Null Count  Dtype \n",
      "---  ------                    --------------  ----- \n",
      " 0   tweetid                   56000 non-null  int64 \n",
      " 1   userid                    56000 non-null  object\n",
      " 2   user_display_name         56000 non-null  object\n",
      " 3   user_screen_name          56000 non-null  object\n",
      " 4   user_reported_location    36366 non-null  object\n",
      " 5   user_profile_description  51749 non-null  object\n",
      " 6   follower_count            56000 non-null  int64 \n",
      " 7   following_count           56000 non-null  int64 \n",
      " 8   account_creation_date     56000 non-null  int64 \n",
      " 9   tweet_text                56000 non-null  object\n",
      " 10  is_retweet                56000 non-null  bool  \n",
      " 11  quote_count               56000 non-null  int64 \n",
      " 12  reply_count               56000 non-null  int64 \n",
      " 13  like_count                56000 non-null  int64 \n",
      " 14  retweet_count             56000 non-null  int64 \n",
      " 15  hashtags                  56000 non-null  int64 \n",
      " 16  urls                      56000 non-null  int64 \n",
      " 17  user_mentions             56000 non-null  int64 \n",
      " 18  text                      56000 non-null  object\n",
      " 19  emojis                    56000 non-null  int64 \n",
      " 20  word_count                56000 non-null  int64 \n",
      " 21  docs                      56000 non-null  object\n",
      " 22  sarcasm                   56000 non-null  object\n",
      " 23  hate                      56000 non-null  object\n",
      "dtypes: bool(1), int64(13), object(10)\n",
      "memory usage: 10.3+ MB\n"
     ]
    }
   ],
   "source": [
    "prop_data.info()"
   ]
  },
  {
   "cell_type": "code",
   "execution_count": 84,
   "id": "ba0145cb",
   "metadata": {},
   "outputs": [],
   "source": [
    "# removing any text that has only white spaces\n",
    "\n",
    "gen_data = gen_data[[bool(len(t.strip())) for t in gen_data.text]]\n",
    "prop_data = prop_data[[bool(len(t.strip())) for t in prop_data.text]]"
   ]
  },
  {
   "cell_type": "code",
   "execution_count": 7,
   "id": "80a78b26",
   "metadata": {},
   "outputs": [],
   "source": [
    "# gen_data.to_pickle(gen_data_annotated)\n",
    "# prop_data.to_pickle(prop_data_annotated)\n",
    "\n",
    "# gen_data = pd.read_pickle(gen_data_annotated)\n",
    "prop_data = pd.read_pickle(prop_data_annotated)"
   ]
  },
  {
   "cell_type": "code",
   "execution_count": 8,
   "id": "3311471e",
   "metadata": {},
   "outputs": [
    {
     "name": "stderr",
     "output_type": "stream",
     "text": [
      "Some weights of the model checkpoint at joeddav/xlm-roberta-large-xnli were not used when initializing XLMRobertaForSequenceClassification: ['roberta.pooler.dense.weight', 'roberta.pooler.dense.bias']\n",
      "- This IS expected if you are initializing XLMRobertaForSequenceClassification from the checkpoint of a model trained on another task or with another architecture (e.g. initializing a BertForSequenceClassification model from a BertForPreTraining model).\n",
      "- This IS NOT expected if you are initializing XLMRobertaForSequenceClassification from the checkpoint of a model that you expect to be exactly identical (initializing a BertForSequenceClassification model from a BertForSequenceClassification model).\n"
     ]
    }
   ],
   "source": [
    "# utilizing the xlm roberta zeroshot model\n",
    "\n",
    "xlmroberta_model = pipeline(\n",
    "    task=\"zero-shot-classification\",\n",
    "    model=zeroshot_model_ckpt,\n",
    "    batch_size=batch_size,\n",
    "    torch_dtype=torch.bfloat16,\n",
    "    device=\"cuda\",\n",
    "    token=hf_key,\n",
    ")"
   ]
  },
  {
   "cell_type": "code",
   "execution_count": 9,
   "id": "bac029c1",
   "metadata": {},
   "outputs": [],
   "source": [
    "candidate_labels = [\"transparent\", \"propaganda\"]"
   ]
  },
  {
   "cell_type": "code",
   "execution_count": 12,
   "id": "ea7e40ac",
   "metadata": {},
   "outputs": [],
   "source": [
    "xlmroberta_preds = xlmroberta_model(gen_data.text.to_list(), candidate_labels)\n",
    "gen_data[\"xlmroberta_label\"] = xlmroberta_preds"
   ]
  },
  {
   "cell_type": "code",
   "execution_count": 14,
   "id": "48f700ed",
   "metadata": {},
   "outputs": [],
   "source": [
    "gen_data.to_pickle(gen_data_annotated)"
   ]
  },
  {
   "cell_type": "code",
   "execution_count": 11,
   "id": "6e1cc1fb",
   "metadata": {},
   "outputs": [],
   "source": [
    "xlmroberta_preds = xlmroberta_model(prop_data.text.to_list(), candidate_labels)\n",
    "prop_data[\"xlmroberta_label\"] = xlmroberta_preds"
   ]
  },
  {
   "cell_type": "code",
   "execution_count": 12,
   "id": "49e589ea",
   "metadata": {},
   "outputs": [],
   "source": [
    "prop_data.to_pickle(prop_data_annotated)"
   ]
  },
  {
   "cell_type": "code",
   "execution_count": 13,
   "id": "446650ac",
   "metadata": {},
   "outputs": [],
   "source": [
    "# remove xlmroberta model from GPU\n",
    "xlmroberta_model = None\n",
    "\n",
    "# clear GPU memory\n",
    "torch.cuda.empty_cache()"
   ]
  },
  {
   "cell_type": "markdown",
   "id": "3fd78957",
   "metadata": {},
   "source": [
    "### Colclusions\n",
    "\n",
    "- Genuine users add `at least one URL` in their tweets.\n",
    "- Propagandist users use `mentions` `at lest one time` in their tweets.\n",
    "- Some propagandist users tweet in less than 5 words. (ignored, already a cluster)\n",
    "- The word `حرب` is of the `top 50` used words in the propagandists tweets.\n"
   ]
  }
 ],
 "metadata": {
  "kernelspec": {
   "display_name": "Python 3 (ipykernel)",
   "language": "python",
   "name": "python3"
  },
  "language_info": {
   "codemirror_mode": {
    "name": "ipython",
    "version": 3
   },
   "file_extension": ".py",
   "mimetype": "text/x-python",
   "name": "python",
   "nbconvert_exporter": "python",
   "pygments_lexer": "ipython3",
   "version": "3.8.18"
  }
 },
 "nbformat": 4,
 "nbformat_minor": 5
}
