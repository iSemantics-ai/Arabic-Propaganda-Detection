{
 "cells": [
  {
   "cell_type": "markdown",
   "id": "3ceb6a84",
   "metadata": {},
   "source": [
    "# Labeling Functions Ideas\n"
   ]
  },
  {
   "cell_type": "markdown",
   "id": "1f1031e6",
   "metadata": {},
   "source": [
    "Exploring the LFs ideas behind users meta data, propaganda techniques, and assumptions made about the task.\n",
    "\n",
    "Focusing only on the propaganda techniques in this file.\n"
   ]
  },
  {
   "cell_type": "code",
   "execution_count": 1,
   "id": "6a8e8b22",
   "metadata": {},
   "outputs": [],
   "source": [
    "import numpy as np\n",
    "import pandas as pd\n",
    "import seaborn as sns\n",
    "import matplotlib.pyplot as plt\n",
    "\n",
    "sns.set()\n",
    "%matplotlib inline"
   ]
  },
  {
   "cell_type": "code",
   "execution_count": 2,
   "id": "8f223fc7",
   "metadata": {},
   "outputs": [],
   "source": [
    "import re\n",
    "import emoji\n",
    "\n",
    "em_engine = emoji.emoji_count  # this is a function"
   ]
  },
  {
   "cell_type": "code",
   "execution_count": 3,
   "id": "3c8ab85a",
   "metadata": {},
   "outputs": [
    {
     "data": {
      "text/html": [
       "<div>\n",
       "<style scoped>\n",
       "    .dataframe tbody tr th:only-of-type {\n",
       "        vertical-align: middle;\n",
       "    }\n",
       "\n",
       "    .dataframe tbody tr th {\n",
       "        vertical-align: top;\n",
       "    }\n",
       "\n",
       "    .dataframe thead th {\n",
       "        text-align: right;\n",
       "    }\n",
       "</style>\n",
       "<table border=\"1\" class=\"dataframe\">\n",
       "  <thead>\n",
       "    <tr style=\"text-align: right;\">\n",
       "      <th></th>\n",
       "      <th>tweetid</th>\n",
       "      <th>userid</th>\n",
       "      <th>user_display_name</th>\n",
       "      <th>user_screen_name</th>\n",
       "      <th>user_reported_location</th>\n",
       "      <th>user_profile_description</th>\n",
       "      <th>follower_count</th>\n",
       "      <th>following_count</th>\n",
       "      <th>account_creation_date</th>\n",
       "      <th>tweet_text</th>\n",
       "      <th>is_retweet</th>\n",
       "      <th>quote_count</th>\n",
       "      <th>reply_count</th>\n",
       "      <th>like_count</th>\n",
       "      <th>retweet_count</th>\n",
       "      <th>hashtags</th>\n",
       "      <th>urls</th>\n",
       "      <th>user_mentions</th>\n",
       "      <th>text</th>\n",
       "    </tr>\n",
       "  </thead>\n",
       "  <tbody>\n",
       "    <tr>\n",
       "      <th>0</th>\n",
       "      <td>1161436140945195008</td>\n",
       "      <td>392352672</td>\n",
       "      <td>نجديه عذيه .</td>\n",
       "      <td>Ksa_FO1</td>\n",
       "      <td>نجد العذيه للدعم</td>\n",
       "      <td>مابادل اقل من ٥ الاف ولا أقبل المقدم بدون طلب ...</td>\n",
       "      <td>70616</td>\n",
       "      <td>52577</td>\n",
       "      <td>1318723200000</td>\n",
       "      <td>RT @GROB_07: #حـسـآب_تـمــيزة_بـتـفـاعـل 💫\\n⠀┈...</td>\n",
       "      <td>True</td>\n",
       "      <td>0</td>\n",
       "      <td>0</td>\n",
       "      <td>0</td>\n",
       "      <td>0</td>\n",
       "      <td>3</td>\n",
       "      <td>0</td>\n",
       "      <td>2</td>\n",
       "      <td>RT : حـسـآب تـمــيزة بـتـفـاعـل ⠀┈┉━◈♔♚♔◈━┅┄ ن...</td>\n",
       "    </tr>\n",
       "    <tr>\n",
       "      <th>1</th>\n",
       "      <td>764273648496742400</td>\n",
       "      <td>4708503082</td>\n",
       "      <td>ْ‏ོ جود العبداللّهہ|| ོالتنبيهات ما توصل</td>\n",
       "      <td>j06__</td>\n",
       "      <td>None</td>\n",
       "      <td>‏‏‏‏‏‏‏‏‏‏‏إنه يستجيب منذُ أن دعوُت ولگِن يُدب...</td>\n",
       "      <td>60061</td>\n",
       "      <td>2617</td>\n",
       "      <td>1451865600000</td>\n",
       "      <td>اللهم اكثر من امثالي ليعم الخير و تعم السعادة ...</td>\n",
       "      <td>False</td>\n",
       "      <td>0</td>\n",
       "      <td>0</td>\n",
       "      <td>0</td>\n",
       "      <td>0</td>\n",
       "      <td>1</td>\n",
       "      <td>0</td>\n",
       "      <td>0</td>\n",
       "      <td>اللهم اكثر من امثالي ليعم الخير و تعم السعادة ...</td>\n",
       "    </tr>\n",
       "    <tr>\n",
       "      <th>2</th>\n",
       "      <td>783000454963822592</td>\n",
       "      <td>4567368507</td>\n",
       "      <td>أملي بالله كبير^_^</td>\n",
       "      <td>khoo23khoo</td>\n",
       "      <td>ومازال حسن ظني بك يا ربُ جميلٌ</td>\n",
       "      <td>❇️اللهم أسترني فوق الأرض و تحت الأرض ويوم العر...</td>\n",
       "      <td>15244</td>\n",
       "      <td>8957</td>\n",
       "      <td>1450742400000</td>\n",
       "      <td>RT @Ana5lod: @mohommad120\\n#بصائر_مع_محمد\\n\\n١...</td>\n",
       "      <td>True</td>\n",
       "      <td>0</td>\n",
       "      <td>0</td>\n",
       "      <td>0</td>\n",
       "      <td>0</td>\n",
       "      <td>1</td>\n",
       "      <td>0</td>\n",
       "      <td>3</td>\n",
       "      <td>RT : بصائر مع محمد ١ النيه،إزالةالموانع،الوضوء...</td>\n",
       "    </tr>\n",
       "    <tr>\n",
       "      <th>3</th>\n",
       "      <td>533615110539841538</td>\n",
       "      <td>xKG+qL9l7ousztBAlj8iQZm78XodFiOT+aZ9PrhzkUo=</td>\n",
       "      <td>xKG+qL9l7ousztBAlj8iQZm78XodFiOT+aZ9PrhzkUo=</td>\n",
       "      <td>xKG+qL9l7ousztBAlj8iQZm78XodFiOT+aZ9PrhzkUo=</td>\n",
       "      <td>في جنة الخلد ان شاء الله</td>\n",
       "      <td>حساب خاص صدقه جاريه للمرحوم بإذن الله وليد مشع...</td>\n",
       "      <td>282</td>\n",
       "      <td>14</td>\n",
       "      <td>1362268800000</td>\n",
       "      <td>إن هذه القبور مملوءة ظلمة على أهلها وإن الله ع...</td>\n",
       "      <td>False</td>\n",
       "      <td>0</td>\n",
       "      <td>0</td>\n",
       "      <td>0</td>\n",
       "      <td>1</td>\n",
       "      <td>1</td>\n",
       "      <td>0</td>\n",
       "      <td>0</td>\n",
       "      <td>إن هذه القبور مملوءة ظلمة على أهلها وإن الله ع...</td>\n",
       "    </tr>\n",
       "    <tr>\n",
       "      <th>4</th>\n",
       "      <td>511880965892087808</td>\n",
       "      <td>xBo+HezLTB78P+7p8upU8pqHohl9wdTT1yGUaJWa2ls=</td>\n",
       "      <td>xBo+HezLTB78P+7p8upU8pqHohl9wdTT1yGUaJWa2ls=</td>\n",
       "      <td>xBo+HezLTB78P+7p8upU8pqHohl9wdTT1yGUaJWa2ls=</td>\n",
       "      <td>None</td>\n",
       "      <td>‏‏‏‏‏‏‏بكالوريوس التربية في الآداب\\nجامعة المل...</td>\n",
       "      <td>2422</td>\n",
       "      <td>509</td>\n",
       "      <td>1338940800000</td>\n",
       "      <td>(يا قومنا أجيبوا داعي الله وآمنوا به يغفر لكم ...</td>\n",
       "      <td>False</td>\n",
       "      <td>0</td>\n",
       "      <td>0</td>\n",
       "      <td>0</td>\n",
       "      <td>0</td>\n",
       "      <td>1</td>\n",
       "      <td>1</td>\n",
       "      <td>0</td>\n",
       "      <td>(يا قومنا أجيبوا داعي الله وآمنوا به يغفر لكم ...</td>\n",
       "    </tr>\n",
       "  </tbody>\n",
       "</table>\n",
       "</div>"
      ],
      "text/plain": [
       "               tweetid                                        userid  \\\n",
       "0  1161436140945195008                                     392352672   \n",
       "1   764273648496742400                                    4708503082   \n",
       "2   783000454963822592                                    4567368507   \n",
       "3   533615110539841538  xKG+qL9l7ousztBAlj8iQZm78XodFiOT+aZ9PrhzkUo=   \n",
       "4   511880965892087808  xBo+HezLTB78P+7p8upU8pqHohl9wdTT1yGUaJWa2ls=   \n",
       "\n",
       "                              user_display_name  \\\n",
       "0                                  نجديه عذيه .   \n",
       "1      ْ‏ོ جود العبداللّهہ|| ོالتنبيهات ما توصل   \n",
       "2                            أملي بالله كبير^_^   \n",
       "3  xKG+qL9l7ousztBAlj8iQZm78XodFiOT+aZ9PrhzkUo=   \n",
       "4  xBo+HezLTB78P+7p8upU8pqHohl9wdTT1yGUaJWa2ls=   \n",
       "\n",
       "                               user_screen_name  \\\n",
       "0                                       Ksa_FO1   \n",
       "1                                         j06__   \n",
       "2                                    khoo23khoo   \n",
       "3  xKG+qL9l7ousztBAlj8iQZm78XodFiOT+aZ9PrhzkUo=   \n",
       "4  xBo+HezLTB78P+7p8upU8pqHohl9wdTT1yGUaJWa2ls=   \n",
       "\n",
       "           user_reported_location  \\\n",
       "0                نجد العذيه للدعم   \n",
       "1                            None   \n",
       "2  ومازال حسن ظني بك يا ربُ جميلٌ   \n",
       "3       في جنة الخلد ان شاء الله    \n",
       "4                            None   \n",
       "\n",
       "                            user_profile_description  follower_count  \\\n",
       "0  مابادل اقل من ٥ الاف ولا أقبل المقدم بدون طلب ...           70616   \n",
       "1  ‏‏‏‏‏‏‏‏‏‏‏إنه يستجيب منذُ أن دعوُت ولگِن يُدب...           60061   \n",
       "2  ❇️اللهم أسترني فوق الأرض و تحت الأرض ويوم العر...           15244   \n",
       "3  حساب خاص صدقه جاريه للمرحوم بإذن الله وليد مشع...             282   \n",
       "4  ‏‏‏‏‏‏‏بكالوريوس التربية في الآداب\\nجامعة المل...            2422   \n",
       "\n",
       "   following_count  account_creation_date  \\\n",
       "0            52577          1318723200000   \n",
       "1             2617          1451865600000   \n",
       "2             8957          1450742400000   \n",
       "3               14          1362268800000   \n",
       "4              509          1338940800000   \n",
       "\n",
       "                                          tweet_text  is_retweet  quote_count  \\\n",
       "0  RT @GROB_07: #حـسـآب_تـمــيزة_بـتـفـاعـل 💫\\n⠀┈...        True            0   \n",
       "1  اللهم اكثر من امثالي ليعم الخير و تعم السعادة ...       False            0   \n",
       "2  RT @Ana5lod: @mohommad120\\n#بصائر_مع_محمد\\n\\n١...        True            0   \n",
       "3  إن هذه القبور مملوءة ظلمة على أهلها وإن الله ع...       False            0   \n",
       "4  (يا قومنا أجيبوا داعي الله وآمنوا به يغفر لكم ...       False            0   \n",
       "\n",
       "   reply_count  like_count  retweet_count  hashtags  urls  user_mentions  \\\n",
       "0            0           0              0         3     0              2   \n",
       "1            0           0              0         1     0              0   \n",
       "2            0           0              0         1     0              3   \n",
       "3            0           0              1         1     0              0   \n",
       "4            0           0              0         1     1              0   \n",
       "\n",
       "                                                text  \n",
       "0  RT : حـسـآب تـمــيزة بـتـفـاعـل ⠀┈┉━◈♔♚♔◈━┅┄ ن...  \n",
       "1  اللهم اكثر من امثالي ليعم الخير و تعم السعادة ...  \n",
       "2  RT : بصائر مع محمد ١ النيه،إزالةالموانع،الوضوء...  \n",
       "3  إن هذه القبور مملوءة ظلمة على أهلها وإن الله ع...  \n",
       "4  (يا قومنا أجيبوا داعي الله وآمنوا به يغفر لكم ...  "
      ]
     },
     "execution_count": 3,
     "metadata": {},
     "output_type": "execute_result"
    }
   ],
   "source": [
    "# [['tweetid', 'tweet_text']]\n",
    "prop_data = pd.read_json('../data/processed/propaganda.json')\n",
    "prop_data.head()"
   ]
  },
  {
   "cell_type": "code",
   "execution_count": 4,
   "id": "5b6db045",
   "metadata": {},
   "outputs": [
    {
     "name": "stdout",
     "output_type": "stream",
     "text": [
      "<class 'pandas.core.frame.DataFrame'>\n",
      "Int64Index: 56000 entries, 0 to 55999\n",
      "Data columns (total 19 columns):\n",
      " #   Column                    Non-Null Count  Dtype \n",
      "---  ------                    --------------  ----- \n",
      " 0   tweetid                   56000 non-null  int64 \n",
      " 1   userid                    56000 non-null  object\n",
      " 2   user_display_name         56000 non-null  object\n",
      " 3   user_screen_name          56000 non-null  object\n",
      " 4   user_reported_location    36366 non-null  object\n",
      " 5   user_profile_description  51749 non-null  object\n",
      " 6   follower_count            56000 non-null  int64 \n",
      " 7   following_count           56000 non-null  int64 \n",
      " 8   account_creation_date     56000 non-null  int64 \n",
      " 9   tweet_text                56000 non-null  object\n",
      " 10  is_retweet                56000 non-null  bool  \n",
      " 11  quote_count               56000 non-null  int64 \n",
      " 12  reply_count               56000 non-null  int64 \n",
      " 13  like_count                56000 non-null  int64 \n",
      " 14  retweet_count             56000 non-null  int64 \n",
      " 15  hashtags                  56000 non-null  int64 \n",
      " 16  urls                      56000 non-null  int64 \n",
      " 17  user_mentions             56000 non-null  int64 \n",
      " 18  text                      56000 non-null  object\n",
      "dtypes: bool(1), int64(11), object(7)\n",
      "memory usage: 8.2+ MB\n"
     ]
    }
   ],
   "source": [
    "prop_data.info()"
   ]
  },
  {
   "cell_type": "code",
   "execution_count": 5,
   "id": "9e36e2a2",
   "metadata": {},
   "outputs": [
    {
     "data": {
      "text/plain": [
       "['../data/processed\\\\genuine_banking.json',\n",
       " '../data/processed\\\\genuine_gov.json',\n",
       " '../data/processed\\\\genuine_jour.json',\n",
       " '../data/processed\\\\genuine_news.json',\n",
       " '../data/processed\\\\genuine_sports.json',\n",
       " '../data/processed\\\\genuine_univ.json']"
      ]
     },
     "execution_count": 5,
     "metadata": {},
     "output_type": "execute_result"
    }
   ],
   "source": [
    "import glob\n",
    "\n",
    "files = glob.glob('../data/processed/genuine*.json')\n",
    "files"
   ]
  },
  {
   "cell_type": "code",
   "execution_count": 6,
   "id": "e7e04a06",
   "metadata": {},
   "outputs": [],
   "source": [
    "dfs = [pd.read_json(f) for f in files]"
   ]
  },
  {
   "cell_type": "code",
   "execution_count": 7,
   "id": "04bab00e",
   "metadata": {},
   "outputs": [
    {
     "data": {
      "text/html": [
       "<div>\n",
       "<style scoped>\n",
       "    .dataframe tbody tr th:only-of-type {\n",
       "        vertical-align: middle;\n",
       "    }\n",
       "\n",
       "    .dataframe tbody tr th {\n",
       "        vertical-align: top;\n",
       "    }\n",
       "\n",
       "    .dataframe thead th {\n",
       "        text-align: right;\n",
       "    }\n",
       "</style>\n",
       "<table border=\"1\" class=\"dataframe\">\n",
       "  <thead>\n",
       "    <tr style=\"text-align: right;\">\n",
       "      <th></th>\n",
       "      <th>tweetid</th>\n",
       "      <th>userid</th>\n",
       "      <th>user_display_name</th>\n",
       "      <th>user_screen_name</th>\n",
       "      <th>user_reported_location</th>\n",
       "      <th>user_profile_description</th>\n",
       "      <th>follower_count</th>\n",
       "      <th>following_count</th>\n",
       "      <th>account_creation_date</th>\n",
       "      <th>tweet_text</th>\n",
       "      <th>is_retweet</th>\n",
       "      <th>quote_count</th>\n",
       "      <th>reply_count</th>\n",
       "      <th>like_count</th>\n",
       "      <th>retweet_count</th>\n",
       "      <th>hashtags</th>\n",
       "      <th>urls</th>\n",
       "      <th>user_mentions</th>\n",
       "      <th>text</th>\n",
       "    </tr>\n",
       "  </thead>\n",
       "  <tbody>\n",
       "    <tr>\n",
       "      <th>0</th>\n",
       "      <td>1526234562359066624</td>\n",
       "      <td>947365777</td>\n",
       "      <td>بنك التنمية الاجتماعية</td>\n",
       "      <td>SDB_sa</td>\n",
       "      <td>Kingdom of Saudi Arabia</td>\n",
       "      <td>بنك التنمية الاجتماعية، أحد الركائز الحكومية ا...</td>\n",
       "      <td>409379.0</td>\n",
       "      <td>12.0</td>\n",
       "      <td>2012-11-14T08:50:59.000Z</td>\n",
       "      <td>الفائز بالمركز الثالث في #هاكثون_الادخار #وزين...</td>\n",
       "      <td>False</td>\n",
       "      <td>0.0</td>\n",
       "      <td>1.0</td>\n",
       "      <td>8</td>\n",
       "      <td>2.0</td>\n",
       "      <td>2</td>\n",
       "      <td>1</td>\n",
       "      <td>0</td>\n",
       "      <td>الفائز بالمركز الثالث في هاكثون الادخار وزين ف...</td>\n",
       "    </tr>\n",
       "    <tr>\n",
       "      <th>1</th>\n",
       "      <td>1488090545981378568</td>\n",
       "      <td>2321495687</td>\n",
       "      <td>إمارة المنطقة الشرقية</td>\n",
       "      <td>emara_sharqia</td>\n",
       "      <td>None</td>\n",
       "      <td>الحساب الرسمي لـ #إمارة_المنطقة_الشرقية - المم...</td>\n",
       "      <td>477714.0</td>\n",
       "      <td>7.0</td>\n",
       "      <td>2014-02-03T08:49:37.000Z</td>\n",
       "      <td>استقبل صاحب السمو الملكي الأمير سعود بن نايف\\n...</td>\n",
       "      <td>False</td>\n",
       "      <td>0.0</td>\n",
       "      <td>5.0</td>\n",
       "      <td>32</td>\n",
       "      <td>27.0</td>\n",
       "      <td>1</td>\n",
       "      <td>2</td>\n",
       "      <td>0</td>\n",
       "      <td>استقبل صاحب السمو الملكي الأمير سعود بن نايف أ...</td>\n",
       "    </tr>\n",
       "    <tr>\n",
       "      <th>2</th>\n",
       "      <td>1445379175620169729</td>\n",
       "      <td>720514178239356929</td>\n",
       "      <td>إمارة منطقة الباحة</td>\n",
       "      <td>BahaPrincedom</td>\n",
       "      <td>Kingdom of Saudi Arabia</td>\n",
       "      <td>إمارة منطقة الباحة - الحساب الرسمي</td>\n",
       "      <td>59738.0</td>\n",
       "      <td>3.0</td>\n",
       "      <td>2016-04-14T07:29:01.000Z</td>\n",
       "      <td>كما وقف سموه على موقع مشروع منتجع رغدان السياح...</td>\n",
       "      <td>False</td>\n",
       "      <td>0.0</td>\n",
       "      <td>1.0</td>\n",
       "      <td>15</td>\n",
       "      <td>8.0</td>\n",
       "      <td>0</td>\n",
       "      <td>1</td>\n",
       "      <td>0</td>\n",
       "      <td>كما وقف سموه على موقع مشروع منتجع رغدان السياح...</td>\n",
       "    </tr>\n",
       "    <tr>\n",
       "      <th>3</th>\n",
       "      <td>1437539281409609732</td>\n",
       "      <td>720514178239356929</td>\n",
       "      <td>إمارة منطقة الباحة</td>\n",
       "      <td>BahaPrincedom</td>\n",
       "      <td>Kingdom of Saudi Arabia</td>\n",
       "      <td>إمارة منطقة الباحة - الحساب الرسمي</td>\n",
       "      <td>59738.0</td>\n",
       "      <td>3.0</td>\n",
       "      <td>2016-04-14T07:29:01.000Z</td>\n",
       "      <td>RT @majedhogail: سعدنا اليوم في القطاع البلدي ...</td>\n",
       "      <td>True</td>\n",
       "      <td>0.0</td>\n",
       "      <td>0.0</td>\n",
       "      <td>0</td>\n",
       "      <td>149.0</td>\n",
       "      <td>1</td>\n",
       "      <td>0</td>\n",
       "      <td>2</td>\n",
       "      <td>RT : سعدنا اليوم في القطاع البلدي برعاية سمو أ...</td>\n",
       "    </tr>\n",
       "    <tr>\n",
       "      <th>4</th>\n",
       "      <td>1437538776738373645</td>\n",
       "      <td>720514178239356929</td>\n",
       "      <td>إمارة منطقة الباحة</td>\n",
       "      <td>BahaPrincedom</td>\n",
       "      <td>Kingdom of Saudi Arabia</td>\n",
       "      <td>إمارة منطقة الباحة - الحساب الرسمي</td>\n",
       "      <td>59738.0</td>\n",
       "      <td>3.0</td>\n",
       "      <td>2016-04-14T07:29:01.000Z</td>\n",
       "      <td>RT @momrafuras: برعاية سمو أمير #منطقة_الباحة ...</td>\n",
       "      <td>True</td>\n",
       "      <td>0.0</td>\n",
       "      <td>0.0</td>\n",
       "      <td>0</td>\n",
       "      <td>27.0</td>\n",
       "      <td>1</td>\n",
       "      <td>0</td>\n",
       "      <td>1</td>\n",
       "      <td>RT : برعاية سمو أمير منطقة الباحة ومعالي وزير ...</td>\n",
       "    </tr>\n",
       "  </tbody>\n",
       "</table>\n",
       "</div>"
      ],
      "text/plain": [
       "               tweetid              userid       user_display_name  \\\n",
       "0  1526234562359066624           947365777  بنك التنمية الاجتماعية   \n",
       "1  1488090545981378568          2321495687   إمارة المنطقة الشرقية   \n",
       "2  1445379175620169729  720514178239356929      إمارة منطقة الباحة   \n",
       "3  1437539281409609732  720514178239356929      إمارة منطقة الباحة   \n",
       "4  1437538776738373645  720514178239356929      إمارة منطقة الباحة   \n",
       "\n",
       "  user_screen_name   user_reported_location  \\\n",
       "0           SDB_sa  Kingdom of Saudi Arabia   \n",
       "1    emara_sharqia                     None   \n",
       "2    BahaPrincedom  Kingdom of Saudi Arabia   \n",
       "3    BahaPrincedom  Kingdom of Saudi Arabia   \n",
       "4    BahaPrincedom  Kingdom of Saudi Arabia   \n",
       "\n",
       "                            user_profile_description  follower_count  \\\n",
       "0  بنك التنمية الاجتماعية، أحد الركائز الحكومية ا...        409379.0   \n",
       "1  الحساب الرسمي لـ #إمارة_المنطقة_الشرقية - المم...        477714.0   \n",
       "2                 إمارة منطقة الباحة - الحساب الرسمي         59738.0   \n",
       "3                 إمارة منطقة الباحة - الحساب الرسمي         59738.0   \n",
       "4                 إمارة منطقة الباحة - الحساب الرسمي         59738.0   \n",
       "\n",
       "   following_count     account_creation_date  \\\n",
       "0             12.0  2012-11-14T08:50:59.000Z   \n",
       "1              7.0  2014-02-03T08:49:37.000Z   \n",
       "2              3.0  2016-04-14T07:29:01.000Z   \n",
       "3              3.0  2016-04-14T07:29:01.000Z   \n",
       "4              3.0  2016-04-14T07:29:01.000Z   \n",
       "\n",
       "                                          tweet_text  is_retweet  quote_count  \\\n",
       "0  الفائز بالمركز الثالث في #هاكثون_الادخار #وزين...       False          0.0   \n",
       "1  استقبل صاحب السمو الملكي الأمير سعود بن نايف\\n...       False          0.0   \n",
       "2  كما وقف سموه على موقع مشروع منتجع رغدان السياح...       False          0.0   \n",
       "3  RT @majedhogail: سعدنا اليوم في القطاع البلدي ...        True          0.0   \n",
       "4  RT @momrafuras: برعاية سمو أمير #منطقة_الباحة ...        True          0.0   \n",
       "\n",
       "   reply_count like_count  retweet_count  hashtags  urls  user_mentions  \\\n",
       "0          1.0          8            2.0         2     1              0   \n",
       "1          5.0         32           27.0         1     2              0   \n",
       "2          1.0         15            8.0         0     1              0   \n",
       "3          0.0          0          149.0         1     0              2   \n",
       "4          0.0          0           27.0         1     0              1   \n",
       "\n",
       "                                                text  \n",
       "0  الفائز بالمركز الثالث في هاكثون الادخار وزين ف...  \n",
       "1  استقبل صاحب السمو الملكي الأمير سعود بن نايف أ...  \n",
       "2  كما وقف سموه على موقع مشروع منتجع رغدان السياح...  \n",
       "3  RT : سعدنا اليوم في القطاع البلدي برعاية سمو أ...  \n",
       "4  RT : برعاية سمو أمير منطقة الباحة ومعالي وزير ...  "
      ]
     },
     "execution_count": 7,
     "metadata": {},
     "output_type": "execute_result"
    }
   ],
   "source": [
    "# df1 = pd.read_json(\"../data/processed/genuine_banking.json\")\n",
    "# df2 = pd.read_json(\"../data/processed/genuine_sports.json\")\n",
    "\n",
    "\n",
    "gen_data = pd.concat(dfs, ignore_index=True).drop_duplicates(subset=['tweetid'])\n",
    "gen_data.head()"
   ]
  },
  {
   "cell_type": "code",
   "execution_count": 8,
   "id": "7e0dbe4d",
   "metadata": {},
   "outputs": [
    {
     "name": "stdout",
     "output_type": "stream",
     "text": [
      "<class 'pandas.core.frame.DataFrame'>\n",
      "Int64Index: 140612 entries, 0 to 148624\n",
      "Data columns (total 19 columns):\n",
      " #   Column                    Non-Null Count   Dtype  \n",
      "---  ------                    --------------   -----  \n",
      " 0   tweetid                   140610 non-null  object \n",
      " 1   userid                    140611 non-null  object \n",
      " 2   user_display_name         131651 non-null  object \n",
      " 3   user_screen_name          131651 non-null  object \n",
      " 4   user_reported_location    109839 non-null  object \n",
      " 5   user_profile_description  131335 non-null  object \n",
      " 6   follower_count            131651 non-null  float64\n",
      " 7   following_count           131651 non-null  float64\n",
      " 8   account_creation_date     131651 non-null  object \n",
      " 9   tweet_text                140612 non-null  object \n",
      " 10  is_retweet                140612 non-null  bool   \n",
      " 11  quote_count               140607 non-null  float64\n",
      " 12  reply_count               140608 non-null  float64\n",
      " 13  like_count                140608 non-null  object \n",
      " 14  retweet_count             140608 non-null  float64\n",
      " 15  hashtags                  140612 non-null  int64  \n",
      " 16  urls                      140612 non-null  int64  \n",
      " 17  user_mentions             140612 non-null  int64  \n",
      " 18  text                      140612 non-null  object \n",
      "dtypes: bool(1), float64(5), int64(3), object(10)\n",
      "memory usage: 20.5+ MB\n"
     ]
    }
   ],
   "source": [
    "gen_data.info()"
   ]
  },
  {
   "cell_type": "code",
   "execution_count": 9,
   "id": "9fa29dc6",
   "metadata": {},
   "outputs": [],
   "source": [
    "prop_data[\"emojis\"] = prop_data.tweet_text.apply(em_engine)\n",
    "gen_data[\"emojis\"] = gen_data.tweet_text.apply(em_engine)"
   ]
  },
  {
   "cell_type": "code",
   "execution_count": 12,
   "id": "b65486a4",
   "metadata": {},
   "outputs": [
    {
     "data": {
      "text/plain": [
       "<AxesSubplot: xlabel='urls', ylabel='Count'>"
      ]
     },
     "execution_count": 12,
     "metadata": {},
     "output_type": "execute_result"
    },
    {
     "data": {
      "image/png": "[encoded data removed]",
      "text/plain": [
       "<Figure size 640x480 with 1 Axes>"
      ]
     },
     "metadata": {},
     "output_type": "display_data"
    }
   ],
   "source": [
    "sns.histplot(gen_data.urls, bins=np.arange(0, 20, 1))"
   ]
  },
  {
   "cell_type": "code",
   "execution_count": 13,
   "id": "09eb88e3",
   "metadata": {},
   "outputs": [
    {
     "data": {
      "text/plain": [
       "<AxesSubplot: xlabel='urls', ylabel='Count'>"
      ]
     },
     "execution_count": 13,
     "metadata": {},
     "output_type": "execute_result"
    },
    {
     "data": {
      "image/png": "[encoded data removed]",
      "text/plain": [
       "<Figure size 640x480 with 1 Axes>"
      ]
     },
     "metadata": {},
     "output_type": "display_data"
    }
   ],
   "source": [
    "sns.histplot(prop_data.urls, bins=np.arange(0, 20, 1))"
   ]
  },
  {
   "cell_type": "markdown",
   "id": "c87ba555",
   "metadata": {},
   "source": [
    "It seems that genuine users tend to add `at least one URL` in their tweets. On the other hand, propagandist users tend to `ignore adding any URLs`.\n"
   ]
  },
  {
   "cell_type": "code",
   "execution_count": 14,
   "id": "92e156dc",
   "metadata": {},
   "outputs": [
    {
     "data": {
      "text/plain": [
       "<AxesSubplot: xlabel='hashtags', ylabel='Count'>"
      ]
     },
     "execution_count": 14,
     "metadata": {},
     "output_type": "execute_result"
    },
    {
     "data": {
      "image/png": "[encoded data removed]",
      "text/plain": [
       "<Figure size 640x480 with 1 Axes>"
      ]
     },
     "metadata": {},
     "output_type": "display_data"
    }
   ],
   "source": [
    "sns.histplot(gen_data.hashtags, bins=np.arange(0, 20, 1))"
   ]
  },
  {
   "cell_type": "code",
   "execution_count": 15,
   "id": "51353342",
   "metadata": {},
   "outputs": [
    {
     "data": {
      "text/plain": [
       "<AxesSubplot: xlabel='hashtags', ylabel='Count'>"
      ]
     },
     "execution_count": 15,
     "metadata": {},
     "output_type": "execute_result"
    },
    {
     "data": {
      "image/png": "[encoded data removed]",
      "text/plain": [
       "<Figure size 640x480 with 1 Axes>"
      ]
     },
     "metadata": {},
     "output_type": "display_data"
    }
   ],
   "source": [
    "sns.histplot(prop_data.hashtags, bins=np.arange(0, 20, 1))"
   ]
  },
  {
   "cell_type": "markdown",
   "id": "84bc8c4e",
   "metadata": {},
   "source": [
    "Hashtags are equivalently present in both categories (gen, prop).\n"
   ]
  },
  {
   "cell_type": "code",
   "execution_count": 16,
   "id": "d54bbd16",
   "metadata": {},
   "outputs": [
    {
     "data": {
      "text/plain": [
       "<AxesSubplot: xlabel='emojis', ylabel='Count'>"
      ]
     },
     "execution_count": 16,
     "metadata": {},
     "output_type": "execute_result"
    },
    {
     "data": {
      "image/png": "[encoded data removed]",
      "text/plain": [
       "<Figure size 640x480 with 1 Axes>"
      ]
     },
     "metadata": {},
     "output_type": "display_data"
    }
   ],
   "source": [
    "sns.histplot(gen_data.emojis, bins=np.arange(0, 20, 1))"
   ]
  },
  {
   "cell_type": "code",
   "execution_count": 17,
   "id": "af42ea84",
   "metadata": {},
   "outputs": [
    {
     "data": {
      "text/plain": [
       "<AxesSubplot: xlabel='emojis', ylabel='Count'>"
      ]
     },
     "execution_count": 17,
     "metadata": {},
     "output_type": "execute_result"
    },
    {
     "data": {
      "image/png": "[encoded data removed]",
      "text/plain": [
       "<Figure size 640x480 with 1 Axes>"
      ]
     },
     "metadata": {},
     "output_type": "display_data"
    }
   ],
   "source": [
    "sns.histplot(prop_data.emojis, bins=np.arange(0, 20, 1))"
   ]
  },
  {
   "cell_type": "markdown",
   "id": "90c952e4",
   "metadata": {},
   "source": [
    "No difference in the two worlds.\n"
   ]
  },
  {
   "cell_type": "code",
   "execution_count": 18,
   "id": "d628cd99",
   "metadata": {},
   "outputs": [
    {
     "data": {
      "text/plain": [
       "<AxesSubplot: xlabel='user_mentions', ylabel='Count'>"
      ]
     },
     "execution_count": 18,
     "metadata": {},
     "output_type": "execute_result"
    },
    {
     "data": {
      "image/png": "[encoded data removed]",
      "text/plain": [
       "<Figure size 640x480 with 1 Axes>"
      ]
     },
     "metadata": {},
     "output_type": "display_data"
    }
   ],
   "source": [
    "sns.histplot(gen_data.user_mentions, bins=np.arange(0, 20, 1))"
   ]
  },
  {
   "cell_type": "code",
   "execution_count": 19,
   "id": "61fc6bfa",
   "metadata": {},
   "outputs": [
    {
     "data": {
      "text/plain": [
       "<AxesSubplot: xlabel='user_mentions', ylabel='Count'>"
      ]
     },
     "execution_count": 19,
     "metadata": {},
     "output_type": "execute_result"
    },
    {
     "data": {
      "image/png": "[encoded data removed]",
      "text/plain": [
       "<Figure size 640x480 with 1 Axes>"
      ]
     },
     "metadata": {},
     "output_type": "display_data"
    }
   ],
   "source": [
    "sns.histplot(prop_data.user_mentions, bins=np.arange(0, 20, 1))"
   ]
  },
  {
   "cell_type": "markdown",
   "id": "d04cd4aa",
   "metadata": {},
   "source": [
    "It seems that propagandists tend to mention at least one person in the tweet as opposite to genuine users. But, does a propagandist mention themselves in their tweets?\n"
   ]
  },
  {
   "cell_type": "code",
   "execution_count": 20,
   "id": "f3e173d0",
   "metadata": {},
   "outputs": [
    {
     "data": {
      "application/vnd.jupyter.widget-view+json": {
       "model_id": "4ccff38b5f8f4809b58c0092283eb709",
       "version_major": 2,
       "version_minor": 0
      },
      "text/plain": [
       "  0%|          | 0/56000 [00:00<?, ?it/s]"
      ]
     },
     "metadata": {},
     "output_type": "display_data"
    }
   ],
   "source": [
    "from tqdm.auto import tqdm\n",
    "\n",
    "mentions_engine = re.compile(r\"@\\w+\")\n",
    "\n",
    "prop_self_mentions = [\n",
    "    r.user_screen_name in mentions_engine.findall(r.tweet_text)\n",
    "    for _, r in tqdm(prop_data.iterrows(), total=len(prop_data))\n",
    "]"
   ]
  },
  {
   "cell_type": "code",
   "execution_count": 21,
   "id": "6db8f196",
   "metadata": {},
   "outputs": [
    {
     "data": {
      "text/plain": [
       "False    56000\n",
       "dtype: int64"
      ]
     },
     "execution_count": 21,
     "metadata": {},
     "output_type": "execute_result"
    }
   ],
   "source": [
    "pd.Series(prop_self_mentions).value_counts()"
   ]
  },
  {
   "cell_type": "code",
   "execution_count": 22,
   "id": "1cac505e",
   "metadata": {},
   "outputs": [
    {
     "data": {
      "application/vnd.jupyter.widget-view+json": {
       "model_id": "b916de7a2aa04b729dbfa34622f900aa",
       "version_major": 2,
       "version_minor": 0
      },
      "text/plain": [
       "  0%|          | 0/140612 [00:00<?, ?it/s]"
      ]
     },
     "metadata": {},
     "output_type": "display_data"
    }
   ],
   "source": [
    "gen_self_mentions = [r.user_screen_name in mentions_engine.findall(r.tweet_text)\n",
    "                     for _, r in tqdm(gen_data.iterrows(), total=len(gen_data))]"
   ]
  },
  {
   "cell_type": "code",
   "execution_count": 23,
   "id": "872d32ee",
   "metadata": {},
   "outputs": [
    {
     "data": {
      "text/plain": [
       "False    140612\n",
       "dtype: int64"
      ]
     },
     "execution_count": 23,
     "metadata": {},
     "output_type": "execute_result"
    }
   ],
   "source": [
    "pd.Series(gen_self_mentions).value_counts()"
   ]
  },
  {
   "cell_type": "markdown",
   "id": "20c850f0",
   "metadata": {},
   "source": [
    "No self-mentions at all.\n"
   ]
  },
  {
   "cell_type": "code",
   "execution_count": 24,
   "id": "7fbe972c",
   "metadata": {},
   "outputs": [],
   "source": [
    "# word count in all tweets with stop words\n",
    "\n",
    "from nltk.tokenize import word_tokenize\n",
    "\n",
    "gen_data[\"word_count\"] = gen_data.text.apply(lambda x: len(word_tokenize(x)))\n",
    "prop_data[\"word_count\"] = prop_data.text.apply(lambda x: len(word_tokenize(x)))"
   ]
  },
  {
   "cell_type": "code",
   "execution_count": 25,
   "id": "76d17547",
   "metadata": {},
   "outputs": [
    {
     "data": {
      "text/plain": [
       "<AxesSubplot: xlabel='word_count', ylabel='Count'>"
      ]
     },
     "execution_count": 25,
     "metadata": {},
     "output_type": "execute_result"
    },
    {
     "data": {
      "image/png": "[encoded data removed]",
      "text/plain": [
       "<Figure size 640x480 with 1 Axes>"
      ]
     },
     "metadata": {},
     "output_type": "display_data"
    }
   ],
   "source": [
    "sns.histplot(gen_data.word_count, bins=np.arange(0, 70, 5))"
   ]
  },
  {
   "cell_type": "code",
   "execution_count": 26,
   "id": "c21d8f1d",
   "metadata": {},
   "outputs": [
    {
     "data": {
      "text/plain": [
       "<AxesSubplot: xlabel='word_count', ylabel='Count'>"
      ]
     },
     "execution_count": 26,
     "metadata": {},
     "output_type": "execute_result"
    },
    {
     "data": {
      "image/png": "[encoded data removed]",
      "text/plain": [
       "<Figure size 640x480 with 1 Axes>"
      ]
     },
     "metadata": {},
     "output_type": "display_data"
    }
   ],
   "source": [
    "sns.histplot(prop_data.word_count, bins=np.arange(0, 70, 5))"
   ]
  },
  {
   "cell_type": "markdown",
   "id": "2fbd0466",
   "metadata": {},
   "source": [
    "We have some propagandist users tweet in less than 10 words. But, do these tweets contain propaganda techniques? we will find out by providing number of words as a propaganda flag.\n"
   ]
  },
  {
   "cell_type": "code",
   "execution_count": 27,
   "id": "b817a813",
   "metadata": {},
   "outputs": [],
   "source": [
    "# word cloud with stop words\n",
    "\n",
    "gen_words, prop_words = [], []\n",
    "\n",
    "for _, r in gen_data.iterrows():\n",
    "    if not pd.isna(r.text):\n",
    "        gen_words.extend(word_tokenize(r.text))\n",
    "\n",
    "for _, r in prop_data.iterrows():\n",
    "    if not pd.isna(r.user_profile_description):\n",
    "        prop_words.extend(word_tokenize(r.text))"
   ]
  },
  {
   "cell_type": "code",
   "execution_count": 28,
   "id": "8f9c2b8a",
   "metadata": {
    "scrolled": false
   },
   "outputs": [
    {
     "data": {
      "text/plain": [
       ":           84085\n",
       "في          67687\n",
       ".           50449\n",
       "RT          45873\n",
       "من          45532\n",
       "..          34153\n",
       "ولي         30447\n",
       "العهد       29206\n",
       "على         27512\n",
       "بن          19569\n",
       "أسعار       17673\n",
       "''          16674\n",
       "``          16281\n",
       "سمو         14898\n",
       "السعودية    14092\n",
       "و           13647\n",
       "مع          13350\n",
       "السعودي     11716\n",
       "محمد        10891\n",
       "إلى         10702\n",
       "|           10312\n",
       "عن           9949\n",
       "-            9792\n",
       "وطن          9766\n",
       "عاجل         9306\n",
       "سلمان        9261\n",
       "عكاظ         8983\n",
       "(            8584\n",
       "الله         8506\n",
       ")            8329\n",
       "اليوم        8298\n",
       "دوري         8231\n",
       "الاتحاد      7958\n",
       "أن           7878\n",
       "المملكة      7782\n",
       "الهلال       7420\n",
       "النفط        7372\n",
       "رئيس         7322\n",
       "الحرمين      7017\n",
       "آسيا         6865\n",
       "الأمير       6656\n",
       "«            6647\n",
       "»            6569\n",
       "تعاون        6506\n",
       "أبطال        6483\n",
       "مواطن        6384\n",
       "اتحاد        6382\n",
       "بين          6313\n",
       "بعد          6205\n",
       "ملكي         6151\n",
       "dtype: int64"
      ]
     },
     "execution_count": 28,
     "metadata": {},
     "output_type": "execute_result"
    }
   ],
   "source": [
    "pd.Series(gen_words).value_counts()[:50]"
   ]
  },
  {
   "cell_type": "code",
   "execution_count": 29,
   "id": "4fa8dcd2",
   "metadata": {
    "scrolled": false
   },
   "outputs": [
    {
     "data": {
      "text/plain": [
       ":          41502\n",
       "RT         34848\n",
       "الله       14419\n",
       "من         13558\n",
       ".          12223\n",
       "في          9763\n",
       "..          7725\n",
       "لا          6257\n",
       "على         5749\n",
       "،           5431\n",
       "اللهم       5175\n",
       "و           4400\n",
       "!           4148\n",
       "عن          3654\n",
       "قروب        3556\n",
       "(           3368\n",
       "للدعم       3264\n",
       "``          3214\n",
       ")           3207\n",
       "-           3201\n",
       "ما          3051\n",
       "إلا         2832\n",
       "كل          2819\n",
       "مع          2715\n",
       "الرياض      2659\n",
       "ولا         2654\n",
       "''          2430\n",
       "ساعه        2352\n",
       "سبحان       2314\n",
       "*           2255\n",
       "أن          2165\n",
       "يا          1834\n",
       "=           1779\n",
       "ساعة        1772\n",
       "طريق        1601\n",
       "قال         1572\n",
       "خلال        1565\n",
       "لك          1513\n",
       "خارج        1505\n",
       "…           1489\n",
       "العظيم      1478\n",
       "التوصيل     1466\n",
       "الهلال      1438\n",
       "إله         1436\n",
       "له          1402\n",
       "ان          1370\n",
       "...         1344\n",
       "يوم         1313\n",
       "هو          1311\n",
       "الا         1307\n",
       "dtype: int64"
      ]
     },
     "execution_count": 29,
     "metadata": {},
     "output_type": "execute_result"
    }
   ],
   "source": [
    "pd.Series(prop_words).value_counts()[:50]"
   ]
  },
  {
   "cell_type": "code",
   "execution_count": 30,
   "id": "41680d72",
   "metadata": {},
   "outputs": [
    {
     "data": {
      "text/plain": [
       "['انبرى',\n",
       " 'لكنَّ',\n",
       " 'أهلا',\n",
       " 'جويلية',\n",
       " 'حمو',\n",
       " 'أصلا',\n",
       " 'لمّا',\n",
       " 'ترك',\n",
       " 'أنتم',\n",
       " 'مثل']"
      ]
     },
     "execution_count": 30,
     "metadata": {},
     "output_type": "execute_result"
    }
   ],
   "source": [
    "# word cloud without stop words\n",
    "\n",
    "import random\n",
    "from nltk.corpus import stopwords\n",
    "\n",
    "sw = stopwords.words(\"arabic\")\n",
    "random.sample(sw, 10)"
   ]
  },
  {
   "cell_type": "code",
   "execution_count": 31,
   "id": "f91dab5e",
   "metadata": {},
   "outputs": [],
   "source": [
    "gen_words_sw = list(np.array(gen_words)[~np.in1d(gen_words, sw)])\n",
    "prop_words_sw = list(np.array(prop_words)[~np.in1d(prop_words, sw)])"
   ]
  },
  {
   "cell_type": "code",
   "execution_count": 32,
   "id": "00df78b9",
   "metadata": {
    "scrolled": false
   },
   "outputs": [
    {
     "data": {
      "text/plain": [
       "[':',\n",
       " '.',\n",
       " 'RT',\n",
       " '..',\n",
       " 'ولي',\n",
       " 'العهد',\n",
       " 'بن',\n",
       " 'أسعار',\n",
       " \"''\",\n",
       " '``',\n",
       " 'سمو',\n",
       " 'السعودية',\n",
       " 'السعودي',\n",
       " 'محمد',\n",
       " '|',\n",
       " '-',\n",
       " 'وطن',\n",
       " 'عاجل',\n",
       " 'سلمان',\n",
       " 'عكاظ',\n",
       " '(',\n",
       " 'الله',\n",
       " ')',\n",
       " 'اليوم',\n",
       " 'دوري',\n",
       " 'الاتحاد',\n",
       " 'المملكة',\n",
       " 'الهلال',\n",
       " 'النفط',\n",
       " 'رئيس',\n",
       " 'الحرمين',\n",
       " 'آسيا',\n",
       " 'الأمير',\n",
       " '«',\n",
       " '»',\n",
       " 'تعاون',\n",
       " 'أبطال',\n",
       " 'مواطن',\n",
       " 'اتحاد',\n",
       " 'ملكي',\n",
       " 'خلال',\n",
       " '،',\n",
       " 'واس',\n",
       " 'أمر',\n",
       " 'الذهب',\n",
       " 'خادم',\n",
       " 'ان',\n",
       " 'وزير',\n",
       " 'الشريفين',\n",
       " 'عبدالعزيز']"
      ]
     },
     "execution_count": 32,
     "metadata": {},
     "output_type": "execute_result"
    }
   ],
   "source": [
    "pd.Series(gen_words_sw).value_counts()[:50].index.tolist()"
   ]
  },
  {
   "cell_type": "code",
   "execution_count": 33,
   "id": "cae0b9eb",
   "metadata": {
    "scrolled": false
   },
   "outputs": [
    {
     "data": {
      "text/plain": [
       "[':',\n",
       " 'RT',\n",
       " 'الله',\n",
       " '.',\n",
       " '..',\n",
       " '،',\n",
       " 'اللهم',\n",
       " '!',\n",
       " 'قروب',\n",
       " '(',\n",
       " 'للدعم',\n",
       " '``',\n",
       " ')',\n",
       " '-',\n",
       " 'الرياض',\n",
       " \"''\",\n",
       " 'ساعه',\n",
       " '*',\n",
       " '=',\n",
       " 'ساعة',\n",
       " 'طريق',\n",
       " 'قال',\n",
       " 'خلال',\n",
       " 'خارج',\n",
       " '…',\n",
       " 'العظيم',\n",
       " 'التوصيل',\n",
       " 'الهلال',\n",
       " 'إله',\n",
       " 'ان',\n",
       " '...',\n",
       " 'يوم',\n",
       " 'الا',\n",
       " 'اليوم',\n",
       " 'الشحن',\n",
       " 'رجالي',\n",
       " 'سناب',\n",
       " 'اللي',\n",
       " ',',\n",
       " 'محمد',\n",
       " 'بن',\n",
       " 'النصر',\n",
       " 'الف',\n",
       " '؟',\n",
       " 'أكبر',\n",
       " 'الحمد',\n",
       " 'شات',\n",
       " 'يارب',\n",
       " 'والله',\n",
       " 'ﷺ']"
      ]
     },
     "execution_count": 33,
     "metadata": {},
     "output_type": "execute_result"
    }
   ],
   "source": [
    "pd.Series(prop_words_sw).value_counts()[:50].index.tolist()"
   ]
  },
  {
   "cell_type": "markdown",
   "id": "5bff3878",
   "metadata": {},
   "source": [
    "Loaded language key words should be extacted from the most repeated words by propagandists.\n"
   ]
  },
  {
   "cell_type": "code",
   "execution_count": 34,
   "id": "5b3c593d",
   "metadata": {},
   "outputs": [],
   "source": [
    "# multiple preprocessing steps using stanza pipeline\n",
    "\n",
    "import stanza\n",
    "\n",
    "arnlp = stanza.Pipeline(\"ar\", verbose=False, download_method=None)"
   ]
  },
  {
   "cell_type": "code",
   "execution_count": 35,
   "id": "6e16e592",
   "metadata": {},
   "outputs": [
    {
     "data": {
      "application/vnd.jupyter.widget-view+json": {
       "model_id": "0a5ce912005f4aabb5ec46810d06c741",
       "version_major": 2,
       "version_minor": 0
      },
      "text/plain": [
       "  0%|          | 0/140612 [00:00<?, ?it/s]"
      ]
     },
     "metadata": {},
     "output_type": "display_data"
    }
   ],
   "source": [
    "gen_data['docs'] = [arnlp(t) for t in tqdm(gen_data.text, total=len(gen_data))]"
   ]
  },
  {
   "cell_type": "code",
   "execution_count": 36,
   "id": "e720398e",
   "metadata": {
    "scrolled": true
   },
   "outputs": [
    {
     "data": {
      "text/plain": [
       "[\n",
       "  [\n",
       "    {\n",
       "      \"id\": 1,\n",
       "      \"text\": \"الفائز\",\n",
       "      \"lemma\": \"فَائِز\",\n",
       "      \"upos\": \"NOUN\",\n",
       "      \"xpos\": \"N------S1D\",\n",
       "      \"feats\": \"Case=Nom|Definite=Def|Number=Sing\",\n",
       "      \"head\": 8,\n",
       "      \"deprel\": \"nsubj\",\n",
       "      \"start_char\": 0,\n",
       "      \"end_char\": 6,\n",
       "      \"ner\": \"O\",\n",
       "      \"multi_ner\": [\n",
       "        \"O\"\n",
       "      ]\n",
       "    },\n",
       "    {\n",
       "      \"id\": [\n",
       "        2,\n",
       "        3\n",
       "      ],\n",
       "      \"text\": \"بالمركز\",\n",
       "      \"start_char\": 7,\n",
       "      \"end_char\": 14,\n",
       "      \"ner\": \"O\",\n",
       "      \"multi_ner\": [\n",
       "        \"O\"\n",
       "      ]\n",
       "    },\n",
       "    {\n",
       "      \"id\": 2,\n",
       "      \"text\": \"ب\",\n",
       "      \"lemma\": \"بِ\",\n",
       "      \"upos\": \"ADP\",\n",
       "      \"xpos\": \"P---------\",\n",
       "      \"feats\": \"AdpType=Prep\",\n",
       "      \"head\": 3,\n",
       "      \"deprel\": \"case\"\n",
       "    },\n",
       "    {\n",
       "      \"id\": 3,\n",
       "      \"text\": \"المركز\",\n",
       "      \"lemma\": \"مَركَز\",\n",
       "      \"upos\": \"NOUN\",\n",
       "      \"xpos\": \"N------S2D\",\n",
       "      \"feats\": \"Case=Gen|Definite=Def|Number=Sing\",\n",
       "      \"head\": 1,\n",
       "      \"deprel\": \"nmod\"\n",
       "    },\n",
       "    {\n",
       "      \"id\": 4,\n",
       "      \"text\": \"الثالث\",\n",
       "      \"lemma\": \"ثَالِث\",\n",
       "      \"upos\": \"ADJ\",\n",
       "      \"xpos\": \"A-----MS2D\",\n",
       "      \"feats\": \"Case=Gen|Definite=Def|Gender=Masc|Number=Sing\",\n",
       "      \"head\": 3,\n",
       "      \"deprel\": \"amod\",\n",
       "      \"start_char\": 15,\n",
       "      \"end_char\": 21,\n",
       "      \"ner\": \"O\",\n",
       "      \"multi_ner\": [\n",
       "        \"O\"\n",
       "      ]\n",
       "    },\n",
       "    {\n",
       "      \"id\": 5,\n",
       "      \"text\": \"في\",\n",
       "      \"lemma\": \"فِي\",\n",
       "      \"upos\": \"ADP\",\n",
       "      \"xpos\": \"P---------\",\n",
       "      \"feats\": \"AdpType=Prep\",\n",
       "      \"head\": 6,\n",
       "      \"deprel\": \"case\",\n",
       "      \"start_char\": 22,\n",
       "      \"end_char\": 24,\n",
       "      \"ner\": \"O\",\n",
       "      \"multi_ner\": [\n",
       "        \"O\"\n",
       "      ]\n",
       "    },\n",
       "    {\n",
       "      \"id\": 6,\n",
       "      \"text\": \"هاكثون\",\n",
       "      \"lemma\": \"هَاكِث\",\n",
       "      \"upos\": \"NOUN\",\n",
       "      \"xpos\": \"N------P2R\",\n",
       "      \"feats\": \"Case=Gen|Definite=Cons|Number=Plur\",\n",
       "      \"head\": 3,\n",
       "      \"deprel\": \"nmod\",\n",
       "      \"start_char\": 25,\n",
       "      \"end_char\": 31,\n",
       "      \"ner\": \"O\",\n",
       "      \"multi_ner\": [\n",
       "        \"O\"\n",
       "      ]\n",
       "    },\n",
       "    {\n",
       "      \"id\": 7,\n",
       "      \"text\": \"الادخار\",\n",
       "      \"lemma\": \"اِدِّخَار\",\n",
       "      \"upos\": \"NOUN\",\n",
       "      \"xpos\": \"N------S2D\",\n",
       "      \"feats\": \"Case=Gen|Definite=Def|Number=Sing\",\n",
       "      \"head\": 6,\n",
       "      \"deprel\": \"nmod\",\n",
       "      \"start_char\": 32,\n",
       "      \"end_char\": 39,\n",
       "      \"ner\": \"O\",\n",
       "      \"multi_ner\": [\n",
       "        \"O\"\n",
       "      ]\n",
       "    },\n",
       "    {\n",
       "      \"id\": 8,\n",
       "      \"text\": \"وزين\",\n",
       "      \"lemma\": \"وَزِين\",\n",
       "      \"upos\": \"NOUN\",\n",
       "      \"xpos\": \"N------S1R\",\n",
       "      \"feats\": \"Case=Nom|Definite=Cons|Number=Sing\",\n",
       "      \"head\": 0,\n",
       "      \"deprel\": \"root\",\n",
       "      \"start_char\": 40,\n",
       "      \"end_char\": 44,\n",
       "      \"ner\": \"O\",\n",
       "      \"multi_ner\": [\n",
       "        \"O\"\n",
       "      ]\n",
       "    },\n",
       "    {\n",
       "      \"id\": 9,\n",
       "      \"text\": \"فريق\",\n",
       "      \"lemma\": \"فَرِيق\",\n",
       "      \"upos\": \"NOUN\",\n",
       "      \"xpos\": \"N------S2R\",\n",
       "      \"feats\": \"Case=Gen|Definite=Cons|Number=Sing\",\n",
       "      \"head\": 8,\n",
       "      \"deprel\": \"nmod\",\n",
       "      \"start_char\": 45,\n",
       "      \"end_char\": 49,\n",
       "      \"ner\": \"B-ORG\",\n",
       "      \"multi_ner\": [\n",
       "        \"B-ORG\"\n",
       "      ]\n",
       "    },\n",
       "    {\n",
       "      \"id\": 10,\n",
       "      \"text\": \"إيزان\",\n",
       "      \"lemma\": \"إِيزَان\",\n",
       "      \"upos\": \"X\",\n",
       "      \"xpos\": \"U---------\",\n",
       "      \"head\": 9,\n",
       "      \"deprel\": \"nmod\",\n",
       "      \"start_char\": 50,\n",
       "      \"end_char\": 55,\n",
       "      \"ner\": \"E-ORG\",\n",
       "      \"multi_ner\": [\n",
       "        \"E-ORG\"\n",
       "      ]\n",
       "    },\n",
       "    {\n",
       "      \"id\": [\n",
       "        11,\n",
       "        12\n",
       "      ],\n",
       "      \"text\": \"بفكرة\",\n",
       "      \"start_char\": 56,\n",
       "      \"end_char\": 61,\n",
       "      \"ner\": \"O\",\n",
       "      \"multi_ner\": [\n",
       "        \"O\"\n",
       "      ]\n",
       "    },\n",
       "    {\n",
       "      \"id\": 11,\n",
       "      \"text\": \"ب\",\n",
       "      \"lemma\": \"بِ\",\n",
       "      \"upos\": \"ADP\",\n",
       "      \"xpos\": \"P---------\",\n",
       "      \"feats\": \"AdpType=Prep\",\n",
       "      \"head\": 12,\n",
       "      \"deprel\": \"case\"\n",
       "    },\n",
       "    {\n",
       "      \"id\": 12,\n",
       "      \"text\": \"فكرة\",\n",
       "      \"lemma\": \"فِكرَة\",\n",
       "      \"upos\": \"NOUN\",\n",
       "      \"xpos\": \"N------S2R\",\n",
       "      \"feats\": \"Case=Gen|Definite=Cons|Number=Sing\",\n",
       "      \"head\": 8,\n",
       "      \"deprel\": \"nmod\"\n",
       "    },\n",
       "    {\n",
       "      \"id\": 13,\n",
       "      \"text\": \"تطبيق\",\n",
       "      \"lemma\": \"تَطبِيق\",\n",
       "      \"upos\": \"NOUN\",\n",
       "      \"xpos\": \"N------S2I\",\n",
       "      \"feats\": \"Case=Gen|Definite=Ind|Number=Sing\",\n",
       "      \"head\": 12,\n",
       "      \"deprel\": \"nmod\",\n",
       "      \"start_char\": 62,\n",
       "      \"end_char\": 67,\n",
       "      \"ner\": \"O\",\n",
       "      \"multi_ner\": [\n",
       "        \"O\"\n",
       "      ]\n",
       "    },\n",
       "    {\n",
       "      \"id\": 14,\n",
       "      \"text\": \"يختص\",\n",
       "      \"lemma\": \"خَتَص\",\n",
       "      \"upos\": \"VERB\",\n",
       "      \"xpos\": \"VIIA-3MS--\",\n",
       "      \"feats\": \"Aspect=Imp|Gender=Masc|Mood=Ind|Number=Sing|Person=3|VerbForm=Fin|Voice=Act\",\n",
       "      \"head\": 13,\n",
       "      \"deprel\": \"acl\",\n",
       "      \"start_char\": 68,\n",
       "      \"end_char\": 72,\n",
       "      \"ner\": \"O\",\n",
       "      \"multi_ner\": [\n",
       "        \"O\"\n",
       "      ]\n",
       "    },\n",
       "    {\n",
       "      \"id\": [\n",
       "        15,\n",
       "        16\n",
       "      ],\n",
       "      \"text\": \"بالتقنية\",\n",
       "      \"start_char\": 73,\n",
       "      \"end_char\": 81,\n",
       "      \"ner\": \"O\",\n",
       "      \"multi_ner\": [\n",
       "        \"O\"\n",
       "      ]\n",
       "    },\n",
       "    {\n",
       "      \"id\": 15,\n",
       "      \"text\": \"ب\",\n",
       "      \"lemma\": \"بِ\",\n",
       "      \"upos\": \"ADP\",\n",
       "      \"xpos\": \"P---------\",\n",
       "      \"feats\": \"AdpType=Prep\",\n",
       "      \"head\": 16,\n",
       "      \"deprel\": \"case\"\n",
       "    },\n",
       "    {\n",
       "      \"id\": 16,\n",
       "      \"text\": \"التقنية\",\n",
       "      \"lemma\": \"تَقنِيَّة\",\n",
       "      \"upos\": \"NOUN\",\n",
       "      \"xpos\": \"N------S2D\",\n",
       "      \"feats\": \"Case=Gen|Definite=Def|Number=Sing\",\n",
       "      \"head\": 14,\n",
       "      \"deprel\": \"obl:arg\"\n",
       "    },\n",
       "    {\n",
       "      \"id\": 17,\n",
       "      \"text\": \"المالية\",\n",
       "      \"lemma\": \"مَالِيّ\",\n",
       "      \"upos\": \"ADJ\",\n",
       "      \"xpos\": \"A-----FS2D\",\n",
       "      \"feats\": \"Case=Gen|Definite=Def|Gender=Fem|Number=Sing\",\n",
       "      \"head\": 16,\n",
       "      \"deprel\": \"amod\",\n",
       "      \"start_char\": 82,\n",
       "      \"end_char\": 89,\n",
       "      \"ner\": \"O\",\n",
       "      \"multi_ner\": [\n",
       "        \"O\"\n",
       "      ]\n",
       "    },\n",
       "    {\n",
       "      \"id\": 18,\n",
       "      \"text\": \"الشخصية\",\n",
       "      \"lemma\": \"شَخصِيّ\",\n",
       "      \"upos\": \"ADJ\",\n",
       "      \"xpos\": \"A-----FS2D\",\n",
       "      \"feats\": \"Case=Gen|Definite=Def|Gender=Fem|Number=Sing\",\n",
       "      \"head\": 16,\n",
       "      \"deprel\": \"amod\",\n",
       "      \"start_char\": 90,\n",
       "      \"end_char\": 97,\n",
       "      \"ner\": \"O\",\n",
       "      \"multi_ner\": [\n",
       "        \"O\"\n",
       "      ]\n",
       "    },\n",
       "    {\n",
       "      \"id\": 19,\n",
       "      \"text\": \"من\",\n",
       "      \"lemma\": \"مِن\",\n",
       "      \"upos\": \"ADP\",\n",
       "      \"xpos\": \"P---------\",\n",
       "      \"feats\": \"AdpType=Prep\",\n",
       "      \"head\": 20,\n",
       "      \"deprel\": \"case\",\n",
       "      \"start_char\": 98,\n",
       "      \"end_char\": 100,\n",
       "      \"ner\": \"O\",\n",
       "      \"multi_ner\": [\n",
       "        \"O\"\n",
       "      ]\n",
       "    },\n",
       "    {\n",
       "      \"id\": 20,\n",
       "      \"text\": \"تتبع\",\n",
       "      \"lemma\": \"تَتَبُّع\",\n",
       "      \"upos\": \"NOUN\",\n",
       "      \"xpos\": \"N------S2R\",\n",
       "      \"feats\": \"Case=Gen|Definite=Cons|Number=Sing\",\n",
       "      \"head\": 13,\n",
       "      \"deprel\": \"nmod\",\n",
       "      \"start_char\": 101,\n",
       "      \"end_char\": 105,\n",
       "      \"ner\": \"O\",\n",
       "      \"multi_ner\": [\n",
       "        \"O\"\n",
       "      ]\n",
       "    },\n",
       "    {\n",
       "      \"id\": [\n",
       "        21,\n",
       "        22\n",
       "      ],\n",
       "      \"text\": \"وادارة\",\n",
       "      \"start_char\": 106,\n",
       "      \"end_char\": 112,\n",
       "      \"ner\": \"O\",\n",
       "      \"multi_ner\": [\n",
       "        \"O\"\n",
       "      ]\n",
       "    },\n",
       "    {\n",
       "      \"id\": 21,\n",
       "      \"text\": \"و\",\n",
       "      \"lemma\": \"وَ\",\n",
       "      \"upos\": \"CCONJ\",\n",
       "      \"xpos\": \"C---------\",\n",
       "      \"head\": 22,\n",
       "      \"deprel\": \"cc\"\n",
       "    },\n",
       "    {\n",
       "      \"id\": 22,\n",
       "      \"text\": \"إدارة\",\n",
       "      \"lemma\": \"إِدَارَة\",\n",
       "      \"upos\": \"NOUN\",\n",
       "      \"xpos\": \"N------S2R\",\n",
       "      \"feats\": \"Case=Gen|Definite=Cons|Number=Sing\",\n",
       "      \"head\": 20,\n",
       "      \"deprel\": \"conj\"\n",
       "    },\n",
       "    {\n",
       "      \"id\": 23,\n",
       "      \"text\": \"المصاريف\",\n",
       "      \"lemma\": \"مَصرُوف\",\n",
       "      \"upos\": \"NOUN\",\n",
       "      \"xpos\": \"N------P2D\",\n",
       "      \"feats\": \"Case=Gen|Definite=Def|Number=Plur\",\n",
       "      \"head\": 20,\n",
       "      \"deprel\": \"nmod\",\n",
       "      \"start_char\": 113,\n",
       "      \"end_char\": 121,\n",
       "      \"ner\": \"O\",\n",
       "      \"multi_ner\": [\n",
       "        \"O\"\n",
       "      ]\n",
       "    },\n",
       "    {\n",
       "      \"id\": [\n",
       "        24,\n",
       "        25\n",
       "      ],\n",
       "      \"text\": \"والحصول\",\n",
       "      \"start_char\": 122,\n",
       "      \"end_char\": 129,\n",
       "      \"ner\": \"O\",\n",
       "      \"multi_ner\": [\n",
       "        \"O\"\n",
       "      ]\n",
       "    },\n",
       "    {\n",
       "      \"id\": 24,\n",
       "      \"text\": \"و\",\n",
       "      \"lemma\": \"وَ\",\n",
       "      \"upos\": \"CCONJ\",\n",
       "      \"xpos\": \"C---------\",\n",
       "      \"head\": 25,\n",
       "      \"deprel\": \"cc\"\n",
       "    },\n",
       "    {\n",
       "      \"id\": 25,\n",
       "      \"text\": \"الحصول\",\n",
       "      \"lemma\": \"حُصُول\",\n",
       "      \"upos\": \"NOUN\",\n",
       "      \"xpos\": \"N------S2D\",\n",
       "      \"feats\": \"Case=Gen|Definite=Def|Number=Sing\",\n",
       "      \"head\": 20,\n",
       "      \"deprel\": \"conj\"\n",
       "    },\n",
       "    {\n",
       "      \"id\": 26,\n",
       "      \"text\": \"على\",\n",
       "      \"lemma\": \"عَلَى\",\n",
       "      \"upos\": \"ADP\",\n",
       "      \"xpos\": \"P---------\",\n",
       "      \"feats\": \"AdpType=Prep\",\n",
       "      \"head\": 27,\n",
       "      \"deprel\": \"case\",\n",
       "      \"start_char\": 130,\n",
       "      \"end_char\": 133,\n",
       "      \"ner\": \"O\",\n",
       "      \"multi_ner\": [\n",
       "        \"O\"\n",
       "      ]\n",
       "    },\n",
       "    {\n",
       "      \"id\": 27,\n",
       "      \"text\": \"قروض\",\n",
       "      \"lemma\": \"قَرض\",\n",
       "      \"upos\": \"NOUN\",\n",
       "      \"xpos\": \"N------P2I\",\n",
       "      \"feats\": \"Case=Gen|Definite=Ind|Number=Plur\",\n",
       "      \"head\": 25,\n",
       "      \"deprel\": \"nmod\",\n",
       "      \"start_char\": 134,\n",
       "      \"end_char\": 138,\n",
       "      \"ner\": \"O\",\n",
       "      \"multi_ner\": [\n",
       "        \"O\"\n",
       "      ]\n",
       "    },\n",
       "    {\n",
       "      \"id\": 28,\n",
       "      \"text\": \"مصغرة\",\n",
       "      \"lemma\": \"مُصَغَّر\",\n",
       "      \"upos\": \"ADJ\",\n",
       "      \"xpos\": \"A-----FS2I\",\n",
       "      \"feats\": \"Case=Gen|Definite=Ind|Gender=Fem|Number=Sing\",\n",
       "      \"head\": 27,\n",
       "      \"deprel\": \"amod\",\n",
       "      \"start_char\": 139,\n",
       "      \"end_char\": 144,\n",
       "      \"ner\": \"O\",\n",
       "      \"multi_ner\": [\n",
       "        \"O\"\n",
       "      ]\n",
       "    },\n",
       "    {\n",
       "      \"id\": 29,\n",
       "      \"text\": \".\",\n",
       "      \"lemma\": \".\",\n",
       "      \"upos\": \"PUNCT\",\n",
       "      \"xpos\": \"G---------\",\n",
       "      \"head\": 8,\n",
       "      \"deprel\": \"punct\",\n",
       "      \"start_char\": 144,\n",
       "      \"end_char\": 145,\n",
       "      \"ner\": \"O\",\n",
       "      \"multi_ner\": [\n",
       "        \"O\"\n",
       "      ]\n",
       "    }\n",
       "  ]\n",
       "]"
      ]
     },
     "execution_count": 36,
     "metadata": {},
     "output_type": "execute_result"
    }
   ],
   "source": [
    "gen_data['docs'][0]"
   ]
  },
  {
   "cell_type": "code",
   "execution_count": 37,
   "id": "9aa2a178",
   "metadata": {},
   "outputs": [],
   "source": [
    "# prop_data['docs'] = [arnlp(t) for t in tqdm(prop_data.text, total=len(prop_data))]"
   ]
  },
  {
   "cell_type": "code",
   "execution_count": 38,
   "id": "f47dde59",
   "metadata": {},
   "outputs": [],
   "source": [
    "gen_data.to_pickle('../data/processed/gen_data_ents.pkl')"
   ]
  },
  {
   "cell_type": "code",
   "execution_count": 39,
   "id": "7e4e0fae",
   "metadata": {},
   "outputs": [],
   "source": [
    "# prop_data.to_pickle('../data/processed/prop_data_ents.pkl')"
   ]
  },
  {
   "cell_type": "code",
   "execution_count": 40,
   "id": "001b795b",
   "metadata": {},
   "outputs": [],
   "source": [
    "gen_data = pd.read_pickle(\"../data/processed/gen_data_ents.pkl\")\n",
    "prop_data = pd.read_pickle(\"../data/processed/prop_data_ents.pkl\")"
   ]
  },
  {
   "cell_type": "code",
   "execution_count": 41,
   "id": "1ef39c35",
   "metadata": {},
   "outputs": [
    {
     "data": {
      "text/plain": [
       "[\n",
       "  [\n",
       "    {\n",
       "      \"id\": 1,\n",
       "      \"text\": \"الفائز\",\n",
       "      \"lemma\": \"فَائِز\",\n",
       "      \"upos\": \"NOUN\",\n",
       "      \"xpos\": \"N------S1D\",\n",
       "      \"feats\": \"Case=Nom|Definite=Def|Number=Sing\",\n",
       "      \"head\": 8,\n",
       "      \"deprel\": \"nsubj\",\n",
       "      \"start_char\": 0,\n",
       "      \"end_char\": 6,\n",
       "      \"ner\": \"O\",\n",
       "      \"multi_ner\": [\n",
       "        \"O\"\n",
       "      ]\n",
       "    },\n",
       "    {\n",
       "      \"id\": [\n",
       "        2,\n",
       "        3\n",
       "      ],\n",
       "      \"text\": \"بالمركز\",\n",
       "      \"start_char\": 7,\n",
       "      \"end_char\": 14,\n",
       "      \"ner\": \"O\",\n",
       "      \"multi_ner\": [\n",
       "        \"O\"\n",
       "      ]\n",
       "    },\n",
       "    {\n",
       "      \"id\": 2,\n",
       "      \"text\": \"ب\",\n",
       "      \"lemma\": \"بِ\",\n",
       "      \"upos\": \"ADP\",\n",
       "      \"xpos\": \"P---------\",\n",
       "      \"feats\": \"AdpType=Prep\",\n",
       "      \"head\": 3,\n",
       "      \"deprel\": \"case\"\n",
       "    },\n",
       "    {\n",
       "      \"id\": 3,\n",
       "      \"text\": \"المركز\",\n",
       "      \"lemma\": \"مَركَز\",\n",
       "      \"upos\": \"NOUN\",\n",
       "      \"xpos\": \"N------S2D\",\n",
       "      \"feats\": \"Case=Gen|Definite=Def|Number=Sing\",\n",
       "      \"head\": 1,\n",
       "      \"deprel\": \"nmod\"\n",
       "    },\n",
       "    {\n",
       "      \"id\": 4,\n",
       "      \"text\": \"الثالث\",\n",
       "      \"lemma\": \"ثَالِث\",\n",
       "      \"upos\": \"ADJ\",\n",
       "      \"xpos\": \"A-----MS2D\",\n",
       "      \"feats\": \"Case=Gen|Definite=Def|Gender=Masc|Number=Sing\",\n",
       "      \"head\": 3,\n",
       "      \"deprel\": \"amod\",\n",
       "      \"start_char\": 15,\n",
       "      \"end_char\": 21,\n",
       "      \"ner\": \"O\",\n",
       "      \"multi_ner\": [\n",
       "        \"O\"\n",
       "      ]\n",
       "    },\n",
       "    {\n",
       "      \"id\": 5,\n",
       "      \"text\": \"في\",\n",
       "      \"lemma\": \"فِي\",\n",
       "      \"upos\": \"ADP\",\n",
       "      \"xpos\": \"P---------\",\n",
       "      \"feats\": \"AdpType=Prep\",\n",
       "      \"head\": 6,\n",
       "      \"deprel\": \"case\",\n",
       "      \"start_char\": 22,\n",
       "      \"end_char\": 24,\n",
       "      \"ner\": \"O\",\n",
       "      \"multi_ner\": [\n",
       "        \"O\"\n",
       "      ]\n",
       "    },\n",
       "    {\n",
       "      \"id\": 6,\n",
       "      \"text\": \"هاكثون\",\n",
       "      \"lemma\": \"هَاكِث\",\n",
       "      \"upos\": \"NOUN\",\n",
       "      \"xpos\": \"N------P2R\",\n",
       "      \"feats\": \"Case=Gen|Definite=Cons|Number=Plur\",\n",
       "      \"head\": 3,\n",
       "      \"deprel\": \"nmod\",\n",
       "      \"start_char\": 25,\n",
       "      \"end_char\": 31,\n",
       "      \"ner\": \"O\",\n",
       "      \"multi_ner\": [\n",
       "        \"O\"\n",
       "      ]\n",
       "    },\n",
       "    {\n",
       "      \"id\": 7,\n",
       "      \"text\": \"الادخار\",\n",
       "      \"lemma\": \"اِدِّخَار\",\n",
       "      \"upos\": \"NOUN\",\n",
       "      \"xpos\": \"N------S2D\",\n",
       "      \"feats\": \"Case=Gen|Definite=Def|Number=Sing\",\n",
       "      \"head\": 6,\n",
       "      \"deprel\": \"nmod\",\n",
       "      \"start_char\": 32,\n",
       "      \"end_char\": 39,\n",
       "      \"ner\": \"O\",\n",
       "      \"multi_ner\": [\n",
       "        \"O\"\n",
       "      ]\n",
       "    },\n",
       "    {\n",
       "      \"id\": 8,\n",
       "      \"text\": \"وزين\",\n",
       "      \"lemma\": \"وَزِين\",\n",
       "      \"upos\": \"NOUN\",\n",
       "      \"xpos\": \"N------S1R\",\n",
       "      \"feats\": \"Case=Nom|Definite=Cons|Number=Sing\",\n",
       "      \"head\": 0,\n",
       "      \"deprel\": \"root\",\n",
       "      \"start_char\": 40,\n",
       "      \"end_char\": 44,\n",
       "      \"ner\": \"O\",\n",
       "      \"multi_ner\": [\n",
       "        \"O\"\n",
       "      ]\n",
       "    },\n",
       "    {\n",
       "      \"id\": 9,\n",
       "      \"text\": \"فريق\",\n",
       "      \"lemma\": \"فَرِيق\",\n",
       "      \"upos\": \"NOUN\",\n",
       "      \"xpos\": \"N------S2R\",\n",
       "      \"feats\": \"Case=Gen|Definite=Cons|Number=Sing\",\n",
       "      \"head\": 8,\n",
       "      \"deprel\": \"nmod\",\n",
       "      \"start_char\": 45,\n",
       "      \"end_char\": 49,\n",
       "      \"ner\": \"B-ORG\",\n",
       "      \"multi_ner\": [\n",
       "        \"B-ORG\"\n",
       "      ]\n",
       "    },\n",
       "    {\n",
       "      \"id\": 10,\n",
       "      \"text\": \"إيزان\",\n",
       "      \"lemma\": \"إِيزَان\",\n",
       "      \"upos\": \"X\",\n",
       "      \"xpos\": \"U---------\",\n",
       "      \"head\": 9,\n",
       "      \"deprel\": \"nmod\",\n",
       "      \"start_char\": 50,\n",
       "      \"end_char\": 55,\n",
       "      \"ner\": \"E-ORG\",\n",
       "      \"multi_ner\": [\n",
       "        \"E-ORG\"\n",
       "      ]\n",
       "    },\n",
       "    {\n",
       "      \"id\": [\n",
       "        11,\n",
       "        12\n",
       "      ],\n",
       "      \"text\": \"بفكرة\",\n",
       "      \"start_char\": 56,\n",
       "      \"end_char\": 61,\n",
       "      \"ner\": \"O\",\n",
       "      \"multi_ner\": [\n",
       "        \"O\"\n",
       "      ]\n",
       "    },\n",
       "    {\n",
       "      \"id\": 11,\n",
       "      \"text\": \"ب\",\n",
       "      \"lemma\": \"بِ\",\n",
       "      \"upos\": \"ADP\",\n",
       "      \"xpos\": \"P---------\",\n",
       "      \"feats\": \"AdpType=Prep\",\n",
       "      \"head\": 12,\n",
       "      \"deprel\": \"case\"\n",
       "    },\n",
       "    {\n",
       "      \"id\": 12,\n",
       "      \"text\": \"فكرة\",\n",
       "      \"lemma\": \"فِكرَة\",\n",
       "      \"upos\": \"NOUN\",\n",
       "      \"xpos\": \"N------S2R\",\n",
       "      \"feats\": \"Case=Gen|Definite=Cons|Number=Sing\",\n",
       "      \"head\": 8,\n",
       "      \"deprel\": \"nmod\"\n",
       "    },\n",
       "    {\n",
       "      \"id\": 13,\n",
       "      \"text\": \"تطبيق\",\n",
       "      \"lemma\": \"تَطبِيق\",\n",
       "      \"upos\": \"NOUN\",\n",
       "      \"xpos\": \"N------S2I\",\n",
       "      \"feats\": \"Case=Gen|Definite=Ind|Number=Sing\",\n",
       "      \"head\": 12,\n",
       "      \"deprel\": \"nmod\",\n",
       "      \"start_char\": 62,\n",
       "      \"end_char\": 67,\n",
       "      \"ner\": \"O\",\n",
       "      \"multi_ner\": [\n",
       "        \"O\"\n",
       "      ]\n",
       "    },\n",
       "    {\n",
       "      \"id\": 14,\n",
       "      \"text\": \"يختص\",\n",
       "      \"lemma\": \"خَتَص\",\n",
       "      \"upos\": \"VERB\",\n",
       "      \"xpos\": \"VIIA-3MS--\",\n",
       "      \"feats\": \"Aspect=Imp|Gender=Masc|Mood=Ind|Number=Sing|Person=3|VerbForm=Fin|Voice=Act\",\n",
       "      \"head\": 13,\n",
       "      \"deprel\": \"acl\",\n",
       "      \"start_char\": 68,\n",
       "      \"end_char\": 72,\n",
       "      \"ner\": \"O\",\n",
       "      \"multi_ner\": [\n",
       "        \"O\"\n",
       "      ]\n",
       "    },\n",
       "    {\n",
       "      \"id\": [\n",
       "        15,\n",
       "        16\n",
       "      ],\n",
       "      \"text\": \"بالتقنية\",\n",
       "      \"start_char\": 73,\n",
       "      \"end_char\": 81,\n",
       "      \"ner\": \"O\",\n",
       "      \"multi_ner\": [\n",
       "        \"O\"\n",
       "      ]\n",
       "    },\n",
       "    {\n",
       "      \"id\": 15,\n",
       "      \"text\": \"ب\",\n",
       "      \"lemma\": \"بِ\",\n",
       "      \"upos\": \"ADP\",\n",
       "      \"xpos\": \"P---------\",\n",
       "      \"feats\": \"AdpType=Prep\",\n",
       "      \"head\": 16,\n",
       "      \"deprel\": \"case\"\n",
       "    },\n",
       "    {\n",
       "      \"id\": 16,\n",
       "      \"text\": \"التقنية\",\n",
       "      \"lemma\": \"تَقنِيَّة\",\n",
       "      \"upos\": \"NOUN\",\n",
       "      \"xpos\": \"N------S2D\",\n",
       "      \"feats\": \"Case=Gen|Definite=Def|Number=Sing\",\n",
       "      \"head\": 14,\n",
       "      \"deprel\": \"obl:arg\"\n",
       "    },\n",
       "    {\n",
       "      \"id\": 17,\n",
       "      \"text\": \"المالية\",\n",
       "      \"lemma\": \"مَالِيّ\",\n",
       "      \"upos\": \"ADJ\",\n",
       "      \"xpos\": \"A-----FS2D\",\n",
       "      \"feats\": \"Case=Gen|Definite=Def|Gender=Fem|Number=Sing\",\n",
       "      \"head\": 16,\n",
       "      \"deprel\": \"amod\",\n",
       "      \"start_char\": 82,\n",
       "      \"end_char\": 89,\n",
       "      \"ner\": \"O\",\n",
       "      \"multi_ner\": [\n",
       "        \"O\"\n",
       "      ]\n",
       "    },\n",
       "    {\n",
       "      \"id\": 18,\n",
       "      \"text\": \"الشخصية\",\n",
       "      \"lemma\": \"شَخصِيّ\",\n",
       "      \"upos\": \"ADJ\",\n",
       "      \"xpos\": \"A-----FS2D\",\n",
       "      \"feats\": \"Case=Gen|Definite=Def|Gender=Fem|Number=Sing\",\n",
       "      \"head\": 16,\n",
       "      \"deprel\": \"amod\",\n",
       "      \"start_char\": 90,\n",
       "      \"end_char\": 97,\n",
       "      \"ner\": \"O\",\n",
       "      \"multi_ner\": [\n",
       "        \"O\"\n",
       "      ]\n",
       "    },\n",
       "    {\n",
       "      \"id\": 19,\n",
       "      \"text\": \"من\",\n",
       "      \"lemma\": \"مِن\",\n",
       "      \"upos\": \"ADP\",\n",
       "      \"xpos\": \"P---------\",\n",
       "      \"feats\": \"AdpType=Prep\",\n",
       "      \"head\": 20,\n",
       "      \"deprel\": \"case\",\n",
       "      \"start_char\": 98,\n",
       "      \"end_char\": 100,\n",
       "      \"ner\": \"O\",\n",
       "      \"multi_ner\": [\n",
       "        \"O\"\n",
       "      ]\n",
       "    },\n",
       "    {\n",
       "      \"id\": 20,\n",
       "      \"text\": \"تتبع\",\n",
       "      \"lemma\": \"تَتَبُّع\",\n",
       "      \"upos\": \"NOUN\",\n",
       "      \"xpos\": \"N------S2R\",\n",
       "      \"feats\": \"Case=Gen|Definite=Cons|Number=Sing\",\n",
       "      \"head\": 13,\n",
       "      \"deprel\": \"nmod\",\n",
       "      \"start_char\": 101,\n",
       "      \"end_char\": 105,\n",
       "      \"ner\": \"O\",\n",
       "      \"multi_ner\": [\n",
       "        \"O\"\n",
       "      ]\n",
       "    },\n",
       "    {\n",
       "      \"id\": [\n",
       "        21,\n",
       "        22\n",
       "      ],\n",
       "      \"text\": \"وادارة\",\n",
       "      \"start_char\": 106,\n",
       "      \"end_char\": 112,\n",
       "      \"ner\": \"O\",\n",
       "      \"multi_ner\": [\n",
       "        \"O\"\n",
       "      ]\n",
       "    },\n",
       "    {\n",
       "      \"id\": 21,\n",
       "      \"text\": \"و\",\n",
       "      \"lemma\": \"وَ\",\n",
       "      \"upos\": \"CCONJ\",\n",
       "      \"xpos\": \"C---------\",\n",
       "      \"head\": 22,\n",
       "      \"deprel\": \"cc\"\n",
       "    },\n",
       "    {\n",
       "      \"id\": 22,\n",
       "      \"text\": \"إدارة\",\n",
       "      \"lemma\": \"إِدَارَة\",\n",
       "      \"upos\": \"NOUN\",\n",
       "      \"xpos\": \"N------S2R\",\n",
       "      \"feats\": \"Case=Gen|Definite=Cons|Number=Sing\",\n",
       "      \"head\": 20,\n",
       "      \"deprel\": \"conj\"\n",
       "    },\n",
       "    {\n",
       "      \"id\": 23,\n",
       "      \"text\": \"المصاريف\",\n",
       "      \"lemma\": \"مَصرُوف\",\n",
       "      \"upos\": \"NOUN\",\n",
       "      \"xpos\": \"N------P2D\",\n",
       "      \"feats\": \"Case=Gen|Definite=Def|Number=Plur\",\n",
       "      \"head\": 20,\n",
       "      \"deprel\": \"nmod\",\n",
       "      \"start_char\": 113,\n",
       "      \"end_char\": 121,\n",
       "      \"ner\": \"O\",\n",
       "      \"multi_ner\": [\n",
       "        \"O\"\n",
       "      ]\n",
       "    },\n",
       "    {\n",
       "      \"id\": [\n",
       "        24,\n",
       "        25\n",
       "      ],\n",
       "      \"text\": \"والحصول\",\n",
       "      \"start_char\": 122,\n",
       "      \"end_char\": 129,\n",
       "      \"ner\": \"O\",\n",
       "      \"multi_ner\": [\n",
       "        \"O\"\n",
       "      ]\n",
       "    },\n",
       "    {\n",
       "      \"id\": 24,\n",
       "      \"text\": \"و\",\n",
       "      \"lemma\": \"وَ\",\n",
       "      \"upos\": \"CCONJ\",\n",
       "      \"xpos\": \"C---------\",\n",
       "      \"head\": 25,\n",
       "      \"deprel\": \"cc\"\n",
       "    },\n",
       "    {\n",
       "      \"id\": 25,\n",
       "      \"text\": \"الحصول\",\n",
       "      \"lemma\": \"حُصُول\",\n",
       "      \"upos\": \"NOUN\",\n",
       "      \"xpos\": \"N------S2D\",\n",
       "      \"feats\": \"Case=Gen|Definite=Def|Number=Sing\",\n",
       "      \"head\": 20,\n",
       "      \"deprel\": \"conj\"\n",
       "    },\n",
       "    {\n",
       "      \"id\": 26,\n",
       "      \"text\": \"على\",\n",
       "      \"lemma\": \"عَلَى\",\n",
       "      \"upos\": \"ADP\",\n",
       "      \"xpos\": \"P---------\",\n",
       "      \"feats\": \"AdpType=Prep\",\n",
       "      \"head\": 27,\n",
       "      \"deprel\": \"case\",\n",
       "      \"start_char\": 130,\n",
       "      \"end_char\": 133,\n",
       "      \"ner\": \"O\",\n",
       "      \"multi_ner\": [\n",
       "        \"O\"\n",
       "      ]\n",
       "    },\n",
       "    {\n",
       "      \"id\": 27,\n",
       "      \"text\": \"قروض\",\n",
       "      \"lemma\": \"قَرض\",\n",
       "      \"upos\": \"NOUN\",\n",
       "      \"xpos\": \"N------P2I\",\n",
       "      \"feats\": \"Case=Gen|Definite=Ind|Number=Plur\",\n",
       "      \"head\": 25,\n",
       "      \"deprel\": \"nmod\",\n",
       "      \"start_char\": 134,\n",
       "      \"end_char\": 138,\n",
       "      \"ner\": \"O\",\n",
       "      \"multi_ner\": [\n",
       "        \"O\"\n",
       "      ]\n",
       "    },\n",
       "    {\n",
       "      \"id\": 28,\n",
       "      \"text\": \"مصغرة\",\n",
       "      \"lemma\": \"مُصَغَّر\",\n",
       "      \"upos\": \"ADJ\",\n",
       "      \"xpos\": \"A-----FS2I\",\n",
       "      \"feats\": \"Case=Gen|Definite=Ind|Gender=Fem|Number=Sing\",\n",
       "      \"head\": 27,\n",
       "      \"deprel\": \"amod\",\n",
       "      \"start_char\": 139,\n",
       "      \"end_char\": 144,\n",
       "      \"ner\": \"O\",\n",
       "      \"multi_ner\": [\n",
       "        \"O\"\n",
       "      ]\n",
       "    },\n",
       "    {\n",
       "      \"id\": 29,\n",
       "      \"text\": \".\",\n",
       "      \"lemma\": \".\",\n",
       "      \"upos\": \"PUNCT\",\n",
       "      \"xpos\": \"G---------\",\n",
       "      \"head\": 8,\n",
       "      \"deprel\": \"punct\",\n",
       "      \"start_char\": 144,\n",
       "      \"end_char\": 145,\n",
       "      \"ner\": \"O\",\n",
       "      \"multi_ner\": [\n",
       "        \"O\"\n",
       "      ]\n",
       "    }\n",
       "  ]\n",
       "]"
      ]
     },
     "execution_count": 41,
     "metadata": {},
     "output_type": "execute_result"
    }
   ],
   "source": [
    "gen_data[\"docs\"][0]"
   ]
  },
  {
   "cell_type": "code",
   "execution_count": 42,
   "id": "37cc9389",
   "metadata": {},
   "outputs": [
    {
     "data": {
      "text/plain": [
       "[\n",
       "  [\n",
       "    {\n",
       "      \"id\": 1,\n",
       "      \"text\": \"RT\",\n",
       "      \"lemma\": \"RT\",\n",
       "      \"upos\": \"X\",\n",
       "      \"xpos\": \"U---------\",\n",
       "      \"head\": 0,\n",
       "      \"deprel\": \"root\",\n",
       "      \"start_char\": 0,\n",
       "      \"end_char\": 2,\n",
       "      \"ner\": \"S-MISC\",\n",
       "      \"multi_ner\": [\n",
       "        \"S-MISC\"\n",
       "      ]\n",
       "    },\n",
       "    {\n",
       "      \"id\": 2,\n",
       "      \"text\": \":\",\n",
       "      \"lemma\": \":\",\n",
       "      \"upos\": \"PUNCT\",\n",
       "      \"xpos\": \"G---------\",\n",
       "      \"head\": 1,\n",
       "      \"deprel\": \"punct\",\n",
       "      \"start_char\": 3,\n",
       "      \"end_char\": 4,\n",
       "      \"ner\": \"O\",\n",
       "      \"multi_ner\": [\n",
       "        \"O\"\n",
       "      ]\n",
       "    },\n",
       "    {\n",
       "      \"id\": 3,\n",
       "      \"text\": \"حـسـآب\",\n",
       "      \"lemma\": \"حَسب\",\n",
       "      \"upos\": \"NOUN\",\n",
       "      \"xpos\": \"N------S1R\",\n",
       "      \"feats\": \"Case=Nom|Definite=Cons|Number=Sing\",\n",
       "      \"head\": 1,\n",
       "      \"deprel\": \"dep\",\n",
       "      \"start_char\": 5,\n",
       "      \"end_char\": 11,\n",
       "      \"ner\": \"O\",\n",
       "      \"multi_ner\": [\n",
       "        \"O\"\n",
       "      ]\n",
       "    },\n",
       "    {\n",
       "      \"id\": 4,\n",
       "      \"text\": \"تـمــيزة\",\n",
       "      \"lemma\": \"تَميِزَة\",\n",
       "      \"upos\": \"NOUN\",\n",
       "      \"xpos\": \"N------S2R\",\n",
       "      \"feats\": \"Case=Gen|Definite=Cons|Number=Sing\",\n",
       "      \"head\": 3,\n",
       "      \"deprel\": \"nmod\",\n",
       "      \"start_char\": 12,\n",
       "      \"end_char\": 20,\n",
       "      \"ner\": \"O\",\n",
       "      \"multi_ner\": [\n",
       "        \"O\"\n",
       "      ]\n",
       "    },\n",
       "    {\n",
       "      \"id\": 5,\n",
       "      \"text\": \"بـتـفـاعـل\",\n",
       "      \"lemma\": \"بِ\",\n",
       "      \"upos\": \"ADP\",\n",
       "      \"xpos\": \"P---------\",\n",
       "      \"feats\": \"AdpType=Prep\",\n",
       "      \"head\": 4,\n",
       "      \"deprel\": \"nmod\",\n",
       "      \"start_char\": 21,\n",
       "      \"end_char\": 31,\n",
       "      \"ner\": \"O\",\n",
       "      \"multi_ner\": [\n",
       "        \"O\"\n",
       "      ]\n",
       "    },\n",
       "    {\n",
       "      \"id\": 6,\n",
       "      \"text\": \"⠀┈┉━◈♔♚♔◈━┅┄\",\n",
       "      \"lemma\": \"⠀┈┉━◈♔♚♔◈━┅┄\",\n",
       "      \"upos\": \"X\",\n",
       "      \"xpos\": \"U---------\",\n",
       "      \"head\": 3,\n",
       "      \"deprel\": \"nmod\",\n",
       "      \"start_char\": 32,\n",
       "      \"end_char\": 44,\n",
       "      \"ner\": \"O\",\n",
       "      \"multi_ner\": [\n",
       "        \"O\"\n",
       "      ]\n",
       "    },\n",
       "    {\n",
       "      \"id\": 7,\n",
       "      \"text\": \"نجــــم\",\n",
       "      \"lemma\": \"نَجم\",\n",
       "      \"upos\": \"NOUN\",\n",
       "      \"xpos\": \"N------S2R\",\n",
       "      \"feats\": \"Case=Gen|Definite=Cons|Number=Sing\",\n",
       "      \"head\": 6,\n",
       "      \"deprel\": \"nmod\",\n",
       "      \"start_char\": 45,\n",
       "      \"end_char\": 52,\n",
       "      \"ner\": \"O\",\n",
       "      \"multi_ner\": [\n",
       "        \"O\"\n",
       "      ]\n",
       "    },\n",
       "    {\n",
       "      \"id\": 8,\n",
       "      \"text\": \"القوآئــم\",\n",
       "      \"lemma\": \"قَاآئِم\",\n",
       "      \"upos\": \"NOUN\",\n",
       "      \"xpos\": \"N------S2D\",\n",
       "      \"feats\": \"Case=Gen|Definite=Def|Number=Sing\",\n",
       "      \"head\": 7,\n",
       "      \"deprel\": \"nmod\",\n",
       "      \"start_char\": 53,\n",
       "      \"end_char\": 62,\n",
       "      \"ner\": \"O\",\n",
       "      \"multi_ner\": [\n",
       "        \"O\"\n",
       "      ]\n",
       "    },\n",
       "    {\n",
       "      \"id\": [\n",
       "        9,\n",
       "        10\n",
       "      ],\n",
       "      \"text\": \"لهـذآ\",\n",
       "      \"start_char\": 63,\n",
       "      \"end_char\": 68,\n",
       "      \"ner\": \"O\",\n",
       "      \"multi_ner\": [\n",
       "        \"O\"\n",
       "      ]\n",
       "    },\n",
       "    {\n",
       "      \"id\": 9,\n",
       "      \"text\": \"ل\",\n",
       "      \"lemma\": \"لِ\",\n",
       "      \"upos\": \"ADP\",\n",
       "      \"xpos\": \"P---------\",\n",
       "      \"feats\": \"AdpType=Prep\",\n",
       "      \"head\": 11,\n",
       "      \"deprel\": \"case\"\n",
       "    },\n",
       "    {\n",
       "      \"id\": 10,\n",
       "      \"text\": \"هٰذآ\",\n",
       "      \"lemma\": \"هٰذَا\",\n",
       "      \"upos\": \"DET\",\n",
       "      \"xpos\": \"SD----MS2-\",\n",
       "      \"feats\": \"Case=Gen|Gender=Masc|Number=Sing|PronType=Dem\",\n",
       "      \"head\": 11,\n",
       "      \"deprel\": \"det\"\n",
       "    },\n",
       "    {\n",
       "      \"id\": 11,\n",
       "      \"text\": \"اليـــوم\",\n",
       "      \"lemma\": \"يَوم\",\n",
       "      \"upos\": \"NOUN\",\n",
       "      \"xpos\": \"N------S2D\",\n",
       "      \"feats\": \"Case=Gen|Definite=Def|Number=Sing\",\n",
       "      \"head\": 3,\n",
       "      \"deprel\": \"nmod\",\n",
       "      \"start_char\": 69,\n",
       "      \"end_char\": 77,\n",
       "      \"ner\": \"O\",\n",
       "      \"multi_ner\": [\n",
       "        \"O\"\n",
       "      ]\n",
       "    },\n",
       "    {\n",
       "      \"id\": 12,\n",
       "      \"text\": \"يوسف\",\n",
       "      \"lemma\": \"يُوسُف\",\n",
       "      \"upos\": \"NOUN\",\n",
       "      \"xpos\": \"N------S1I\",\n",
       "      \"feats\": \"Case=Nom|Definite=Ind|Number=Sing\",\n",
       "      \"head\": 13,\n",
       "      \"deprel\": \"nmod\",\n",
       "      \"start_char\": 78,\n",
       "      \"end_char\": 82,\n",
       "      \"ner\": \"O\",\n",
       "      \"multi_ner\": [\n",
       "        \"O\"\n",
       "      ]\n",
       "    },\n",
       "    {\n",
       "      \"id\": 13,\n",
       "      \"text\": \"الاصدقاء\",\n",
       "      \"lemma\": \"صَدِيق\",\n",
       "      \"upos\": \"X\",\n",
       "      \"xpos\": \"U---------\",\n",
       "      \"head\": 1,\n",
       "      \"deprel\": \"dep\",\n",
       "      \"start_char\": 83,\n",
       "      \"end_char\": 91,\n",
       "      \"ner\": \"O\",\n",
       "      \"multi_ner\": [\n",
       "        \"O\"\n",
       "      ]\n",
       "    },\n",
       "    {\n",
       "      \"id\": [\n",
       "        14,\n",
       "        15\n",
       "      ],\n",
       "      \"text\": \"للتبادل\",\n",
       "      \"start_char\": 92,\n",
       "      \"end_char\": 99,\n",
       "      \"ner\": \"O\",\n",
       "      \"multi_ner\": [\n",
       "        \"O\"\n",
       "      ]\n",
       "    },\n",
       "    {\n",
       "      \"id\": 14,\n",
       "      \"text\": \"ل\",\n",
       "      \"lemma\": \"لِ\",\n",
       "      \"upos\": \"ADP\",\n",
       "      \"xpos\": \"P---------\",\n",
       "      \"feats\": \"AdpType=Prep\",\n",
       "      \"head\": 15,\n",
       "      \"deprel\": \"case\"\n",
       "    },\n",
       "    {\n",
       "      \"id\": 15,\n",
       "      \"text\": \"التبادل\",\n",
       "      \"lemma\": \"تَبَادُل\",\n",
       "      \"upos\": \"NOUN\",\n",
       "      \"xpos\": \"N------S2D\",\n",
       "      \"feats\": \"Case=Gen|Definite=Def|Number=Sing\",\n",
       "      \"head\": 13,\n",
       "      \"deprel\": \"nmod\"\n",
       "    },\n",
       "    {\n",
       "      \"id\": 16,\n",
       "      \"text\": \"Gp\",\n",
       "      \"lemma\": \"Gp\",\n",
       "      \"upos\": \"X\",\n",
       "      \"xpos\": \"U---------\",\n",
       "      \"head\": 15,\n",
       "      \"deprel\": \"nmod\",\n",
       "      \"start_char\": 100,\n",
       "      \"end_char\": 102,\n",
       "      \"ner\": \"O\",\n",
       "      \"multi_ner\": [\n",
       "        \"O\"\n",
       "      ]\n",
       "    }\n",
       "  ]\n",
       "]"
      ]
     },
     "execution_count": 42,
     "metadata": {},
     "output_type": "execute_result"
    }
   ],
   "source": [
    "prop_data[\"docs\"][0]"
   ]
  },
  {
   "cell_type": "code",
   "execution_count": 43,
   "id": "6b3acd9e",
   "metadata": {},
   "outputs": [],
   "source": [
    "# getting the number of entities per tweet"
   ]
  },
  {
   "cell_type": "code",
   "execution_count": 44,
   "id": "0afa147f",
   "metadata": {},
   "outputs": [],
   "source": [
    "gen_num_ents = [len(es.entities) for es in gen_data.docs]\n",
    "prop_num_ents = [len(es.entities) for es in prop_data.docs]"
   ]
  },
  {
   "cell_type": "code",
   "execution_count": 45,
   "id": "86eaeb13",
   "metadata": {},
   "outputs": [
    {
     "data": {
      "text/plain": [
       "<AxesSubplot: ylabel='Count'>"
      ]
     },
     "execution_count": 45,
     "metadata": {},
     "output_type": "execute_result"
    },
    {
     "data": {
      "image/png": "[encoded data removed]",
      "text/plain": [
       "<Figure size 640x480 with 1 Axes>"
      ]
     },
     "metadata": {},
     "output_type": "display_data"
    }
   ],
   "source": [
    "sns.histplot(gen_num_ents, bins=np.arange(0, 15, 1))"
   ]
  },
  {
   "cell_type": "code",
   "execution_count": 46,
   "id": "e86290bf",
   "metadata": {},
   "outputs": [
    {
     "data": {
      "text/plain": [
       "<AxesSubplot: ylabel='Count'>"
      ]
     },
     "execution_count": 46,
     "metadata": {},
     "output_type": "execute_result"
    },
    {
     "data": {
      "image/png": "[encoded data removed]",
      "text/plain": [
       "<Figure size 640x480 with 1 Axes>"
      ]
     },
     "metadata": {},
     "output_type": "display_data"
    }
   ],
   "source": [
    "sns.histplot(prop_num_ents, bins=np.arange(0, 15, 1))"
   ]
  },
  {
   "cell_type": "markdown",
   "id": "bd07e248",
   "metadata": {},
   "source": [
    "Same distribution and no difference.\n"
   ]
  },
  {
   "cell_type": "code",
   "execution_count": 47,
   "id": "d808259c",
   "metadata": {},
   "outputs": [],
   "source": [
    "# irony speech detection"
   ]
  },
  {
   "cell_type": "code",
   "execution_count": 48,
   "id": "4158f671",
   "metadata": {},
   "outputs": [],
   "source": [
    "from transformers import pipeline\n",
    "\n",
    "irony_pipe = pipeline(task='text-classification',\n",
    "                      model='../models/arabertv2-irony-wanlp/', device=0)"
   ]
  },
  {
   "cell_type": "code",
   "execution_count": 49,
   "id": "c78a9076",
   "metadata": {},
   "outputs": [
    {
     "name": "stdout",
     "output_type": "stream",
     "text": [
      "Text: الفائز بالمركز الثالث في هاكثون الادخار وزين فريق إيزان بفكرة تطبيق يختص بالتقنية المالية الشخصية من تتبع وادارة المصاريف والحصول على قروض مصغرة.\n",
      "Classification: [{'label': 'nonsarcasm', 'score': 0.9272573590278625}]\n"
     ]
    }
   ],
   "source": [
    "print(\n",
    "    f'Text: {gen_data.text[0]}\\nClassification: {irony_pipe(gen_data.text[0])}')"
   ]
  },
  {
   "cell_type": "code",
   "execution_count": 50,
   "id": "9e2c50e2",
   "metadata": {},
   "outputs": [
    {
     "data": {
      "application/vnd.jupyter.widget-view+json": {
       "model_id": "1cf789f2208c4ba49a5e3e73f1c42ae0",
       "version_major": 2,
       "version_minor": 0
      },
      "text/plain": [
       "  0%|          | 0/140612 [00:00<?, ?it/s]"
      ]
     },
     "metadata": {},
     "output_type": "display_data"
    },
    {
     "name": "stderr",
     "output_type": "stream",
     "text": [
      "C:\\Users\\ehhho\\anaconda3\\envs\\prop\\lib\\site-packages\\transformers\\pipelines\\base.py:1070: UserWarning: You seem to be using the pipelines sequentially on GPU. In order to maximize efficiency please use a dataset\n",
      "  warnings.warn(\n"
     ]
    }
   ],
   "source": [
    "gen_data['is_irony'] = [irony_pipe(t)[0] for t in tqdm(\n",
    "    gen_data.text, total=len(gen_data))]"
   ]
  },
  {
   "cell_type": "code",
   "execution_count": 53,
   "id": "b0b8f4d4",
   "metadata": {},
   "outputs": [
    {
     "data": {
      "text/plain": [
       "nonsarcasm    133816\n",
       "sarcasm         6796\n",
       "dtype: int64"
      ]
     },
     "execution_count": 53,
     "metadata": {},
     "output_type": "execute_result"
    }
   ],
   "source": [
    "pd.Series([t[\"label\"] for t in gen_data.is_irony]).value_counts()"
   ]
  },
  {
   "cell_type": "code",
   "execution_count": 54,
   "id": "0ca4e1d6",
   "metadata": {},
   "outputs": [],
   "source": [
    "prop_data = pd.read_pickle(\"../data/processed/prop_data_pro.pkl\")"
   ]
  },
  {
   "cell_type": "code",
   "execution_count": 61,
   "id": "6dc6e189",
   "metadata": {},
   "outputs": [
    {
     "data": {
      "application/vnd.jupyter.widget-view+json": {
       "model_id": "88244f4c05fc479f82b799a793550b43",
       "version_major": 2,
       "version_minor": 0
      },
      "text/plain": [
       "  0%|          | 0/56000 [00:00<?, ?it/s]"
      ]
     },
     "metadata": {},
     "output_type": "display_data"
    }
   ],
   "source": [
    "def get_data(data):\n",
    "    for _, r in data.iterrows():\n",
    "        yield r.text\n",
    "\n",
    "\n",
    "prop_data['is_irony'] = [irony_pipe(t)[0] for t in tqdm(\n",
    "    get_data(prop_data), total=len(prop_data))]"
   ]
  },
  {
   "cell_type": "code",
   "execution_count": 55,
   "id": "e0c2908e",
   "metadata": {},
   "outputs": [
    {
     "data": {
      "text/plain": [
       "nonsarcasm    52670\n",
       "sarcasm        3330\n",
       "dtype: int64"
      ]
     },
     "execution_count": 55,
     "metadata": {},
     "output_type": "execute_result"
    }
   ],
   "source": [
    "pd.Series([t[\"label\"] for t in prop_data.is_irony]).value_counts()"
   ]
  },
  {
   "cell_type": "code",
   "execution_count": 56,
   "id": "012ef384",
   "metadata": {},
   "outputs": [
    {
     "data": {
      "text/plain": [
       "False    53440\n",
       "True      2560\n",
       "dtype: int64"
      ]
     },
     "execution_count": 56,
     "metadata": {},
     "output_type": "execute_result"
    }
   ],
   "source": [
    "# for the technique of name calling and labeling,\n",
    "# are there any sarcasm tweets that contain entities?\n",
    "\n",
    "name_calling = []\n",
    "for _, r in prop_data.iterrows():\n",
    "    name_calling.append(len(r.docs.entities)\n",
    "                        and r.is_irony['label'] == 'sarcasm')\n",
    "\n",
    "pd.Series(name_calling).value_counts()"
   ]
  },
  {
   "cell_type": "markdown",
   "id": "9162cfdb",
   "metadata": {},
   "source": [
    "We can assume that we have 2.5K tweets by propagandists that contain the name calling technique.\n"
   ]
  },
  {
   "cell_type": "code",
   "execution_count": 57,
   "id": "d8de01b0",
   "metadata": {},
   "outputs": [
    {
     "data": {
      "text/plain": [
       "False    135372\n",
       "True       5240\n",
       "dtype: int64"
      ]
     },
     "execution_count": 57,
     "metadata": {},
     "output_type": "execute_result"
    }
   ],
   "source": [
    "name_calling = []\n",
    "for _, r in gen_data.iterrows():\n",
    "    name_calling.append(len(r.docs.entities)\n",
    "                        and r.is_irony['label'] == 'sarcasm')\n",
    "\n",
    "pd.Series(name_calling).value_counts()"
   ]
  },
  {
   "cell_type": "markdown",
   "id": "b18e883c",
   "metadata": {},
   "source": [
    "Also, We can assume that we have 5K tweets by genuine users that contain the name calling technique.\n"
   ]
  },
  {
   "cell_type": "code",
   "execution_count": 64,
   "id": "2ab90fc3",
   "metadata": {},
   "outputs": [],
   "source": [
    "# trying to detect the doubt technique by detecting questions\n",
    "# the doubt question ar mainly 'هل', so we will be detecting auxs\n",
    "\n",
    "gen_contain_q = []\n",
    "for doc in gen_data.docs:\n",
    "    contain = False\n",
    "    if len(doc.sentences) != 0:\n",
    "        for word in doc.sentences[0].words:\n",
    "            if word.upos == \"AUX\":\n",
    "                contain = True\n",
    "                break\n",
    "    gen_contain_q.append(contain)"
   ]
  },
  {
   "cell_type": "code",
   "execution_count": 65,
   "id": "fe1035b2",
   "metadata": {},
   "outputs": [
    {
     "data": {
      "text/plain": [
       "False    128291\n",
       "True      12321\n",
       "dtype: int64"
      ]
     },
     "execution_count": 65,
     "metadata": {},
     "output_type": "execute_result"
    }
   ],
   "source": [
    "pd.Series(gen_contain_q).value_counts()"
   ]
  },
  {
   "cell_type": "code",
   "execution_count": 66,
   "id": "db3d77e1",
   "metadata": {},
   "outputs": [],
   "source": [
    "prop_contain_q = []\n",
    "for doc in prop_data.docs:\n",
    "    contain = False\n",
    "    for word in doc.sentences[0].words:\n",
    "        if word.upos == \"AUX\":\n",
    "            contain = True\n",
    "            break\n",
    "    prop_contain_q.append(contain)"
   ]
  },
  {
   "cell_type": "code",
   "execution_count": 67,
   "id": "95a137d4",
   "metadata": {},
   "outputs": [
    {
     "data": {
      "text/plain": [
       "False    52547\n",
       "True      3453\n",
       "dtype: int64"
      ]
     },
     "execution_count": 67,
     "metadata": {},
     "output_type": "execute_result"
    }
   ],
   "source": [
    "pd.Series(prop_contain_q).value_counts()"
   ]
  },
  {
   "cell_type": "markdown",
   "id": "a7f3362b",
   "metadata": {},
   "source": [
    "We have around 15K tweets in the entire datasets that contain at least one question.\n"
   ]
  },
  {
   "cell_type": "code",
   "execution_count": 68,
   "id": "4d4ee93d",
   "metadata": {},
   "outputs": [],
   "source": [
    "# detecting the hate speech signal distributions\n",
    "\n",
    "hate_pipe = pipeline(\n",
    "    task=\"text-classification\",\n",
    "    device=0,\n",
    "    model=\"Andrazp/multilingual-hate-speech-robacofi\",\n",
    ")"
   ]
  },
  {
   "cell_type": "code",
   "execution_count": 69,
   "id": "dbb85d3f",
   "metadata": {},
   "outputs": [
    {
     "data": {
      "application/vnd.jupyter.widget-view+json": {
       "model_id": "7d9101da346546f2a785e8cef82c50c1",
       "version_major": 2,
       "version_minor": 0
      },
      "text/plain": [
       "  0%|          | 0/140612 [00:00<?, ?it/s]"
      ]
     },
     "metadata": {},
     "output_type": "display_data"
    },
    {
     "name": "stderr",
     "output_type": "stream",
     "text": [
      "C:\\Users\\ehhho\\anaconda3\\envs\\prop\\lib\\site-packages\\transformers\\pipelines\\base.py:1070: UserWarning: You seem to be using the pipelines sequentially on GPU. In order to maximize efficiency please use a dataset\n",
      "  warnings.warn(\n"
     ]
    }
   ],
   "source": [
    "gen_data['is_hate'] = [hate_pipe(t)[0]\n",
    "                       for t in tqdm(gen_data.text, total=len(gen_data))]"
   ]
  },
  {
   "cell_type": "code",
   "execution_count": 70,
   "id": "a60200f9",
   "metadata": {},
   "outputs": [
    {
     "data": {
      "text/plain": [
       "not offensive    138155\n",
       "offensive          2457\n",
       "dtype: int64"
      ]
     },
     "execution_count": 70,
     "metadata": {},
     "output_type": "execute_result"
    }
   ],
   "source": [
    "pd.Series([t[\"label\"] for t in gen_data.is_hate]).value_counts()"
   ]
  },
  {
   "cell_type": "code",
   "execution_count": 93,
   "id": "5e73d160",
   "metadata": {},
   "outputs": [
    {
     "data": {
      "application/vnd.jupyter.widget-view+json": {
       "model_id": "8c80664f98c24071876a2b94f28959d8",
       "version_major": 2,
       "version_minor": 0
      },
      "text/plain": [
       "  0%|          | 0/56000 [00:00<?, ?it/s]"
      ]
     },
     "metadata": {},
     "output_type": "display_data"
    },
    {
     "name": "stderr",
     "output_type": "stream",
     "text": [
      "C:\\Users\\ehhho\\anaconda3\\envs\\prop\\lib\\site-packages\\transformers\\pipelines\\base.py:1070: UserWarning: You seem to be using the pipelines sequentially on GPU. In order to maximize efficiency please use a dataset\n",
      "  warnings.warn(\n"
     ]
    }
   ],
   "source": [
    "prop_data['is_hate'] = [hate_pipe(t)[0] for t in tqdm(\n",
    "    get_data(prop_data), total=len(prop_data))]"
   ]
  },
  {
   "cell_type": "code",
   "execution_count": 71,
   "id": "6023f238",
   "metadata": {},
   "outputs": [
    {
     "data": {
      "text/plain": [
       "not offensive    53871\n",
       "offensive         2129\n",
       "dtype: int64"
      ]
     },
     "execution_count": 71,
     "metadata": {},
     "output_type": "execute_result"
    }
   ],
   "source": [
    "pd.Series([t[\"label\"] for t in prop_data.is_hate]).value_counts()"
   ]
  },
  {
   "cell_type": "markdown",
   "id": "f861e2f0",
   "metadata": {},
   "source": [
    "In total, we have around 4K tweets that contain hate speech. This is also related to the name calling and smears techniques.\n"
   ]
  },
  {
   "cell_type": "code",
   "execution_count": 73,
   "id": "72d577d2",
   "metadata": {},
   "outputs": [],
   "source": [
    "# saving the data to apply the labeling function directly in another file.\n",
    "gen_data.to_pickle(\"../data/processed/gen_data_pro.pkl\")\n",
    "prop_data.to_pickle(\"../data/processed/prop_data_pro.pkl\")"
   ]
  },
  {
   "cell_type": "code",
   "execution_count": 2,
   "id": "3311471e",
   "metadata": {},
   "outputs": [
    {
     "name": "stderr",
     "output_type": "stream",
     "text": [
      "Some weights of the model checkpoint at joeddav/xlm-roberta-large-xnli were not used when initializing XLMRobertaForSequenceClassification: ['roberta.pooler.dense.bias', 'roberta.pooler.dense.weight']\n",
      "- This IS expected if you are initializing XLMRobertaForSequenceClassification from the checkpoint of a model trained on another task or with another architecture (e.g. initializing a BertForSequenceClassification model from a BertForPreTraining model).\n",
      "- This IS NOT expected if you are initializing XLMRobertaForSequenceClassification from the checkpoint of a model that you expect to be exactly identical (initializing a BertForSequenceClassification model from a BertForSequenceClassification model).\n"
     ]
    }
   ],
   "source": [
    "# utilizing the xlm roberta zeroshot model\n",
    "\n",
    "import json\n",
    "from transformers import pipeline\n",
    "\n",
    "with open(\"../data/access_tokens.json\") as f:\n",
    "    access_tokens = json.load(f)\n",
    "\n",
    "xlmroberta_classifier = pipeline(task=\"zero-shot-classification\",\n",
    "                                 model=\"joeddav/xlm-roberta-large-xnli\",\n",
    "                                 device=0, use_auth_token=access_tokens[\"huggingface\"][\"read_token\"])"
   ]
  },
  {
   "cell_type": "code",
   "execution_count": 3,
   "id": "c138bcb6",
   "metadata": {},
   "outputs": [],
   "source": [
    "prop_data = pd.read_pickle('../data/processed/prop_data_pro.pkl')\n",
    "prop_data['account_creation_date'] = pd.to_datetime(\n",
    "    prop_data.account_creation_date, unit='ms')\n",
    "\n",
    "gen_data = pd.read_pickle('../data/processed/gen_data_pro.pkl')\n",
    "gen_data['account_creation_date'] = pd.to_datetime(\n",
    "    gen_data.account_creation_date, unit='ns')"
   ]
  },
  {
   "cell_type": "code",
   "execution_count": 4,
   "id": "bac029c1",
   "metadata": {},
   "outputs": [],
   "source": [
    "candidate_labels = [\"transparent\", \"propaganda\"]"
   ]
  },
  {
   "cell_type": "code",
   "execution_count": 5,
   "id": "1be8aaa5",
   "metadata": {},
   "outputs": [],
   "source": [
    "from tqdm.auto import tqdm"
   ]
  },
  {
   "cell_type": "code",
   "execution_count": 6,
   "id": "ea7e40ac",
   "metadata": {},
   "outputs": [
    {
     "data": {
      "application/vnd.jupyter.widget-view+json": {
       "model_id": "80087f9c17114c91a8273eb0eea61238",
       "version_major": 2,
       "version_minor": 0
      },
      "text/plain": [
       "  0%|          | 0/56000 [00:00<?, ?it/s]"
      ]
     },
     "metadata": {},
     "output_type": "display_data"
    },
    {
     "name": "stderr",
     "output_type": "stream",
     "text": [
      "C:\\Users\\ehhho\\anaconda3\\envs\\prop\\lib\\site-packages\\transformers\\pipelines\\base.py:1080: UserWarning: You seem to be using the pipelines sequentially on GPU. In order to maximize efficiency please use a dataset\n",
      "  warnings.warn(\n"
     ]
    }
   ],
   "source": [
    "prop_data['xlmroberta_label'] = [xlmroberta_classifier(t, candidate_labels) for t in tqdm(prop_data.text, total=len(prop_data))]"
   ]
  },
  {
   "cell_type": "code",
   "execution_count": 21,
   "id": "e3805509",
   "metadata": {},
   "outputs": [],
   "source": [
    "prop_data.to_pickle(\"../data/processed/prop_data_pro_zero.pkl\")"
   ]
  },
  {
   "cell_type": "code",
   "execution_count": 22,
   "id": "6e1cc1fb",
   "metadata": {},
   "outputs": [
    {
     "data": {
      "application/vnd.jupyter.widget-view+json": {
       "model_id": "fae57b2b39e646e6a6595cb85b75243b",
       "version_major": 2,
       "version_minor": 0
      },
      "text/plain": [
       "  0%|          | 0/140612 [00:00<?, ?it/s]"
      ]
     },
     "metadata": {},
     "output_type": "display_data"
    }
   ],
   "source": [
    "gen_data['xlmroberta_label'] = [xlmroberta_classifier(t, candidate_labels) if len(t) else None for t in tqdm(gen_data.text, total=len(gen_data))]"
   ]
  },
  {
   "cell_type": "code",
   "execution_count": 23,
   "id": "49e589ea",
   "metadata": {},
   "outputs": [],
   "source": [
    "gen_data.to_pickle(\"../data/processed/gen_data_pro_zero.pkl\")"
   ]
  },
  {
   "cell_type": "markdown",
   "id": "3fd78957",
   "metadata": {},
   "source": [
    "### Colclusions\n",
    "\n",
    "- Genuine users add `at least one URL` in their tweets.\n",
    "- Propagandist users use `mentions` `at lest one time` in their tweets.\n",
    "- Some propagandist users tweet in less than 10 words. (ignored, already a cluster)\n",
    "- Around `2.5K` tweets by propagandists contain the `name calling` technique.\n",
    "- Around `4.5K` tweets in the entire datasets contain `at least one question`.\n",
    "- Around `2K` tweets in the entire datasets contain `hate speech`.\n",
    "- The word `حرب` is of the `top 50` used words in the propagandists tweets.\n"
   ]
  }
 ],
 "metadata": {
  "kernelspec": {
   "display_name": "Python 3 (ipykernel)",
   "language": "python",
   "name": "python3"
  },
  "language_info": {
   "codemirror_mode": {
    "name": "ipython",
    "version": 3
   },
   "file_extension": ".py",
   "mimetype": "text/x-python",
   "name": "python",
   "nbconvert_exporter": "python",
   "pygments_lexer": "ipython3",
   "version": "3.8.17"
  }
 },
 "nbformat": 4,
 "nbformat_minor": 5
}
