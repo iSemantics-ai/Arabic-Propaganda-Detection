{
 "cells": [
  {
   "cell_type": "markdown",
   "id": "2efb1ee0",
   "metadata": {},
   "source": [
    "# Data Exploration\n"
   ]
  },
  {
   "cell_type": "markdown",
   "id": "b7ca1185",
   "metadata": {},
   "source": [
    "Read the propagandist users' data and apply fixes to the columns' names and values.\n"
   ]
  },
  {
   "cell_type": "markdown",
   "id": "054e897d",
   "metadata": {},
   "source": [
    "## Read Data\n"
   ]
  },
  {
   "cell_type": "code",
   "execution_count": 1,
   "id": "1256af86",
   "metadata": {},
   "outputs": [],
   "source": [
    "import re\n",
    "import emoji\n",
    "import pandas as pd\n",
    "from tqdm.auto import tqdm\n",
    "from arabert.preprocess import ArabertPreprocessor"
   ]
  },
  {
   "cell_type": "code",
   "execution_count": 2,
   "id": "3966b1bf",
   "metadata": {},
   "outputs": [],
   "source": [
    "raw_data_path = \"../data/raw/propaganda.csv\"\n",
    "processed_data_path = \"../data/processed/propaganda.json\"\n",
    "processing_model = \"aubmindlab/bert-base-arabertv2\""
   ]
  },
  {
   "cell_type": "code",
   "execution_count": 3,
   "id": "7271cfd1-0b72-47ce-af30-bf149e7374db",
   "metadata": {},
   "outputs": [
    {
     "name": "stderr",
     "output_type": "stream",
     "text": [
      "[2023-11-12 02:09:54,729 - farasapy_logger - WARNING]: Be careful with large lines as they may break on interactive mode. You may switch to Standalone mode for such cases.\n"
     ]
    }
   ],
   "source": [
    "arabert_prep = ArabertPreprocessor(model_name=processing_model)"
   ]
  },
  {
   "cell_type": "code",
   "execution_count": 4,
   "id": "99f71577",
   "metadata": {},
   "outputs": [
    {
     "data": {
      "text/html": [
       "<div>\n",
       "<style scoped>\n",
       "    .dataframe tbody tr th:only-of-type {\n",
       "        vertical-align: middle;\n",
       "    }\n",
       "\n",
       "    .dataframe tbody tr th {\n",
       "        vertical-align: top;\n",
       "    }\n",
       "\n",
       "    .dataframe thead th {\n",
       "        text-align: right;\n",
       "    }\n",
       "</style>\n",
       "<table border=\"1\" class=\"dataframe\">\n",
       "  <thead>\n",
       "    <tr style=\"text-align: right;\">\n",
       "      <th></th>\n",
       "      <th>tweetid</th>\n",
       "      <th>userid</th>\n",
       "      <th>user_display_name</th>\n",
       "      <th>user_screen_name</th>\n",
       "      <th>user_reported_location</th>\n",
       "      <th>user_profile_description</th>\n",
       "      <th>user_profile_url</th>\n",
       "      <th>follower_count</th>\n",
       "      <th>following_count</th>\n",
       "      <th>account_creation_date</th>\n",
       "      <th>tweet_text</th>\n",
       "      <th>is_retweet</th>\n",
       "      <th>quote_count</th>\n",
       "      <th>reply_count</th>\n",
       "      <th>like_count</th>\n",
       "      <th>retweet_count</th>\n",
       "      <th>hashtags</th>\n",
       "      <th>urls</th>\n",
       "      <th>user_mentions</th>\n",
       "    </tr>\n",
       "  </thead>\n",
       "  <tbody>\n",
       "    <tr>\n",
       "      <th>0</th>\n",
       "      <td>1161436140945195008</td>\n",
       "      <td>392352672</td>\n",
       "      <td>نجديه عذيه .</td>\n",
       "      <td>Ksa_FO1</td>\n",
       "      <td>نجد العذيه للدعم</td>\n",
       "      <td>مابادل اقل من ٥ الاف ولا أقبل المقدم بدون طلب ...</td>\n",
       "      <td>NaN</td>\n",
       "      <td>70616</td>\n",
       "      <td>52577</td>\n",
       "      <td>2011-10-16</td>\n",
       "      <td>RT @GROB_07: #حـسـآب_تـمــيزة_بـتـفـاعـل 💫\\n⠀┈...</td>\n",
       "      <td>True</td>\n",
       "      <td>0.0</td>\n",
       "      <td>0.0</td>\n",
       "      <td>0.0</td>\n",
       "      <td>0.0</td>\n",
       "      <td>['حـسـآب_تـمــيزة_بـتـفـاعـل', 'يوسف', 'الاصدق...</td>\n",
       "      <td>[]</td>\n",
       "      <td>['975702084787015680', '864364254790537216']</td>\n",
       "    </tr>\n",
       "    <tr>\n",
       "      <th>1</th>\n",
       "      <td>764273648496742400</td>\n",
       "      <td>4708503082</td>\n",
       "      <td>ْ‏ོ جود العبداللّهہ|| ོالتنبيهات ما توصل</td>\n",
       "      <td>j06__</td>\n",
       "      <td>NaN</td>\n",
       "      <td>‏‏‏‏‏‏‏‏‏‏‏إنه يستجيب منذُ أن دعوُت ولگِن يُدب...</td>\n",
       "      <td>NaN</td>\n",
       "      <td>60061</td>\n",
       "      <td>2617</td>\n",
       "      <td>2016-01-04</td>\n",
       "      <td>اللهم اكثر من امثالي ليعم الخير و تعم السعادة ...</td>\n",
       "      <td>False</td>\n",
       "      <td>0.0</td>\n",
       "      <td>0.0</td>\n",
       "      <td>0.0</td>\n",
       "      <td>0.0</td>\n",
       "      <td>['مسابقات_اعلان']</td>\n",
       "      <td>[]</td>\n",
       "      <td>[]</td>\n",
       "    </tr>\n",
       "  </tbody>\n",
       "</table>\n",
       "</div>"
      ],
      "text/plain": [
       "               tweetid      userid                         user_display_name  \\\n",
       "0  1161436140945195008   392352672                              نجديه عذيه .   \n",
       "1   764273648496742400  4708503082  ْ‏ོ جود العبداللّهہ|| ོالتنبيهات ما توصل   \n",
       "\n",
       "  user_screen_name user_reported_location  \\\n",
       "0          Ksa_FO1       نجد العذيه للدعم   \n",
       "1            j06__                    NaN   \n",
       "\n",
       "                            user_profile_description user_profile_url  \\\n",
       "0  مابادل اقل من ٥ الاف ولا أقبل المقدم بدون طلب ...              NaN   \n",
       "1  ‏‏‏‏‏‏‏‏‏‏‏إنه يستجيب منذُ أن دعوُت ولگِن يُدب...              NaN   \n",
       "\n",
       "   follower_count  following_count account_creation_date  \\\n",
       "0           70616            52577            2011-10-16   \n",
       "1           60061             2617            2016-01-04   \n",
       "\n",
       "                                          tweet_text  is_retweet  quote_count  \\\n",
       "0  RT @GROB_07: #حـسـآب_تـمــيزة_بـتـفـاعـل 💫\\n⠀┈...        True          0.0   \n",
       "1  اللهم اكثر من امثالي ليعم الخير و تعم السعادة ...       False          0.0   \n",
       "\n",
       "   reply_count  like_count  retweet_count  \\\n",
       "0          0.0         0.0            0.0   \n",
       "1          0.0         0.0            0.0   \n",
       "\n",
       "                                            hashtags urls  \\\n",
       "0  ['حـسـآب_تـمــيزة_بـتـفـاعـل', 'يوسف', 'الاصدق...   []   \n",
       "1                                  ['مسابقات_اعلان']   []   \n",
       "\n",
       "                                  user_mentions  \n",
       "0  ['975702084787015680', '864364254790537216']  \n",
       "1                                            []  "
      ]
     },
     "execution_count": 4,
     "metadata": {},
     "output_type": "execute_result"
    }
   ],
   "source": [
    "df = pd.read_csv(raw_data_path, parse_dates=[\"account_creation_date\"])\n",
    "df.head(2)"
   ]
  },
  {
   "cell_type": "code",
   "execution_count": 5,
   "id": "5e5148eb",
   "metadata": {},
   "outputs": [
    {
     "name": "stdout",
     "output_type": "stream",
     "text": [
      "<class 'pandas.core.frame.DataFrame'>\n",
      "RangeIndex: 56000 entries, 0 to 55999\n",
      "Data columns (total 19 columns):\n",
      " #   Column                    Non-Null Count  Dtype         \n",
      "---  ------                    --------------  -----         \n",
      " 0   tweetid                   56000 non-null  int64         \n",
      " 1   userid                    56000 non-null  object        \n",
      " 2   user_display_name         56000 non-null  object        \n",
      " 3   user_screen_name          56000 non-null  object        \n",
      " 4   user_reported_location    36366 non-null  object        \n",
      " 5   user_profile_description  51749 non-null  object        \n",
      " 6   user_profile_url          9912 non-null   object        \n",
      " 7   follower_count            56000 non-null  int64         \n",
      " 8   following_count           56000 non-null  int64         \n",
      " 9   account_creation_date     56000 non-null  datetime64[ns]\n",
      " 10  tweet_text                56000 non-null  object        \n",
      " 11  is_retweet                56000 non-null  bool          \n",
      " 12  quote_count               56000 non-null  float64       \n",
      " 13  reply_count               56000 non-null  float64       \n",
      " 14  like_count                56000 non-null  float64       \n",
      " 15  retweet_count             56000 non-null  float64       \n",
      " 16  hashtags                  50318 non-null  object        \n",
      " 17  urls                      49544 non-null  object        \n",
      " 18  user_mentions             56000 non-null  object        \n",
      "dtypes: bool(1), datetime64[ns](1), float64(4), int64(3), object(10)\n",
      "memory usage: 7.7+ MB\n"
     ]
    }
   ],
   "source": [
    "df.info()"
   ]
  },
  {
   "cell_type": "markdown",
   "id": "e4c89d7f",
   "metadata": {},
   "source": [
    "## Fix Int Data\n"
   ]
  },
  {
   "cell_type": "code",
   "execution_count": 6,
   "id": "b94075fe",
   "metadata": {},
   "outputs": [
    {
     "data": {
      "application/vnd.jupyter.widget-view+json": {
       "model_id": "9f0c7ccb3d134cacb3536142ab8db8d3",
       "version_major": 2,
       "version_minor": 0
      },
      "text/plain": [
       "  0%|          | 0/4 [00:00<?, ?it/s]"
      ]
     },
     "metadata": {},
     "output_type": "display_data"
    }
   ],
   "source": [
    "float_cols = [\"quote_count\", \"reply_count\", \"like_count\", \"retweet_count\"]\n",
    "\n",
    "for col in tqdm(float_cols):\n",
    "    df[col] = df[col].astype(int)"
   ]
  },
  {
   "cell_type": "code",
   "execution_count": 7,
   "id": "ea021b8c",
   "metadata": {},
   "outputs": [
    {
     "name": "stdout",
     "output_type": "stream",
     "text": [
      "<class 'pandas.core.frame.DataFrame'>\n",
      "RangeIndex: 56000 entries, 0 to 55999\n",
      "Data columns (total 19 columns):\n",
      " #   Column                    Non-Null Count  Dtype         \n",
      "---  ------                    --------------  -----         \n",
      " 0   tweetid                   56000 non-null  int64         \n",
      " 1   userid                    56000 non-null  object        \n",
      " 2   user_display_name         56000 non-null  object        \n",
      " 3   user_screen_name          56000 non-null  object        \n",
      " 4   user_reported_location    36366 non-null  object        \n",
      " 5   user_profile_description  51749 non-null  object        \n",
      " 6   user_profile_url          9912 non-null   object        \n",
      " 7   follower_count            56000 non-null  int64         \n",
      " 8   following_count           56000 non-null  int64         \n",
      " 9   account_creation_date     56000 non-null  datetime64[ns]\n",
      " 10  tweet_text                56000 non-null  object        \n",
      " 11  is_retweet                56000 non-null  bool          \n",
      " 12  quote_count               56000 non-null  int32         \n",
      " 13  reply_count               56000 non-null  int32         \n",
      " 14  like_count                56000 non-null  int32         \n",
      " 15  retweet_count             56000 non-null  int32         \n",
      " 16  hashtags                  50318 non-null  object        \n",
      " 17  urls                      49544 non-null  object        \n",
      " 18  user_mentions             56000 non-null  object        \n",
      "dtypes: bool(1), datetime64[ns](1), int32(4), int64(3), object(10)\n",
      "memory usage: 6.9+ MB\n"
     ]
    }
   ],
   "source": [
    "df.info()"
   ]
  },
  {
   "cell_type": "markdown",
   "id": "3cc52b79",
   "metadata": {},
   "source": [
    "## Fix List Data\n"
   ]
  },
  {
   "cell_type": "code",
   "execution_count": 8,
   "id": "815e2c3c",
   "metadata": {},
   "outputs": [
    {
     "data": {
      "application/vnd.jupyter.widget-view+json": {
       "model_id": "2f9647811602492f843394bcc4fa2bd1",
       "version_major": 2,
       "version_minor": 0
      },
      "text/plain": [
       "  0%|          | 0/3 [00:00<?, ?it/s]"
      ]
     },
     "metadata": {},
     "output_type": "display_data"
    }
   ],
   "source": [
    "list_cols = [\"hashtags\", \"urls\", \"user_mentions\"]\n",
    "\n",
    "for col in tqdm(list_cols):\n",
    "    df[col] = [eval(v) if not pd.isna(v) else [] for v in df[col].values]"
   ]
  },
  {
   "cell_type": "code",
   "execution_count": 9,
   "id": "28138054",
   "metadata": {},
   "outputs": [
    {
     "name": "stdout",
     "output_type": "stream",
     "text": [
      "<class 'pandas.core.frame.DataFrame'>\n",
      "RangeIndex: 56000 entries, 0 to 55999\n",
      "Data columns (total 19 columns):\n",
      " #   Column                    Non-Null Count  Dtype         \n",
      "---  ------                    --------------  -----         \n",
      " 0   tweetid                   56000 non-null  int64         \n",
      " 1   userid                    56000 non-null  object        \n",
      " 2   user_display_name         56000 non-null  object        \n",
      " 3   user_screen_name          56000 non-null  object        \n",
      " 4   user_reported_location    36366 non-null  object        \n",
      " 5   user_profile_description  51749 non-null  object        \n",
      " 6   user_profile_url          9912 non-null   object        \n",
      " 7   follower_count            56000 non-null  int64         \n",
      " 8   following_count           56000 non-null  int64         \n",
      " 9   account_creation_date     56000 non-null  datetime64[ns]\n",
      " 10  tweet_text                56000 non-null  object        \n",
      " 11  is_retweet                56000 non-null  bool          \n",
      " 12  quote_count               56000 non-null  int32         \n",
      " 13  reply_count               56000 non-null  int32         \n",
      " 14  like_count                56000 non-null  int32         \n",
      " 15  retweet_count             56000 non-null  int32         \n",
      " 16  hashtags                  56000 non-null  object        \n",
      " 17  urls                      56000 non-null  object        \n",
      " 18  user_mentions             56000 non-null  object        \n",
      "dtypes: bool(1), datetime64[ns](1), int32(4), int64(3), object(10)\n",
      "memory usage: 6.9+ MB\n"
     ]
    }
   ],
   "source": [
    "df.info()"
   ]
  },
  {
   "cell_type": "markdown",
   "id": "61b4619c",
   "metadata": {},
   "source": [
    "## Clean Text\n"
   ]
  },
  {
   "cell_type": "markdown",
   "id": "d6bb36e7",
   "metadata": {},
   "source": [
    "In this stage we do multiple steps as follows:\n",
    "\n",
    "- Remove all emojis\n",
    "- Remove all mention and hashtag symbols\n",
    "- Remove all links and mentions\n",
    "\n",
    "The cleaned text will be saved in the field `text` in the data frame and will be the main feature from now on.\n"
   ]
  },
  {
   "cell_type": "code",
   "execution_count": 10,
   "id": "30d4f473",
   "metadata": {},
   "outputs": [],
   "source": [
    "# def process_text(text):\n",
    "#     \"\"\"Process tweet text by removing links, mentions, and hashtags symbol.\"\"\"\n",
    "#     # links\n",
    "#     clean_text = re.sub(r\"http\\S+|t\\.co/\\S+\", \"\", text)\n",
    "#     # mentions\n",
    "#     clean_text = re.sub(r\"@\\w+\", \"\", clean_text)\n",
    "#     # hashtags\n",
    "#     clean_text = re.sub(r\"#\", \"\", clean_text)\n",
    "#     clean_text = re.sub(r\"_\", \" \", clean_text)\n",
    "#     # tashqeel - from @bakriano\n",
    "#     clean_text = re.sub(r\"[\\u0617-\\u061A\\u064B-\\u0652]\", \"\", clean_text)\n",
    "#     # emojis\n",
    "#     clean_text = emoji.replace_emoji(clean_text, replace=\"\")\n",
    "#     # remove new lines and normalize white spaces\n",
    "#     clean_text = re.sub(r\"\\s+\", \" \", clean_text)\n",
    "#     return clean_text.replace(\"RT :\", \"\").strip()"
   ]
  },
  {
   "cell_type": "code",
   "execution_count": 11,
   "id": "56c8e426-a24b-43e3-a096-67aadc4f9aed",
   "metadata": {},
   "outputs": [],
   "source": [
    "def process_text(text):\n",
    "    \"\"\"Process tweet text by removing links, mentions, and hashtags symbol.\"\"\"\n",
    "    clean_text = arabert_prep.preprocess(text)\n",
    "    clean_text = arabert_prep.unpreprocess(clean_text)\n",
    "    clean_text = clean_text.replace(\"[رابط]\", \"\")\n",
    "    clean_text = clean_text.replace(\"[مستخدم]\", \"\")\n",
    "    clean_text = clean_text.replace(\"RT\", \"\")\n",
    "    clean_text = clean_text.replace(\":\", \"\")\n",
    "    return clean_text.strip()"
   ]
  },
  {
   "cell_type": "code",
   "execution_count": 12,
   "id": "57fe53bf",
   "metadata": {},
   "outputs": [],
   "source": [
    "df[\"text\"] = df[\"tweet_text\"].apply(process_text)"
   ]
  },
  {
   "cell_type": "code",
   "execution_count": 13,
   "id": "fbf208e2",
   "metadata": {},
   "outputs": [
    {
     "data": {
      "text/html": [
       "<div>\n",
       "<style scoped>\n",
       "    .dataframe tbody tr th:only-of-type {\n",
       "        vertical-align: middle;\n",
       "    }\n",
       "\n",
       "    .dataframe tbody tr th {\n",
       "        vertical-align: top;\n",
       "    }\n",
       "\n",
       "    .dataframe thead th {\n",
       "        text-align: right;\n",
       "    }\n",
       "</style>\n",
       "<table border=\"1\" class=\"dataframe\">\n",
       "  <thead>\n",
       "    <tr style=\"text-align: right;\">\n",
       "      <th></th>\n",
       "      <th>tweetid</th>\n",
       "      <th>userid</th>\n",
       "      <th>user_display_name</th>\n",
       "      <th>user_screen_name</th>\n",
       "      <th>user_reported_location</th>\n",
       "      <th>user_profile_description</th>\n",
       "      <th>user_profile_url</th>\n",
       "      <th>follower_count</th>\n",
       "      <th>following_count</th>\n",
       "      <th>account_creation_date</th>\n",
       "      <th>tweet_text</th>\n",
       "      <th>is_retweet</th>\n",
       "      <th>quote_count</th>\n",
       "      <th>reply_count</th>\n",
       "      <th>like_count</th>\n",
       "      <th>retweet_count</th>\n",
       "      <th>hashtags</th>\n",
       "      <th>urls</th>\n",
       "      <th>user_mentions</th>\n",
       "      <th>text</th>\n",
       "    </tr>\n",
       "  </thead>\n",
       "  <tbody>\n",
       "    <tr>\n",
       "      <th>0</th>\n",
       "      <td>1161436140945195008</td>\n",
       "      <td>392352672</td>\n",
       "      <td>نجديه عذيه .</td>\n",
       "      <td>Ksa_FO1</td>\n",
       "      <td>نجد العذيه للدعم</td>\n",
       "      <td>مابادل اقل من ٥ الاف ولا أقبل المقدم بدون طلب ...</td>\n",
       "      <td>NaN</td>\n",
       "      <td>70616</td>\n",
       "      <td>52577</td>\n",
       "      <td>2011-10-16</td>\n",
       "      <td>RT @GROB_07: #حـسـآب_تـمــيزة_بـتـفـاعـل 💫\\n⠀┈...</td>\n",
       "      <td>True</td>\n",
       "      <td>0</td>\n",
       "      <td>0</td>\n",
       "      <td>0</td>\n",
       "      <td>0</td>\n",
       "      <td>[حـسـآب_تـمــيزة_بـتـفـاعـل, يوسف, الاصدقاء_لل...</td>\n",
       "      <td>[]</td>\n",
       "      <td>[975702084787015680, 864364254790537216]</td>\n",
       "      <td># حسآب_تميزة_بتفاعل نج م القوآئم لهذآ اليوم # ...</td>\n",
       "    </tr>\n",
       "    <tr>\n",
       "      <th>1</th>\n",
       "      <td>764273648496742400</td>\n",
       "      <td>4708503082</td>\n",
       "      <td>ْ‏ོ جود العبداللّهہ|| ོالتنبيهات ما توصل</td>\n",
       "      <td>j06__</td>\n",
       "      <td>NaN</td>\n",
       "      <td>‏‏‏‏‏‏‏‏‏‏‏إنه يستجيب منذُ أن دعوُت ولگِن يُدب...</td>\n",
       "      <td>NaN</td>\n",
       "      <td>60061</td>\n",
       "      <td>2617</td>\n",
       "      <td>2016-01-04</td>\n",
       "      <td>اللهم اكثر من امثالي ليعم الخير و تعم السعادة ...</td>\n",
       "      <td>False</td>\n",
       "      <td>0</td>\n",
       "      <td>0</td>\n",
       "      <td>0</td>\n",
       "      <td>0</td>\n",
       "      <td>[مسابقات_اعلان]</td>\n",
       "      <td>[]</td>\n",
       "      <td>[]</td>\n",
       "      <td>اللهم أكثر من امثالي ليعم الخير و تعم السعادة#...</td>\n",
       "    </tr>\n",
       "  </tbody>\n",
       "</table>\n",
       "</div>"
      ],
      "text/plain": [
       "               tweetid      userid                         user_display_name  \\\n",
       "0  1161436140945195008   392352672                              نجديه عذيه .   \n",
       "1   764273648496742400  4708503082  ْ‏ོ جود العبداللّهہ|| ོالتنبيهات ما توصل   \n",
       "\n",
       "  user_screen_name user_reported_location  \\\n",
       "0          Ksa_FO1       نجد العذيه للدعم   \n",
       "1            j06__                    NaN   \n",
       "\n",
       "                            user_profile_description user_profile_url  \\\n",
       "0  مابادل اقل من ٥ الاف ولا أقبل المقدم بدون طلب ...              NaN   \n",
       "1  ‏‏‏‏‏‏‏‏‏‏‏إنه يستجيب منذُ أن دعوُت ولگِن يُدب...              NaN   \n",
       "\n",
       "   follower_count  following_count account_creation_date  \\\n",
       "0           70616            52577            2011-10-16   \n",
       "1           60061             2617            2016-01-04   \n",
       "\n",
       "                                          tweet_text  is_retweet  quote_count  \\\n",
       "0  RT @GROB_07: #حـسـآب_تـمــيزة_بـتـفـاعـل 💫\\n⠀┈...        True            0   \n",
       "1  اللهم اكثر من امثالي ليعم الخير و تعم السعادة ...       False            0   \n",
       "\n",
       "   reply_count  like_count  retweet_count  \\\n",
       "0            0           0              0   \n",
       "1            0           0              0   \n",
       "\n",
       "                                            hashtags urls  \\\n",
       "0  [حـسـآب_تـمــيزة_بـتـفـاعـل, يوسف, الاصدقاء_لل...   []   \n",
       "1                                    [مسابقات_اعلان]   []   \n",
       "\n",
       "                              user_mentions  \\\n",
       "0  [975702084787015680, 864364254790537216]   \n",
       "1                                        []   \n",
       "\n",
       "                                                text  \n",
       "0  # حسآب_تميزة_بتفاعل نج م القوآئم لهذآ اليوم # ...  \n",
       "1  اللهم أكثر من امثالي ليعم الخير و تعم السعادة#...  "
      ]
     },
     "execution_count": 13,
     "metadata": {},
     "output_type": "execute_result"
    }
   ],
   "source": [
    "df.head(2)"
   ]
  },
  {
   "cell_type": "markdown",
   "id": "4deb77be",
   "metadata": {},
   "source": [
    "## Process List Columns\n"
   ]
  },
  {
   "cell_type": "code",
   "execution_count": 14,
   "id": "a5e15387",
   "metadata": {},
   "outputs": [
    {
     "data": {
      "text/plain": [
       "list"
      ]
     },
     "execution_count": 14,
     "metadata": {},
     "output_type": "execute_result"
    }
   ],
   "source": [
    "type(df.loc[0, \"urls\"])"
   ]
  },
  {
   "cell_type": "code",
   "execution_count": 15,
   "id": "62600ff3",
   "metadata": {},
   "outputs": [],
   "source": [
    "df[\"urls\"] = [len(urls) for urls in df[\"urls\"].values]\n",
    "df[\"hashtags\"] = [len(hashtags) for hashtags in df[\"hashtags\"].values]\n",
    "df[\"user_mentions\"] = [len(mentions) for mentions in df[\"user_mentions\"].values]"
   ]
  },
  {
   "cell_type": "markdown",
   "id": "1802f902",
   "metadata": {},
   "source": [
    "## Drop Unnecessary Columns\n"
   ]
  },
  {
   "cell_type": "code",
   "execution_count": 16,
   "id": "ff5c7e96",
   "metadata": {},
   "outputs": [],
   "source": [
    "df = df.drop(columns=[\"user_profile_url\"])"
   ]
  },
  {
   "cell_type": "markdown",
   "id": "e323ff70",
   "metadata": {},
   "source": [
    "## Save Clean Data\n"
   ]
  },
  {
   "cell_type": "code",
   "execution_count": 17,
   "id": "bca8aaad",
   "metadata": {},
   "outputs": [],
   "source": [
    "df.to_json(processed_data_path)"
   ]
  }
 ],
 "metadata": {
  "kernelspec": {
   "display_name": "Python 3 (ipykernel)",
   "language": "python",
   "name": "python3"
  },
  "language_info": {
   "codemirror_mode": {
    "name": "ipython",
    "version": 3
   },
   "file_extension": ".py",
   "mimetype": "text/x-python",
   "name": "python",
   "nbconvert_exporter": "python",
   "pygments_lexer": "ipython3",
   "version": "3.8.18"
  }
 },
 "nbformat": 4,
 "nbformat_minor": 5
}
