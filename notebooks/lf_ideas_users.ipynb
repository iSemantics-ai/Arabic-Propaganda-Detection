{
 "cells": [
  {
   "cell_type": "markdown",
   "id": "d72f229a",
   "metadata": {},
   "source": [
    "# Labeling Functions Ideas\n"
   ]
  },
  {
   "cell_type": "markdown",
   "id": "2431d2ac",
   "metadata": {},
   "source": [
    "Exploring the LFs ideas behind users meta data, propaganda techniques, and assumptions made about the task.\n",
    "\n",
    "Focusing only on the users meta data in this file.\n"
   ]
  },
  {
   "cell_type": "code",
   "execution_count": 1,
   "id": "aae4fe0c",
   "metadata": {},
   "outputs": [],
   "source": [
    "import re\n",
    "import glob\n",
    "import emoji\n",
    "import stanza\n",
    "import numpy as np\n",
    "import pandas as pd\n",
    "import seaborn as sns\n",
    "from tqdm.auto import tqdm\n",
    "from nltk.tokenize import word_tokenize\n",
    "\n",
    "sns.set()\n",
    "%matplotlib inline"
   ]
  },
  {
   "cell_type": "markdown",
   "id": "d2940788",
   "metadata": {},
   "source": [
    "## Users Meta Data\n"
   ]
  },
  {
   "cell_type": "markdown",
   "id": "0454c7b9",
   "metadata": {},
   "source": [
    "Based on the assumption that only around 6K propagandist users we released and around 12K genuine account collected, we will try to find out some boundaries between the genuine and propagandist users.\n",
    "\n",
    "This will not be accurate but we will try to find out in the labeling functions section.\n"
   ]
  },
  {
   "cell_type": "code",
   "execution_count": 2,
   "id": "8305e1ea",
   "metadata": {},
   "outputs": [],
   "source": [
    "prop_users_data_path = \"../data/raw/propaganda_users.csv\"\n",
    "gen_users_data_paths = \"../data/raw/collected_gen/*/*User*.csv\""
   ]
  },
  {
   "cell_type": "code",
   "execution_count": 3,
   "id": "01844518",
   "metadata": {},
   "outputs": [
    {
     "data": {
      "text/html": [
       "<div>\n",
       "<style scoped>\n",
       "    .dataframe tbody tr th:only-of-type {\n",
       "        vertical-align: middle;\n",
       "    }\n",
       "\n",
       "    .dataframe tbody tr th {\n",
       "        vertical-align: top;\n",
       "    }\n",
       "\n",
       "    .dataframe thead th {\n",
       "        text-align: right;\n",
       "    }\n",
       "</style>\n",
       "<table border=\"1\" class=\"dataframe\">\n",
       "  <thead>\n",
       "    <tr style=\"text-align: right;\">\n",
       "      <th></th>\n",
       "      <th>userid</th>\n",
       "      <th>user_display_name</th>\n",
       "      <th>user_screen_name</th>\n",
       "      <th>user_reported_location</th>\n",
       "      <th>user_profile_description</th>\n",
       "      <th>follower_count</th>\n",
       "      <th>following_count</th>\n",
       "      <th>account_creation_date</th>\n",
       "    </tr>\n",
       "  </thead>\n",
       "  <tbody>\n",
       "    <tr>\n",
       "      <th>0</th>\n",
       "      <td>G4fT8DZWOhtFv3LOya6R2lu1eE1+wfBRSXAJTPBS1B4=</td>\n",
       "      <td>G4fT8DZWOhtFv3LOya6R2lu1eE1+wfBRSXAJTPBS1B4=</td>\n",
       "      <td>G4fT8DZWOhtFv3LOya6R2lu1eE1+wfBRSXAJTPBS1B4=</td>\n",
       "      <td>NaN</td>\n",
       "      <td>NaN</td>\n",
       "      <td>318</td>\n",
       "      <td>689</td>\n",
       "      <td>2014-06-12</td>\n",
       "    </tr>\n",
       "    <tr>\n",
       "      <th>1</th>\n",
       "      <td>jfyXQBCFWEHB6bWgH2wpi4arPEXSV7dzBLUZSiqV0KY=</td>\n",
       "      <td>jfyXQBCFWEHB6bWgH2wpi4arPEXSV7dzBLUZSiqV0KY=</td>\n",
       "      <td>jfyXQBCFWEHB6bWgH2wpi4arPEXSV7dzBLUZSiqV0KY=</td>\n",
       "      <td>هذا الحساب الجديد/ضاحية لبن</td>\n",
       "      <td>NaN</td>\n",
       "      <td>236</td>\n",
       "      <td>240</td>\n",
       "      <td>2015-01-25</td>\n",
       "    </tr>\n",
       "  </tbody>\n",
       "</table>\n",
       "</div>"
      ],
      "text/plain": [
       "                                         userid  \\\n",
       "0  G4fT8DZWOhtFv3LOya6R2lu1eE1+wfBRSXAJTPBS1B4=   \n",
       "1  jfyXQBCFWEHB6bWgH2wpi4arPEXSV7dzBLUZSiqV0KY=   \n",
       "\n",
       "                              user_display_name  \\\n",
       "0  G4fT8DZWOhtFv3LOya6R2lu1eE1+wfBRSXAJTPBS1B4=   \n",
       "1  jfyXQBCFWEHB6bWgH2wpi4arPEXSV7dzBLUZSiqV0KY=   \n",
       "\n",
       "                               user_screen_name        user_reported_location  \\\n",
       "0  G4fT8DZWOhtFv3LOya6R2lu1eE1+wfBRSXAJTPBS1B4=                           NaN   \n",
       "1  jfyXQBCFWEHB6bWgH2wpi4arPEXSV7dzBLUZSiqV0KY=   هذا الحساب الجديد/ضاحية لبن   \n",
       "\n",
       "  user_profile_description  follower_count  following_count  \\\n",
       "0                      NaN             318              689   \n",
       "1                      NaN             236              240   \n",
       "\n",
       "  account_creation_date  \n",
       "0            2014-06-12  \n",
       "1            2015-01-25  "
      ]
     },
     "execution_count": 3,
     "metadata": {},
     "output_type": "execute_result"
    }
   ],
   "source": [
    "prop_users = pd.read_csv(prop_users_data_path, parse_dates=[\"account_creation_date\"])\n",
    "prop_users = prop_users.drop_duplicates(subset=[\"userid\"])\n",
    "prop_users = prop_users.drop(columns=[\"user_profile_url\", \"account_language\"])\n",
    "prop_users.head(2)"
   ]
  },
  {
   "cell_type": "code",
   "execution_count": 4,
   "id": "bce87182",
   "metadata": {},
   "outputs": [
    {
     "name": "stdout",
     "output_type": "stream",
     "text": [
      "<class 'pandas.core.frame.DataFrame'>\n",
      "RangeIndex: 5929 entries, 0 to 5928\n",
      "Data columns (total 8 columns):\n",
      " #   Column                    Non-Null Count  Dtype         \n",
      "---  ------                    --------------  -----         \n",
      " 0   userid                    5929 non-null   object        \n",
      " 1   user_display_name         5929 non-null   object        \n",
      " 2   user_screen_name          5929 non-null   object        \n",
      " 3   user_reported_location    3426 non-null   object        \n",
      " 4   user_profile_description  4757 non-null   object        \n",
      " 5   follower_count            5929 non-null   int64         \n",
      " 6   following_count           5929 non-null   int64         \n",
      " 7   account_creation_date     5929 non-null   datetime64[ns]\n",
      "dtypes: datetime64[ns](1), int64(2), object(5)\n",
      "memory usage: 370.7+ KB\n"
     ]
    }
   ],
   "source": [
    "prop_users.info()"
   ]
  },
  {
   "cell_type": "code",
   "execution_count": 5,
   "id": "76147847",
   "metadata": {},
   "outputs": [],
   "source": [
    "paths = glob.glob(gen_users_data_paths)\n",
    "dfs = [pd.read_csv(f, parse_dates=[\"created_at\"], lineterminator=\"\\n\") for f in paths]\n",
    "gen_users = pd.concat(dfs, ignore_index=True).drop_duplicates(subset=[\"id\"])"
   ]
  },
  {
   "cell_type": "code",
   "execution_count": 6,
   "id": "07133ecb",
   "metadata": {},
   "outputs": [],
   "source": [
    "# The following lines are to handle old sports and banking files.\n",
    "\n",
    "# df1 = pd.read_csv('../data/raw/banking_users.csv', parse_dates=['created_at'])\n",
    "# df2 = pd.read_csv('../data/raw/sports_users.csv', parse_dates=['created_at'])\n",
    "# gen_users = pd.concat(\n",
    "#     [df1, df2], ignore_index=True).drop_duplicates(subset=['id'])"
   ]
  },
  {
   "cell_type": "code",
   "execution_count": 7,
   "id": "d36790ea",
   "metadata": {},
   "outputs": [
    {
     "data": {
      "text/html": [
       "<div>\n",
       "<style scoped>\n",
       "    .dataframe tbody tr th:only-of-type {\n",
       "        vertical-align: middle;\n",
       "    }\n",
       "\n",
       "    .dataframe tbody tr th {\n",
       "        vertical-align: top;\n",
       "    }\n",
       "\n",
       "    .dataframe thead th {\n",
       "        text-align: right;\n",
       "    }\n",
       "</style>\n",
       "<table border=\"1\" class=\"dataframe\">\n",
       "  <thead>\n",
       "    <tr style=\"text-align: right;\">\n",
       "      <th></th>\n",
       "      <th>name</th>\n",
       "      <th>username</th>\n",
       "      <th>url</th>\n",
       "      <th>profile_image_url</th>\n",
       "      <th>id</th>\n",
       "      <th>verified</th>\n",
       "      <th>description</th>\n",
       "      <th>created_at</th>\n",
       "      <th>protected</th>\n",
       "      <th>public_metrics.followers_count</th>\n",
       "      <th>...</th>\n",
       "      <th>public_metrics.tweet_count</th>\n",
       "      <th>public_metrics.listed_count</th>\n",
       "      <th>entities.url.urls</th>\n",
       "      <th>entities.description.mentions</th>\n",
       "      <th>pinned_tweet_id</th>\n",
       "      <th>location</th>\n",
       "      <th>entities.description.hashtags</th>\n",
       "      <th>entities.description.urls</th>\n",
       "      <th>entities.description.cashtags</th>\n",
       "      <th>withheld.country_codes</th>\n",
       "    </tr>\n",
       "  </thead>\n",
       "  <tbody>\n",
       "    <tr>\n",
       "      <th>0</th>\n",
       "      <td>وزارة الخارجية 🇸🇦</td>\n",
       "      <td>KSAMOFA</td>\n",
       "      <td>https://t.co/FGtZ1jkeMr</td>\n",
       "      <td>https://pbs.twimg.com/profile_images/144319574...</td>\n",
       "      <td>227944601</td>\n",
       "      <td>True</td>\n",
       "      <td>الحساب الرسمي لوزارة خارجية المملكة العربية ال...</td>\n",
       "      <td>2010-12-18 07:57:43+00:00</td>\n",
       "      <td>False</td>\n",
       "      <td>3506289</td>\n",
       "      <td>...</td>\n",
       "      <td>27068</td>\n",
       "      <td>3278</td>\n",
       "      <td>[{'start': 0, 'end': 23, 'url': 'https://t.co/...</td>\n",
       "      <td>[{'start': 80, 'end': 90, 'username': 'KSAMOFA...</td>\n",
       "      <td>NaN</td>\n",
       "      <td>NaN</td>\n",
       "      <td>NaN</td>\n",
       "      <td>NaN</td>\n",
       "      <td>NaN</td>\n",
       "      <td>NaN</td>\n",
       "    </tr>\n",
       "    <tr>\n",
       "      <th>1</th>\n",
       "      <td>وزارة الإعلام</td>\n",
       "      <td>media_ksa</td>\n",
       "      <td>https://t.co/ogyhN6U521</td>\n",
       "      <td>https://pbs.twimg.com/profile_images/154795446...</td>\n",
       "      <td>2581999723</td>\n",
       "      <td>True</td>\n",
       "      <td>وزارة الإعلام في المملكة العربية #السعودية Min...</td>\n",
       "      <td>2014-06-22 10:10:57+00:00</td>\n",
       "      <td>False</td>\n",
       "      <td>876357</td>\n",
       "      <td>...</td>\n",
       "      <td>13954</td>\n",
       "      <td>1363</td>\n",
       "      <td>[{'start': 0, 'end': 23, 'url': 'https://t.co/...</td>\n",
       "      <td>NaN</td>\n",
       "      <td>1.540699e+18</td>\n",
       "      <td>Kingdom of Saudi Arabia</td>\n",
       "      <td>[{'start': 33, 'end': 42, 'tag': 'السعودية'}]</td>\n",
       "      <td>NaN</td>\n",
       "      <td>NaN</td>\n",
       "      <td>NaN</td>\n",
       "    </tr>\n",
       "  </tbody>\n",
       "</table>\n",
       "<p>2 rows × 21 columns</p>\n",
       "</div>"
      ],
      "text/plain": [
       "                name   username                      url  \\\n",
       "0  وزارة الخارجية 🇸🇦    KSAMOFA  https://t.co/FGtZ1jkeMr   \n",
       "1      وزارة الإعلام  media_ksa  https://t.co/ogyhN6U521   \n",
       "\n",
       "                                   profile_image_url          id  verified  \\\n",
       "0  https://pbs.twimg.com/profile_images/144319574...   227944601      True   \n",
       "1  https://pbs.twimg.com/profile_images/154795446...  2581999723      True   \n",
       "\n",
       "                                         description  \\\n",
       "0  الحساب الرسمي لوزارة خارجية المملكة العربية ال...   \n",
       "1  وزارة الإعلام في المملكة العربية #السعودية Min...   \n",
       "\n",
       "                 created_at  protected  public_metrics.followers_count  ...  \\\n",
       "0 2010-12-18 07:57:43+00:00      False                         3506289  ...   \n",
       "1 2014-06-22 10:10:57+00:00      False                          876357  ...   \n",
       "\n",
       "   public_metrics.tweet_count  public_metrics.listed_count  \\\n",
       "0                       27068                         3278   \n",
       "1                       13954                         1363   \n",
       "\n",
       "                                   entities.url.urls  \\\n",
       "0  [{'start': 0, 'end': 23, 'url': 'https://t.co/...   \n",
       "1  [{'start': 0, 'end': 23, 'url': 'https://t.co/...   \n",
       "\n",
       "                       entities.description.mentions pinned_tweet_id  \\\n",
       "0  [{'start': 80, 'end': 90, 'username': 'KSAMOFA...             NaN   \n",
       "1                                                NaN    1.540699e+18   \n",
       "\n",
       "                  location                  entities.description.hashtags  \\\n",
       "0                      NaN                                            NaN   \n",
       "1  Kingdom of Saudi Arabia  [{'start': 33, 'end': 42, 'tag': 'السعودية'}]   \n",
       "\n",
       "  entities.description.urls entities.description.cashtags  \\\n",
       "0                       NaN                           NaN   \n",
       "1                       NaN                           NaN   \n",
       "\n",
       "  withheld.country_codes  \n",
       "0                    NaN  \n",
       "1                    NaN  \n",
       "\n",
       "[2 rows x 21 columns]"
      ]
     },
     "execution_count": 7,
     "metadata": {},
     "output_type": "execute_result"
    }
   ],
   "source": [
    "gen_users.head(2)"
   ]
  },
  {
   "cell_type": "code",
   "execution_count": 8,
   "id": "043b3313",
   "metadata": {},
   "outputs": [
    {
     "name": "stdout",
     "output_type": "stream",
     "text": [
      "<class 'pandas.core.frame.DataFrame'>\n",
      "Index: 12145 entries, 0 to 37188\n",
      "Data columns (total 21 columns):\n",
      " #   Column                          Non-Null Count  Dtype              \n",
      "---  ------                          --------------  -----              \n",
      " 0   name                            12145 non-null  object             \n",
      " 1   username                        12145 non-null  object             \n",
      " 2   url                             4485 non-null   object             \n",
      " 3   profile_image_url               12145 non-null  object             \n",
      " 4   id                              12145 non-null  int64              \n",
      " 5   verified                        12145 non-null  bool               \n",
      " 6   description                     9889 non-null   object             \n",
      " 7   created_at                      12145 non-null  datetime64[ns, UTC]\n",
      " 8   protected                       12145 non-null  bool               \n",
      " 9   public_metrics.followers_count  12145 non-null  int64              \n",
      " 10  public_metrics.following_count  12145 non-null  int64              \n",
      " 11  public_metrics.tweet_count      12145 non-null  int64              \n",
      " 12  public_metrics.listed_count     12145 non-null  int64              \n",
      " 13  entities.url.urls               4485 non-null   object             \n",
      " 14  entities.description.mentions   1344 non-null   object             \n",
      " 15  pinned_tweet_id                 5836 non-null   float64            \n",
      " 16  location                        7871 non-null   object             \n",
      " 17  entities.description.hashtags   1630 non-null   object             \n",
      " 18  entities.description.urls       565 non-null    object             \n",
      " 19  entities.description.cashtags   3 non-null      object             \n",
      " 20  withheld.country_codes          2 non-null      object             \n",
      "dtypes: bool(2), datetime64[ns, UTC](1), float64(1), int64(5), object(12)\n",
      "memory usage: 1.9+ MB\n"
     ]
    }
   ],
   "source": [
    "gen_users.info()"
   ]
  },
  {
   "cell_type": "code",
   "execution_count": 9,
   "id": "5f928f9a",
   "metadata": {},
   "outputs": [
    {
     "name": "stdout",
     "output_type": "stream",
     "text": [
      "<class 'pandas.core.frame.DataFrame'>\n",
      "Index: 12145 entries, 0 to 37188\n",
      "Data columns (total 8 columns):\n",
      " #   Column                    Non-Null Count  Dtype              \n",
      "---  ------                    --------------  -----              \n",
      " 0   userid                    12145 non-null  int64              \n",
      " 1   user_display_name         12145 non-null  object             \n",
      " 2   user_screen_name          12145 non-null  object             \n",
      " 3   user_reported_location    7871 non-null   object             \n",
      " 4   user_profile_description  9889 non-null   object             \n",
      " 5   follower_count            12145 non-null  int64              \n",
      " 6   following_count           12145 non-null  int64              \n",
      " 7   account_creation_date     12145 non-null  datetime64[ns, UTC]\n",
      "dtypes: datetime64[ns, UTC](1), int64(3), object(4)\n",
      "memory usage: 853.9+ KB\n"
     ]
    }
   ],
   "source": [
    "# matching column names\n",
    "\n",
    "col_map = {\n",
    "    \"description\": \"user_profile_description\",\n",
    "    \"id\": \"userid\",\n",
    "    \"username\": \"user_screen_name\",\n",
    "    \"location\": \"user_reported_location\",\n",
    "    \"name\": \"user_display_name\",\n",
    "    \"created_at\": \"account_creation_date\",\n",
    "    \"public_metrics.followers_count\": \"follower_count\",\n",
    "    \"public_metrics.following_count\": \"following_count\",\n",
    "}\n",
    "\n",
    "gen_users = gen_users.rename(columns=col_map)\n",
    "gen_users = gen_users[prop_users.columns]\n",
    "gen_users = gen_users.drop_duplicates(subset=[\"userid\"])\n",
    "gen_users.info()"
   ]
  },
  {
   "cell_type": "code",
   "execution_count": 10,
   "id": "01454287",
   "metadata": {},
   "outputs": [
    {
     "name": "stdout",
     "output_type": "stream",
     "text": [
      "<class 'pandas.core.frame.DataFrame'>\n",
      "RangeIndex: 5929 entries, 0 to 5928\n",
      "Data columns (total 8 columns):\n",
      " #   Column                    Non-Null Count  Dtype         \n",
      "---  ------                    --------------  -----         \n",
      " 0   userid                    5929 non-null   object        \n",
      " 1   user_display_name         5929 non-null   object        \n",
      " 2   user_screen_name          5929 non-null   object        \n",
      " 3   user_reported_location    3426 non-null   object        \n",
      " 4   user_profile_description  4757 non-null   object        \n",
      " 5   follower_count            5929 non-null   int64         \n",
      " 6   following_count           5929 non-null   int64         \n",
      " 7   account_creation_date     5929 non-null   datetime64[ns]\n",
      "dtypes: datetime64[ns](1), int64(2), object(5)\n",
      "memory usage: 370.7+ KB\n"
     ]
    }
   ],
   "source": [
    "prop_users.info()"
   ]
  },
  {
   "cell_type": "markdown",
   "id": "dde76470",
   "metadata": {},
   "source": [
    "### Bio Length\n"
   ]
  },
  {
   "cell_type": "code",
   "execution_count": 11,
   "id": "f124d9af",
   "metadata": {},
   "outputs": [],
   "source": [
    "gen_bio_lens = [\n",
    "    len(b) if not pd.isna(b) else 0 for b in gen_users.user_profile_description\n",
    "]\n",
    "prop_bio_lens = [\n",
    "    len(b) if not pd.isna(b) else 0 for b in prop_users.user_profile_description\n",
    "]"
   ]
  },
  {
   "cell_type": "code",
   "execution_count": 12,
   "id": "c707bd3f",
   "metadata": {},
   "outputs": [
    {
     "data": {
      "text/plain": [
       "0      2256\n",
       "160     241\n",
       "159     137\n",
       "158     134\n",
       "157     101\n",
       "       ... \n",
       "168       2\n",
       "179       2\n",
       "175       1\n",
       "171       1\n",
       "178       1\n",
       "Name: count, Length: 171, dtype: int64"
      ]
     },
     "execution_count": 12,
     "metadata": {},
     "output_type": "execute_result"
    }
   ],
   "source": [
    "pd.Series(gen_bio_lens).value_counts()"
   ]
  },
  {
   "cell_type": "code",
   "execution_count": 13,
   "id": "fb56660a",
   "metadata": {},
   "outputs": [
    {
     "data": {
      "text/plain": [
       "user_profile_description\n",
       "False    9889\n",
       "True     2256\n",
       "Name: count, dtype: int64"
      ]
     },
     "execution_count": 13,
     "metadata": {},
     "output_type": "execute_result"
    }
   ],
   "source": [
    "gen_users.user_profile_description.isna().value_counts()"
   ]
  },
  {
   "cell_type": "code",
   "execution_count": 14,
   "id": "ce11bf71",
   "metadata": {},
   "outputs": [
    {
     "data": {
      "text/plain": [
       "<Axes: ylabel='Count'>"
      ]
     },
     "execution_count": 14,
     "metadata": {},
     "output_type": "execute_result"
    },
    {
     "data": {
      "image/png": "[encoded data removed]",
      "text/plain": [
       "<Figure size 640x480 with 1 Axes>"
      ]
     },
     "metadata": {},
     "output_type": "display_data"
    }
   ],
   "source": [
    "sns.histplot(gen_bio_lens)"
   ]
  },
  {
   "cell_type": "code",
   "execution_count": 15,
   "id": "43667052",
   "metadata": {},
   "outputs": [
    {
     "data": {
      "text/plain": [
       "0      1172\n",
       "30      106\n",
       "29       94\n",
       "22       85\n",
       "31       83\n",
       "       ... \n",
       "157       3\n",
       "154       3\n",
       "124       3\n",
       "116       3\n",
       "164       1\n",
       "Name: count, Length: 161, dtype: int64"
      ]
     },
     "execution_count": 15,
     "metadata": {},
     "output_type": "execute_result"
    }
   ],
   "source": [
    "pd.Series(prop_bio_lens).value_counts()"
   ]
  },
  {
   "cell_type": "code",
   "execution_count": 16,
   "id": "a3cfa60a",
   "metadata": {},
   "outputs": [
    {
     "data": {
      "text/plain": [
       "user_profile_description\n",
       "False    4757\n",
       "True     1172\n",
       "Name: count, dtype: int64"
      ]
     },
     "execution_count": 16,
     "metadata": {},
     "output_type": "execute_result"
    }
   ],
   "source": [
    "prop_users.user_profile_description.isna().value_counts()"
   ]
  },
  {
   "cell_type": "code",
   "execution_count": 17,
   "id": "45c22ae4",
   "metadata": {},
   "outputs": [
    {
     "data": {
      "text/plain": [
       "<Axes: ylabel='Count'>"
      ]
     },
     "execution_count": 17,
     "metadata": {},
     "output_type": "execute_result"
    },
    {
     "data": {
      "image/png": "[encoded data removed]",
      "text/plain": [
       "<Figure size 640x480 with 1 Axes>"
      ]
     },
     "metadata": {},
     "output_type": "display_data"
    }
   ],
   "source": [
    "sns.histplot(prop_bio_lens)"
   ]
  },
  {
   "cell_type": "markdown",
   "id": "7b2b3de5",
   "metadata": {},
   "source": [
    "Conclusion: No difference.\n"
   ]
  },
  {
   "cell_type": "markdown",
   "id": "da63c05c",
   "metadata": {},
   "source": [
    "### Bio Number of Words\n"
   ]
  },
  {
   "cell_type": "code",
   "execution_count": 18,
   "id": "b3212091",
   "metadata": {},
   "outputs": [],
   "source": [
    "def process_tokenize(text):\n",
    "    \"\"\"Remove hashtags, urls, and emojis from bio and tokenize.\"\"\"\n",
    "    # links\n",
    "    clean_text = re.sub(r\"http\\S+|t\\.co/\\S+\", \"\", text)\n",
    "    # mentions\n",
    "    clean_text = re.sub(r\"@\\w+\", \"\", clean_text)\n",
    "    # hashtags\n",
    "    clean_text = re.sub(r\"#\", \"\", clean_text)\n",
    "    clean_text = re.sub(r\"_\", \" \", clean_text)\n",
    "    # tashqeel - from @bakriano\n",
    "    clean_text = re.sub(r\"[\\u0617-\\u061A\\u064B-\\u0652]\", \"\", clean_text)\n",
    "    # emojis\n",
    "    clean_text = emoji.replace_emoji(clean_text, replace=\"\")\n",
    "    # remove new lines and normalize white spaces\n",
    "    clean_text = re.sub(r\"\\s+\", \" \", clean_text)\n",
    "    return word_tokenize(clean_text.strip())"
   ]
  },
  {
   "cell_type": "code",
   "execution_count": 19,
   "id": "3444d9dc",
   "metadata": {},
   "outputs": [],
   "source": [
    "gen_bio_words = [\n",
    "    len(process_tokenize(b)) if not pd.isna(b) else 0\n",
    "    for b in gen_users.user_profile_description\n",
    "]\n",
    "prop_bio_words = [\n",
    "    len(process_tokenize(b)) if not pd.isna(b) else 0\n",
    "    for b in prop_users.user_profile_description\n",
    "]"
   ]
  },
  {
   "cell_type": "code",
   "execution_count": 20,
   "id": "af32ccc9",
   "metadata": {},
   "outputs": [
    {
     "data": {
      "text/plain": [
       "0     2373\n",
       "5      462\n",
       "6      446\n",
       "7      432\n",
       "4      409\n",
       "10     403\n",
       "9      399\n",
       "13     385\n",
       "12     381\n",
       "14     376\n",
       "2      375\n",
       "8      370\n",
       "16     363\n",
       "1      357\n",
       "11     353\n",
       "15     339\n",
       "22     334\n",
       "17     332\n",
       "18     328\n",
       "3      324\n",
       "20     324\n",
       "23     321\n",
       "19     312\n",
       "21     311\n",
       "24     277\n",
       "25     224\n",
       "26     213\n",
       "27     182\n",
       "28     128\n",
       "29     100\n",
       "30      71\n",
       "31      50\n",
       "32      25\n",
       "33      23\n",
       "34      15\n",
       "35      14\n",
       "36       4\n",
       "40       2\n",
       "44       2\n",
       "37       2\n",
       "50       1\n",
       "49       1\n",
       "38       1\n",
       "41       1\n",
       "Name: count, dtype: int64"
      ]
     },
     "execution_count": 20,
     "metadata": {},
     "output_type": "execute_result"
    }
   ],
   "source": [
    "pd.Series(gen_bio_words).value_counts()"
   ]
  },
  {
   "cell_type": "code",
   "execution_count": 21,
   "id": "af0a8666",
   "metadata": {},
   "outputs": [
    {
     "data": {
      "text/plain": [
       "<Axes: ylabel='Count'>"
      ]
     },
     "execution_count": 21,
     "metadata": {},
     "output_type": "execute_result"
    },
    {
     "data": {
      "image/png": "[encoded data removed]",
      "text/plain": [
       "<Figure size 640x480 with 1 Axes>"
      ]
     },
     "metadata": {},
     "output_type": "display_data"
    }
   ],
   "source": [
    "sns.histplot(gen_bio_words)"
   ]
  },
  {
   "cell_type": "code",
   "execution_count": 22,
   "id": "84252c1a",
   "metadata": {},
   "outputs": [
    {
     "data": {
      "text/plain": [
       "0     1224\n",
       "6      414\n",
       "4      381\n",
       "5      374\n",
       "7      358\n",
       "8      335\n",
       "3      302\n",
       "9      298\n",
       "2      259\n",
       "11     248\n",
       "10     235\n",
       "13     187\n",
       "12     187\n",
       "1      162\n",
       "14     132\n",
       "15     106\n",
       "17      89\n",
       "16      86\n",
       "19      77\n",
       "18      74\n",
       "21      51\n",
       "20      48\n",
       "25      43\n",
       "22      41\n",
       "23      40\n",
       "24      36\n",
       "27      30\n",
       "26      27\n",
       "28      23\n",
       "29      14\n",
       "31      11\n",
       "30       9\n",
       "34       5\n",
       "32       5\n",
       "33       4\n",
       "38       3\n",
       "35       2\n",
       "36       2\n",
       "46       1\n",
       "71       1\n",
       "37       1\n",
       "45       1\n",
       "50       1\n",
       "47       1\n",
       "59       1\n",
       "Name: count, dtype: int64"
      ]
     },
     "execution_count": 22,
     "metadata": {},
     "output_type": "execute_result"
    }
   ],
   "source": [
    "pd.Series(prop_bio_words).value_counts()"
   ]
  },
  {
   "cell_type": "code",
   "execution_count": 23,
   "id": "7be4ba2d",
   "metadata": {},
   "outputs": [
    {
     "data": {
      "text/plain": [
       "<Axes: ylabel='Count'>"
      ]
     },
     "execution_count": 23,
     "metadata": {},
     "output_type": "execute_result"
    },
    {
     "data": {
      "image/png": "[encoded data removed]",
      "text/plain": [
       "<Figure size 640x480 with 1 Axes>"
      ]
     },
     "metadata": {},
     "output_type": "display_data"
    }
   ],
   "source": [
    "sns.histplot(prop_bio_words)"
   ]
  },
  {
   "cell_type": "markdown",
   "id": "fc69fe42",
   "metadata": {},
   "source": [
    "Conclusion: No difference.\n"
   ]
  },
  {
   "cell_type": "markdown",
   "id": "30489844",
   "metadata": {},
   "source": [
    "### Bio Number of Emojis\n"
   ]
  },
  {
   "cell_type": "code",
   "execution_count": 24,
   "id": "58b0c626",
   "metadata": {},
   "outputs": [],
   "source": [
    "from emoji import emoji_count\n",
    "\n",
    "gen_bio_nem = [\n",
    "    emoji_count(b) if not pd.isna(b) else 0 for b in gen_users.user_profile_description\n",
    "]\n",
    "prop_bio_nem = [\n",
    "    emoji_count(b) if not pd.isna(b) else 0 for b in prop_users.user_profile_description\n",
    "]"
   ]
  },
  {
   "cell_type": "code",
   "execution_count": 25,
   "id": "4b568e91",
   "metadata": {},
   "outputs": [
    {
     "data": {
      "text/plain": [
       "0     10160\n",
       "1      1002\n",
       "2       504\n",
       "3       195\n",
       "4       119\n",
       "5        50\n",
       "6        35\n",
       "7        27\n",
       "8        19\n",
       "9         8\n",
       "10        6\n",
       "13        5\n",
       "11        3\n",
       "15        2\n",
       "12        2\n",
       "16        2\n",
       "33        1\n",
       "35        1\n",
       "19        1\n",
       "22        1\n",
       "24        1\n",
       "14        1\n",
       "Name: count, dtype: int64"
      ]
     },
     "execution_count": 25,
     "metadata": {},
     "output_type": "execute_result"
    }
   ],
   "source": [
    "pd.Series(gen_bio_nem).value_counts()"
   ]
  },
  {
   "cell_type": "code",
   "execution_count": 26,
   "id": "4e6e6cf0",
   "metadata": {},
   "outputs": [
    {
     "data": {
      "text/plain": [
       "<Axes: ylabel='Count'>"
      ]
     },
     "execution_count": 26,
     "metadata": {},
     "output_type": "execute_result"
    },
    {
     "data": {
      "image/png": "[encoded data removed]",
      "text/plain": [
       "<Figure size 640x480 with 1 Axes>"
      ]
     },
     "metadata": {},
     "output_type": "display_data"
    }
   ],
   "source": [
    "sns.histplot(gen_bio_nem)"
   ]
  },
  {
   "cell_type": "code",
   "execution_count": 27,
   "id": "e0a40422",
   "metadata": {},
   "outputs": [
    {
     "data": {
      "text/plain": [
       "0     4798\n",
       "1      692\n",
       "2      269\n",
       "3       92\n",
       "4       39\n",
       "5       16\n",
       "8        6\n",
       "7        5\n",
       "6        4\n",
       "9        3\n",
       "10       2\n",
       "14       1\n",
       "13       1\n",
       "11       1\n",
       "Name: count, dtype: int64"
      ]
     },
     "execution_count": 27,
     "metadata": {},
     "output_type": "execute_result"
    }
   ],
   "source": [
    "pd.Series(prop_bio_nem).value_counts()"
   ]
  },
  {
   "cell_type": "code",
   "execution_count": 28,
   "id": "b4eb6a84",
   "metadata": {},
   "outputs": [
    {
     "data": {
      "text/plain": [
       "<Axes: ylabel='Count'>"
      ]
     },
     "execution_count": 28,
     "metadata": {},
     "output_type": "execute_result"
    },
    {
     "data": {
      "image/png": "[encoded data removed]",
      "text/plain": [
       "<Figure size 640x480 with 1 Axes>"
      ]
     },
     "metadata": {},
     "output_type": "display_data"
    }
   ],
   "source": [
    "sns.histplot(prop_bio_nem)"
   ]
  },
  {
   "cell_type": "markdown",
   "id": "b7ff0c7e",
   "metadata": {},
   "source": [
    "Conclusion: both don't use emojis much in bios.\n"
   ]
  },
  {
   "cell_type": "markdown",
   "id": "b56edf69",
   "metadata": {},
   "source": [
    "### Followers - Following Ratio\n"
   ]
  },
  {
   "cell_type": "code",
   "execution_count": 29,
   "id": "32c4c76e",
   "metadata": {},
   "outputs": [],
   "source": [
    "gen_follow_ratios, prop_follow_ratios = [], []\n",
    "\n",
    "for _, r in gen_users.iterrows():\n",
    "    ratio = r.follower_count / r.following_count if r.following_count != 0 else 0\n",
    "    gen_follow_ratios.append(ratio)\n",
    "\n",
    "for _, r in prop_users.iterrows():\n",
    "    ratio = r.follower_count / r.following_count if r.following_count != 0 else 0\n",
    "    prop_follow_ratios.append(ratio)"
   ]
  },
  {
   "cell_type": "code",
   "execution_count": 30,
   "id": "e553c508",
   "metadata": {},
   "outputs": [
    {
     "data": {
      "text/plain": [
       "0.000000       527\n",
       "0.250000        28\n",
       "1.000000        21\n",
       "0.166667        18\n",
       "0.500000        16\n",
       "              ... \n",
       "1.614286         1\n",
       "15.837995        1\n",
       "5313.718805      1\n",
       "2.587131         1\n",
       "449.500000       1\n",
       "Name: count, Length: 10805, dtype: int64"
      ]
     },
     "execution_count": 30,
     "metadata": {},
     "output_type": "execute_result"
    }
   ],
   "source": [
    "pd.Series(gen_follow_ratios).value_counts()"
   ]
  },
  {
   "cell_type": "code",
   "execution_count": 31,
   "id": "89b15acc",
   "metadata": {},
   "outputs": [
    {
     "data": {
      "text/plain": [
       "261"
      ]
     },
     "execution_count": 31,
     "metadata": {},
     "output_type": "execute_result"
    }
   ],
   "source": [
    "gen_users.following_count.value_counts()[0]"
   ]
  },
  {
   "cell_type": "code",
   "execution_count": 32,
   "id": "9fae6a8c",
   "metadata": {},
   "outputs": [
    {
     "data": {
      "text/plain": [
       "<Axes: ylabel='Count'>"
      ]
     },
     "execution_count": 32,
     "metadata": {},
     "output_type": "execute_result"
    },
    {
     "data": {
      "image/png": "[encoded data removed]",
      "text/plain": [
       "<Figure size 640x480 with 1 Axes>"
      ]
     },
     "metadata": {},
     "output_type": "display_data"
    }
   ],
   "source": [
    "sns.histplot(gen_follow_ratios, bins=np.arange(0, 20, 1))"
   ]
  },
  {
   "cell_type": "code",
   "execution_count": 33,
   "id": "63644212",
   "metadata": {},
   "outputs": [
    {
     "data": {
      "text/plain": [
       "0.000000    218\n",
       "0.250000     25\n",
       "0.500000     23\n",
       "0.090909     20\n",
       "0.066667     20\n",
       "           ... \n",
       "1.061824      1\n",
       "0.829482      1\n",
       "0.910569      1\n",
       "0.371601      1\n",
       "0.680233      1\n",
       "Name: count, Length: 4605, dtype: int64"
      ]
     },
     "execution_count": 33,
     "metadata": {},
     "output_type": "execute_result"
    }
   ],
   "source": [
    "pd.Series(prop_follow_ratios).value_counts()"
   ]
  },
  {
   "cell_type": "code",
   "execution_count": 34,
   "id": "cfda1a31",
   "metadata": {},
   "outputs": [
    {
     "data": {
      "text/plain": [
       "197"
      ]
     },
     "execution_count": 34,
     "metadata": {},
     "output_type": "execute_result"
    }
   ],
   "source": [
    "prop_users.following_count.value_counts()[0]"
   ]
  },
  {
   "cell_type": "code",
   "execution_count": 35,
   "id": "17d5506f",
   "metadata": {},
   "outputs": [
    {
     "data": {
      "text/plain": [
       "<Axes: ylabel='Count'>"
      ]
     },
     "execution_count": 35,
     "metadata": {},
     "output_type": "execute_result"
    },
    {
     "data": {
      "image/png": "[encoded data removed]",
      "text/plain": [
       "<Figure size 640x480 with 1 Axes>"
      ]
     },
     "metadata": {},
     "output_type": "display_data"
    }
   ],
   "source": [
    "sns.histplot(prop_follow_ratios, bins=np.arange(0, 20, 1))"
   ]
  },
  {
   "cell_type": "markdown",
   "id": "254a5a0c",
   "metadata": {},
   "source": [
    "Conclusion: almost no difference.\n"
   ]
  },
  {
   "cell_type": "markdown",
   "id": "74785c44",
   "metadata": {},
   "source": [
    "### Bio words count\n"
   ]
  },
  {
   "cell_type": "code",
   "execution_count": 36,
   "id": "d4d87972",
   "metadata": {},
   "outputs": [],
   "source": [
    "gen_words, prop_words = [], []\n",
    "\n",
    "for _, r in gen_users.iterrows():\n",
    "    if not pd.isna(r.user_profile_description):\n",
    "        gen_words.extend(process_tokenize(r.user_profile_description))\n",
    "\n",
    "for _, r in prop_users.iterrows():\n",
    "    if not pd.isna(r.user_profile_description):\n",
    "        prop_words.extend(process_tokenize(r.user_profile_description))"
   ]
  },
  {
   "cell_type": "code",
   "execution_count": 37,
   "id": "098da595",
   "metadata": {},
   "outputs": [
    {
     "data": {
      "text/plain": [
       ".           2819\n",
       "في          2250\n",
       "|           1731\n",
       "..          1586\n",
       "من          1391\n",
       ",           1156\n",
       "(           1086\n",
       ")           1077\n",
       ":            977\n",
       "-            966\n",
       "of           940\n",
       "و            784\n",
       "،            780\n",
       "الله         776\n",
       "على          749\n",
       "الحساب       740\n",
       "الرسمي       735\n",
       "لا           588\n",
       "the          537\n",
       "السعودية     522\n",
       "and          477\n",
       "عضو          406\n",
       "&            403\n",
       "حساب         396\n",
       "in           380\n",
       "ما           344\n",
       "كل           322\n",
       "رئيس         317\n",
       "...          314\n",
       "The          302\n",
       "!            301\n",
       "عن           297\n",
       "العربية      293\n",
       "السعودي      282\n",
       "كاتب         273\n",
       "Saudi        272\n",
       "for          271\n",
       "``           268\n",
       "مهتم         261\n",
       "اللهم        258\n",
       "''           237\n",
       "مجلس         234\n",
       "أن           231\n",
       "مع           222\n",
       "account      222\n",
       "مصر          218\n",
       "to           216\n",
       "إدارة        212\n",
       "صحيفة        212\n",
       "للتواصل      208\n",
       "Name: count, dtype: int64"
      ]
     },
     "execution_count": 37,
     "metadata": {},
     "output_type": "execute_result"
    }
   ],
   "source": [
    "pd.Series(gen_words).value_counts()[:50]"
   ]
  },
  {
   "cell_type": "code",
   "execution_count": 38,
   "id": "b4fb5486",
   "metadata": {},
   "outputs": [
    {
     "data": {
      "text/plain": [
       ".         872\n",
       "..        845\n",
       "من        740\n",
       "في        602\n",
       "الله      536\n",
       "لا        520\n",
       "،         382\n",
       "!         330\n",
       "و         322\n",
       "على       283\n",
       "ما        277\n",
       ":         267\n",
       "كل        266\n",
       ",         231\n",
       "اللهم     193\n",
       "أن        193\n",
       ")         173\n",
       "⠀         168\n",
       "(         164\n",
       "عن        157\n",
       "لي        154\n",
       "ولا       137\n",
       "...       127\n",
       "-         123\n",
       "ان        109\n",
       "الحياة    106\n",
       "الا       106\n",
       "|         106\n",
       "``        104\n",
       "سبحان     104\n",
       "جامعة      96\n",
       "إلا        95\n",
       "هو         88\n",
       "لم         86\n",
       "''         83\n",
       "لك         83\n",
       "يا         82\n",
       "شيء        81\n",
       "*          76\n",
       "الملك      72\n",
       "⠀⠀         67\n",
       "ثم         67\n",
       "انا        67\n",
       "أنا        66\n",
       "الناس      65\n",
       "حتى        64\n",
       "كنت        64\n",
       "هنا        62\n",
       "إن         59\n",
       "العظيم     58\n",
       "Name: count, dtype: int64"
      ]
     },
     "execution_count": 38,
     "metadata": {},
     "output_type": "execute_result"
    }
   ],
   "source": [
    "pd.Series(prop_words).value_counts()[:50]"
   ]
  },
  {
   "cell_type": "markdown",
   "id": "2dfaefd2",
   "metadata": {},
   "source": [
    "Conclusion: genuine accounts tend to use the following keywords a lot in the bios:\n",
    "`الحساب` - `الرسمي` - `عضو` - `رئيس` - `كاتب` - `إدارة`\n"
   ]
  },
  {
   "cell_type": "markdown",
   "id": "a6a333e6",
   "metadata": {},
   "source": [
    "### Account Creation Year\n"
   ]
  },
  {
   "cell_type": "code",
   "execution_count": 39,
   "id": "aaff4bf6",
   "metadata": {},
   "outputs": [],
   "source": [
    "gen_years = [d.year for d in gen_users.account_creation_date]\n",
    "prop_years = [d.year for d in prop_users.account_creation_date]"
   ]
  },
  {
   "cell_type": "code",
   "execution_count": 40,
   "id": "77ec9bfd",
   "metadata": {},
   "outputs": [
    {
     "data": {
      "text/plain": [
       "2011    2218\n",
       "2012    1801\n",
       "2013    1047\n",
       "2019     941\n",
       "2020     883\n",
       "2018     800\n",
       "2016     766\n",
       "2014     751\n",
       "2017     731\n",
       "2015     614\n",
       "2021     525\n",
       "2010     501\n",
       "2009     353\n",
       "2022     129\n",
       "2008      67\n",
       "2007      15\n",
       "2006       3\n",
       "Name: count, dtype: int64"
      ]
     },
     "execution_count": 40,
     "metadata": {},
     "output_type": "execute_result"
    }
   ],
   "source": [
    "pd.Series(gen_years).value_counts()"
   ]
  },
  {
   "cell_type": "code",
   "execution_count": 41,
   "id": "d64fe88b",
   "metadata": {},
   "outputs": [
    {
     "data": {
      "text/plain": [
       "<Axes: ylabel='Count'>"
      ]
     },
     "execution_count": 41,
     "metadata": {},
     "output_type": "execute_result"
    },
    {
     "data": {
      "image/png": "[encoded data removed]",
      "text/plain": [
       "<Figure size 640x480 with 1 Axes>"
      ]
     },
     "metadata": {},
     "output_type": "display_data"
    }
   ],
   "source": [
    "sns.histplot(gen_years, bins=np.unique(gen_years))"
   ]
  },
  {
   "cell_type": "code",
   "execution_count": 42,
   "id": "bc6a2883",
   "metadata": {},
   "outputs": [
    {
     "data": {
      "text/plain": [
       "2019    1500\n",
       "2018    1175\n",
       "2017    1070\n",
       "2016     456\n",
       "2013     429\n",
       "2014     404\n",
       "2012     398\n",
       "2015     215\n",
       "2011     159\n",
       "2010      70\n",
       "2009      35\n",
       "2008      12\n",
       "2007       6\n",
       "Name: count, dtype: int64"
      ]
     },
     "execution_count": 42,
     "metadata": {},
     "output_type": "execute_result"
    }
   ],
   "source": [
    "pd.Series(prop_years).value_counts()"
   ]
  },
  {
   "cell_type": "code",
   "execution_count": 43,
   "id": "4f3a3adc",
   "metadata": {},
   "outputs": [
    {
     "data": {
      "text/plain": [
       "<Axes: ylabel='Count'>"
      ]
     },
     "execution_count": 43,
     "metadata": {},
     "output_type": "execute_result"
    },
    {
     "data": {
      "image/png": "[encoded data removed]",
      "text/plain": [
       "<Figure size 640x480 with 1 Axes>"
      ]
     },
     "metadata": {},
     "output_type": "display_data"
    }
   ],
   "source": [
    "sns.histplot(prop_years, bins=np.unique(prop_years))"
   ]
  },
  {
   "cell_type": "markdown",
   "id": "762b066f",
   "metadata": {},
   "source": [
    "Conclusion:\n",
    "\n",
    "- most genuine accounts were created in 2011 and 2012.\n",
    "- most propagandist accounts were creaetd in 2018 and 2019.\n"
   ]
  },
  {
   "cell_type": "markdown",
   "id": "25be01ef",
   "metadata": {},
   "source": [
    "### User Location\n"
   ]
  },
  {
   "cell_type": "markdown",
   "id": "020e312d",
   "metadata": {},
   "source": [
    "Is there a location or not?\n"
   ]
  },
  {
   "cell_type": "code",
   "execution_count": 44,
   "id": "586f0a8a",
   "metadata": {},
   "outputs": [
    {
     "data": {
      "text/plain": [
       "user_reported_location\n",
       "False    7871\n",
       "True     4274\n",
       "Name: count, dtype: int64"
      ]
     },
     "execution_count": 44,
     "metadata": {},
     "output_type": "execute_result"
    }
   ],
   "source": [
    "gen_users.user_reported_location.isna().value_counts()"
   ]
  },
  {
   "cell_type": "code",
   "execution_count": 45,
   "id": "3fa5088c",
   "metadata": {},
   "outputs": [
    {
     "data": {
      "text/plain": [
       "user_reported_location\n",
       "False    3426\n",
       "True     2503\n",
       "Name: count, dtype: int64"
      ]
     },
     "execution_count": 45,
     "metadata": {},
     "output_type": "execute_result"
    }
   ],
   "source": [
    "prop_users.user_reported_location.isna().value_counts()"
   ]
  },
  {
   "cell_type": "markdown",
   "id": "048f35d4",
   "metadata": {},
   "source": [
    "Is it a valid location?\n"
   ]
  },
  {
   "cell_type": "code",
   "execution_count": 46,
   "id": "a03f08d0",
   "metadata": {},
   "outputs": [
    {
     "data": {
      "application/vnd.jupyter.widget-view+json": {
       "model_id": "9f20f1e42faa4182a479b1cf5ee35836",
       "version_major": 2,
       "version_minor": 0
      },
      "text/plain": [
       "Downloading https://raw.githubusercontent.com/stanfordnlp/stanza-resources/main/resources_1.5.0.json:   0%|   …"
      ]
     },
     "metadata": {},
     "output_type": "display_data"
    },
    {
     "name": "stderr",
     "output_type": "stream",
     "text": [
      "2023-10-22 18:16:43 INFO: Downloading default packages for language: ar (Arabic) ...\n",
      "2023-10-22 18:16:44 INFO: File exists: C:\\Users\\ehhho\\stanza_resources\\ar\\default.zip\n",
      "2023-10-22 18:16:46 INFO: Finished downloading models and saved to C:\\Users\\ehhho\\stanza_resources.\n"
     ]
    },
    {
     "data": {
      "application/vnd.jupyter.widget-view+json": {
       "model_id": "fbc3e0438d154a9f86d44ae179ac7640",
       "version_major": 2,
       "version_minor": 0
      },
      "text/plain": [
       "Downloading https://raw.githubusercontent.com/stanfordnlp/stanza-resources/main/resources_1.5.0.json:   0%|   …"
      ]
     },
     "metadata": {},
     "output_type": "display_data"
    },
    {
     "name": "stderr",
     "output_type": "stream",
     "text": [
      "2023-10-22 18:16:47 INFO: Downloading default packages for language: en (English) ...\n",
      "2023-10-22 18:16:48 INFO: File exists: C:\\Users\\ehhho\\stanza_resources\\en\\default.zip\n",
      "2023-10-22 18:16:52 INFO: Finished downloading models and saved to C:\\Users\\ehhho\\stanza_resources.\n"
     ]
    }
   ],
   "source": [
    "# donwload language models\n",
    "stanza.download(\"ar\")\n",
    "stanza.download(\"en\")\n",
    "\n",
    "# initialize engines\n",
    "arnlp = stanza.Pipeline(\"ar\", verbose=False, download_method=None)\n",
    "ennlp = stanza.Pipeline(\"en\", verbose=False, download_method=None)"
   ]
  },
  {
   "cell_type": "code",
   "execution_count": 47,
   "id": "e2c7bf12",
   "metadata": {},
   "outputs": [
    {
     "data": {
      "application/vnd.jupyter.widget-view+json": {
       "model_id": "4fec66cc4de545f4aa6fa9b1f2f98a47",
       "version_major": 2,
       "version_minor": 0
      },
      "text/plain": [
       "  0%|          | 0/12145 [00:00<?, ?it/s]"
      ]
     },
     "metadata": {},
     "output_type": "display_data"
    },
    {
     "data": {
      "application/vnd.jupyter.widget-view+json": {
       "model_id": "5df524bc1f1c4ca38164847eac650d8c",
       "version_major": 2,
       "version_minor": 0
      },
      "text/plain": [
       "  0%|          | 0/5929 [00:00<?, ?it/s]"
      ]
     },
     "metadata": {},
     "output_type": "display_data"
    }
   ],
   "source": [
    "gen_loc_status, prop_loc_status = [], []\n",
    "\n",
    "for _, r in tqdm(gen_users.iterrows(), total=len(gen_users)):\n",
    "    if pd.isna(r.user_reported_location):\n",
    "        gen_loc_status.append(False)\n",
    "        continue\n",
    "    ents = [e in [\"GPE\", \"LOC\"] for e in arnlp(r.user_reported_location).entities]\n",
    "    ents += [e in [\"GPE\", \"LOC\"] for e in ennlp(r.user_reported_location).entities]\n",
    "    gen_loc_status.append(bool(ents))\n",
    "\n",
    "for _, r in tqdm(prop_users.iterrows(), total=len(prop_users)):\n",
    "    if pd.isna(r.user_reported_location):\n",
    "        prop_loc_status.append(False)\n",
    "        continue\n",
    "    ents = [e in [\"GPE\", \"LOC\"] for e in arnlp(r.user_reported_location).entities]\n",
    "    ents += [e in [\"GPE\", \"LOC\"] for e in ennlp(r.user_reported_location).entities]\n",
    "    prop_loc_status.append(bool(ents))"
   ]
  },
  {
   "cell_type": "code",
   "execution_count": 48,
   "id": "f862fb13",
   "metadata": {},
   "outputs": [
    {
     "data": {
      "text/plain": [
       "True     7113\n",
       "False    5032\n",
       "Name: count, dtype: int64"
      ]
     },
     "execution_count": 48,
     "metadata": {},
     "output_type": "execute_result"
    }
   ],
   "source": [
    "pd.Series(gen_loc_status).value_counts()"
   ]
  },
  {
   "cell_type": "code",
   "execution_count": 49,
   "id": "97c293d5",
   "metadata": {},
   "outputs": [
    {
     "data": {
      "text/plain": [
       "True     3131\n",
       "False    2798\n",
       "Name: count, dtype: int64"
      ]
     },
     "execution_count": 49,
     "metadata": {},
     "output_type": "execute_result"
    }
   ],
   "source": [
    "pd.Series(prop_loc_status).value_counts()"
   ]
  },
  {
   "cell_type": "markdown",
   "id": "b2c6e7c6",
   "metadata": {},
   "source": [
    "Conclusion: No difference.\n"
   ]
  },
  {
   "cell_type": "markdown",
   "id": "b4561810",
   "metadata": {},
   "source": [
    "### Conclusion\n",
    "\n",
    "- Propagandist users accounts were created in `2018` and `2019`.\n",
    "- Genuine users accounts were created in `2011` and `2012`.\n",
    "- Genuine users use the words `الحساب` and `الرسمي` and others mentioned above in their bios.\n"
   ]
  }
 ],
 "metadata": {
  "kernelspec": {
   "display_name": "Python 3 (ipykernel)",
   "language": "python",
   "name": "python3"
  },
  "language_info": {
   "codemirror_mode": {
    "name": "ipython",
    "version": 3
   },
   "file_extension": ".py",
   "mimetype": "text/x-python",
   "name": "python",
   "nbconvert_exporter": "python",
   "pygments_lexer": "ipython3",
   "version": "3.8.18"
  }
 },
 "nbformat": 4,
 "nbformat_minor": 5
}
