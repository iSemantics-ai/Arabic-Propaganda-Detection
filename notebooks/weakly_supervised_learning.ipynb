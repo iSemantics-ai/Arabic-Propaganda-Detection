{
 "cells": [
  {
   "cell_type": "markdown",
   "id": "5ef1e451",
   "metadata": {
    "id": "5ef1e451"
   },
   "source": [
    "# Weakly Supervised Learning\n"
   ]
  },
  {
   "cell_type": "markdown",
   "id": "016ae280",
   "metadata": {
    "id": "016ae280"
   },
   "source": [
    "## Setup\n"
   ]
  },
  {
   "cell_type": "code",
   "execution_count": 1,
   "id": "vrMYOXNT1fm2",
   "metadata": {
    "colab": {
     "base_uri": "https://localhost:8080/"
    },
    "executionInfo": {
     "elapsed": 8,
     "status": "ok",
     "timestamp": 1692711542703,
     "user": {
      "displayName": "Hossam Mostafa",
      "userId": "17081656889446114550"
     },
     "user_tz": -180
    },
    "id": "vrMYOXNT1fm2",
    "outputId": "80b12d80-f5d0-47b7-c0b4-e4c1a6252173"
   },
   "outputs": [
    {
     "name": "stdout",
     "output_type": "stream",
     "text": [
      "Wed Sep 20 12:49:02 2023       \n",
      "+-----------------------------------------------------------------------------+\n",
      "| NVIDIA-SMI 525.116.04   Driver Version: 525.116.04   CUDA Version: 12.0     |\n",
      "|-------------------------------+----------------------+----------------------+\n",
      "| GPU  Name        Persistence-M| Bus-Id        Disp.A | Volatile Uncorr. ECC |\n",
      "| Fan  Temp  Perf  Pwr:Usage/Cap|         Memory-Usage | GPU-Util  Compute M. |\n",
      "|                               |                      |               MIG M. |\n",
      "|===============================+======================+======================|\n",
      "|   0  Quadro P5000        Off  | 00000000:00:05.0 Off |                  Off |\n",
      "| 27%   39C    P5     8W / 180W |      2MiB / 16384MiB |      0%      Default |\n",
      "|                               |                      |                  N/A |\n",
      "+-------------------------------+----------------------+----------------------+\n",
      "                                                                               \n",
      "+-----------------------------------------------------------------------------+\n",
      "| Processes:                                                                  |\n",
      "|  GPU   GI   CI        PID   Type   Process name                  GPU Memory |\n",
      "|        ID   ID                                                   Usage      |\n",
      "|=============================================================================|\n",
      "|  No running processes found                                                 |\n",
      "+-----------------------------------------------------------------------------+\n"
     ]
    }
   ],
   "source": [
    "!nvidia-smi"
   ]
  },
  {
   "cell_type": "code",
   "execution_count": 2,
   "id": "e405de63",
   "metadata": {
    "executionInfo": {
     "elapsed": 2339,
     "status": "ok",
     "timestamp": 1692711545039,
     "user": {
      "displayName": "Hossam Mostafa",
      "userId": "17081656889446114550"
     },
     "user_tz": -180
    },
    "id": "e405de63"
   },
   "outputs": [],
   "source": [
    "import re\n",
    "import pandas as pd\n",
    "import numpy as np\n",
    "import seaborn as sns\n",
    "import matplotlib.pyplot as plt\n",
    "\n",
    "sns.set()\n",
    "%matplotlib inline"
   ]
  },
  {
   "cell_type": "code",
   "execution_count": 3,
   "id": "7228d171",
   "metadata": {
    "executionInfo": {
     "elapsed": 3,
     "status": "ok",
     "timestamp": 1692711545039,
     "user": {
      "displayName": "Hossam Mostafa",
      "userId": "17081656889446114550"
     },
     "user_tz": -180
    },
    "id": "7228d171"
   },
   "outputs": [],
   "source": [
    "pd.set_option(\"display.max_colwidth\", None)"
   ]
  },
  {
   "cell_type": "markdown",
   "id": "790a1689",
   "metadata": {
    "id": "790a1689"
   },
   "source": [
    "## Data Preprocessing\n"
   ]
  },
  {
   "cell_type": "code",
   "execution_count": 4,
   "id": "ccfbfde3",
   "metadata": {
    "colab": {
     "base_uri": "https://localhost:8080/",
     "height": 206
    },
    "executionInfo": {
     "elapsed": 1451,
     "status": "ok",
     "timestamp": 1692711546487,
     "user": {
      "displayName": "Hossam Mostafa",
      "userId": "17081656889446114550"
     },
     "user_tz": -180
    },
    "id": "ccfbfde3",
    "outputId": "df8f6f80-ae18-4391-ea54-f1c55716aa9b"
   },
   "outputs": [
    {
     "data": {
      "text/html": [
       "<div>\n",
       "<style scoped>\n",
       "    .dataframe tbody tr th:only-of-type {\n",
       "        vertical-align: middle;\n",
       "    }\n",
       "\n",
       "    .dataframe tbody tr th {\n",
       "        vertical-align: top;\n",
       "    }\n",
       "\n",
       "    .dataframe thead th {\n",
       "        text-align: right;\n",
       "    }\n",
       "</style>\n",
       "<table border=\"1\" class=\"dataframe\">\n",
       "  <thead>\n",
       "    <tr style=\"text-align: right;\">\n",
       "      <th></th>\n",
       "      <th>text</th>\n",
       "      <th>label</th>\n",
       "    </tr>\n",
       "  </thead>\n",
       "  <tbody>\n",
       "    <tr>\n",
       "      <th>0</th>\n",
       "      <td>«النيابة» تقدم 110 أدلة ضد 12 متهما في«خلية» فساد وظيفي عكاظ</td>\n",
       "      <td>0</td>\n",
       "    </tr>\n",
       "    <tr>\n",
       "      <th>1</th>\n",
       "      <td>تكدس مرورى أعلى كوبرى أكتوبر من مدينة نصر للمهندسين</td>\n",
       "      <td>1</td>\n",
       "    </tr>\n",
       "    <tr>\n",
       "      <th>2</th>\n",
       "      <td>RT : اذا ضفت احد جديد بسناب ودي اقوله لو سمحت عادي اوريك كل الصور والفيديوات الحلوه اللي طافتك؟؟؟</td>\n",
       "      <td>0</td>\n",
       "    </tr>\n",
       "    <tr>\n",
       "      <th>3</th>\n",
       "      <td>RT : تقبل الله الدعاء وصالح الأعمال يوم عرفه</td>\n",
       "      <td>0</td>\n",
       "    </tr>\n",
       "    <tr>\n",
       "      <th>4</th>\n",
       "      <td>RT : كشف تسربات المياه حل ارتفاع فتوره المياه عزل اسطح مبلطه وغير مبلطه عزل حمامات عزل خزانات المياه عزل اسطح رش مبيد…</td>\n",
       "      <td>0</td>\n",
       "    </tr>\n",
       "  </tbody>\n",
       "</table>\n",
       "</div>"
      ],
      "text/plain": [
       "                                                                                                                     text  \\\n",
       "0                                                            «النيابة» تقدم 110 أدلة ضد 12 متهما في«خلية» فساد وظيفي عكاظ   \n",
       "1                                                                     تكدس مرورى أعلى كوبرى أكتوبر من مدينة نصر للمهندسين   \n",
       "2                       RT : اذا ضفت احد جديد بسناب ودي اقوله لو سمحت عادي اوريك كل الصور والفيديوات الحلوه اللي طافتك؟؟؟   \n",
       "3                                                                            RT : تقبل الله الدعاء وصالح الأعمال يوم عرفه   \n",
       "4  RT : كشف تسربات المياه حل ارتفاع فتوره المياه عزل اسطح مبلطه وغير مبلطه عزل حمامات عزل خزانات المياه عزل اسطح رش مبيد…   \n",
       "\n",
       "   label  \n",
       "0      0  \n",
       "1      1  \n",
       "2      0  \n",
       "3      0  \n",
       "4      0  "
      ]
     },
     "execution_count": 4,
     "metadata": {},
     "output_type": "execute_result"
    }
   ],
   "source": [
    "train = pd.read_json(\"../data/processed/train.json\").drop(columns=['tweetid'])\n",
    "train.head()"
   ]
  },
  {
   "cell_type": "code",
   "execution_count": 5,
   "id": "0b049f83",
   "metadata": {
    "colab": {
     "base_uri": "https://localhost:8080/"
    },
    "executionInfo": {
     "elapsed": 10,
     "status": "ok",
     "timestamp": 1692711546487,
     "user": {
      "displayName": "Hossam Mostafa",
      "userId": "17081656889446114550"
     },
     "user_tz": -180
    },
    "id": "0b049f83",
    "outputId": "c9c6e6df-9dc1-4f49-b2e0-f26c6b3fda09"
   },
   "outputs": [
    {
     "name": "stdout",
     "output_type": "stream",
     "text": [
      "<class 'pandas.core.frame.DataFrame'>\n",
      "Int64Index: 193813 entries, 0 to 196105\n",
      "Data columns (total 2 columns):\n",
      " #   Column  Non-Null Count   Dtype \n",
      "---  ------  --------------   ----- \n",
      " 0   text    193813 non-null  object\n",
      " 1   label   193813 non-null  int64 \n",
      "dtypes: int64(1), object(1)\n",
      "memory usage: 4.4+ MB\n"
     ]
    }
   ],
   "source": [
    "train.info()"
   ]
  },
  {
   "cell_type": "code",
   "execution_count": 6,
   "id": "5c39a57d",
   "metadata": {
    "colab": {
     "base_uri": "https://localhost:8080/"
    },
    "executionInfo": {
     "elapsed": 9,
     "status": "ok",
     "timestamp": 1692711546488,
     "user": {
      "displayName": "Hossam Mostafa",
      "userId": "17081656889446114550"
     },
     "user_tz": -180
    },
    "id": "5c39a57d",
    "outputId": "eb93517a-bb48-43b0-bebe-e98076e8c1f9"
   },
   "outputs": [
    {
     "data": {
      "text/plain": [
       "0    0.628993\n",
       "1    0.371007\n",
       "Name: label, dtype: float64"
      ]
     },
     "execution_count": 6,
     "metadata": {},
     "output_type": "execute_result"
    }
   ],
   "source": [
    "train.label.value_counts(normalize=True)"
   ]
  },
  {
   "cell_type": "code",
   "execution_count": 7,
   "id": "65b1429f",
   "metadata": {
    "colab": {
     "base_uri": "https://localhost:8080/",
     "height": 206
    },
    "executionInfo": {
     "elapsed": 8,
     "status": "ok",
     "timestamp": 1692711546488,
     "user": {
      "displayName": "Hossam Mostafa",
      "userId": "17081656889446114550"
     },
     "user_tz": -180
    },
    "id": "65b1429f",
    "outputId": "bc9f0def-091e-4fdd-921c-ceae7c92e006"
   },
   "outputs": [
    {
     "data": {
      "text/html": [
       "<div>\n",
       "<style scoped>\n",
       "    .dataframe tbody tr th:only-of-type {\n",
       "        vertical-align: middle;\n",
       "    }\n",
       "\n",
       "    .dataframe tbody tr th {\n",
       "        vertical-align: top;\n",
       "    }\n",
       "\n",
       "    .dataframe thead th {\n",
       "        text-align: right;\n",
       "    }\n",
       "</style>\n",
       "<table border=\"1\" class=\"dataframe\">\n",
       "  <thead>\n",
       "    <tr style=\"text-align: right;\">\n",
       "      <th></th>\n",
       "      <th>text</th>\n",
       "      <th>label</th>\n",
       "    </tr>\n",
       "  </thead>\n",
       "  <tbody>\n",
       "    <tr>\n",
       "      <th>0</th>\n",
       "      <td>شاركوا معنا .. في ساعة الأرض الليلة ساعة واحد فقط ( ٨:٣٠ - ٩:٣٠ ) مساهمة في التوعية بتوفير استهلاك الطاقة التدريب التقني نجران نجران الان المسؤولية الإجتماعية نطفىء الأضواء .. ليضيء الكوكب</td>\n",
       "      <td>0</td>\n",
       "    </tr>\n",
       "    <tr>\n",
       "      <th>1</th>\n",
       "      <td>RT : اللهم طهر قلوبنا من كل ضيق ويسر أمورنا في كل طريق مساء الخير</td>\n",
       "      <td>0</td>\n",
       "    </tr>\n",
       "    <tr>\n",
       "      <th>2</th>\n",
       "      <td>- 97 يوم . .</td>\n",
       "      <td>0</td>\n",
       "    </tr>\n",
       "    <tr>\n",
       "      <th>3</th>\n",
       "      <td>RT : ”اشتقت بصمت أتألم لأكن الله لطيف بـ القلوب عشق الزعامه للدعم قروب عشقي الزعيم قروب شقردي جنوبي</td>\n",
       "      <td>0</td>\n",
       "    </tr>\n",
       "    <tr>\n",
       "      <th>4</th>\n",
       "      <td>قالﷺ: (من كانت الآخرة همـــه جعل الله غناه في قلبـه وجمـع لـه شملــــه وأتته الدنيا وهي راغمة) صحيح الجامع ٦٥١٠</td>\n",
       "      <td>0</td>\n",
       "    </tr>\n",
       "  </tbody>\n",
       "</table>\n",
       "</div>"
      ],
      "text/plain": [
       "                                                                                                                                                                                           text  \\\n",
       "0  شاركوا معنا .. في ساعة الأرض الليلة ساعة واحد فقط ( ٨:٣٠ - ٩:٣٠ ) مساهمة في التوعية بتوفير استهلاك الطاقة التدريب التقني نجران نجران الان المسؤولية الإجتماعية نطفىء الأضواء .. ليضيء الكوكب   \n",
       "1                                                                                                                             RT : اللهم طهر قلوبنا من كل ضيق ويسر أمورنا في كل طريق مساء الخير   \n",
       "2                                                                                                                                                                                  - 97 يوم . .   \n",
       "3                                                                                           RT : ”اشتقت بصمت أتألم لأكن الله لطيف بـ القلوب عشق الزعامه للدعم قروب عشقي الزعيم قروب شقردي جنوبي   \n",
       "4                                                                               قالﷺ: (من كانت الآخرة همـــه جعل الله غناه في قلبـه وجمـع لـه شملــــه وأتته الدنيا وهي راغمة) صحيح الجامع ٦٥١٠   \n",
       "\n",
       "   label  \n",
       "0      0  \n",
       "1      0  \n",
       "2      0  \n",
       "3      0  \n",
       "4      0  "
      ]
     },
     "execution_count": 7,
     "metadata": {},
     "output_type": "execute_result"
    }
   ],
   "source": [
    "test = pd.read_json(\"../data/processed/test_gold.json\")[[\"text\", \"label\"]]\n",
    "test.head()"
   ]
  },
  {
   "cell_type": "code",
   "execution_count": 8,
   "id": "7f54c9be",
   "metadata": {
    "colab": {
     "base_uri": "https://localhost:8080/"
    },
    "executionInfo": {
     "elapsed": 7,
     "status": "ok",
     "timestamp": 1692711546488,
     "user": {
      "displayName": "Hossam Mostafa",
      "userId": "17081656889446114550"
     },
     "user_tz": -180
    },
    "id": "7f54c9be",
    "outputId": "ecf5a035-444e-44d6-f352-c316fd9fd974"
   },
   "outputs": [
    {
     "name": "stdout",
     "output_type": "stream",
     "text": [
      "<class 'pandas.core.frame.DataFrame'>\n",
      "Int64Index: 420 entries, 0 to 419\n",
      "Data columns (total 2 columns):\n",
      " #   Column  Non-Null Count  Dtype \n",
      "---  ------  --------------  ----- \n",
      " 0   text    420 non-null    object\n",
      " 1   label   420 non-null    int64 \n",
      "dtypes: int64(1), object(1)\n",
      "memory usage: 9.8+ KB\n"
     ]
    }
   ],
   "source": [
    "test.info()"
   ]
  },
  {
   "cell_type": "code",
   "execution_count": 9,
   "id": "9de8f20e",
   "metadata": {
    "colab": {
     "base_uri": "https://localhost:8080/"
    },
    "executionInfo": {
     "elapsed": 6,
     "status": "ok",
     "timestamp": 1692711546488,
     "user": {
      "displayName": "Hossam Mostafa",
      "userId": "17081656889446114550"
     },
     "user_tz": -180
    },
    "id": "9de8f20e",
    "outputId": "17056f9e-190d-4835-c5d7-8e9b8edcf9ff"
   },
   "outputs": [
    {
     "data": {
      "text/plain": [
       "0    380\n",
       "1     40\n",
       "Name: label, dtype: int64"
      ]
     },
     "execution_count": 9,
     "metadata": {},
     "output_type": "execute_result"
    }
   ],
   "source": [
    "test.label.value_counts()"
   ]
  },
  {
   "cell_type": "code",
   "execution_count": 10,
   "id": "a7ab41be",
   "metadata": {
    "executionInfo": {
     "elapsed": 6,
     "status": "ok",
     "timestamp": 1692711546489,
     "user": {
      "displayName": "Hossam Mostafa",
      "userId": "17081656889446114550"
     },
     "user_tz": -180
    },
    "id": "a7ab41be"
   },
   "outputs": [],
   "source": [
    "from sklearn.model_selection import train_test_split"
   ]
  },
  {
   "cell_type": "code",
   "execution_count": 11,
   "id": "78ed417c",
   "metadata": {
    "executionInfo": {
     "elapsed": 723,
     "status": "ok",
     "timestamp": 1692711547207,
     "user": {
      "displayName": "Hossam Mostafa",
      "userId": "17081656889446114550"
     },
     "user_tz": -180
    },
    "id": "78ed417c"
   },
   "outputs": [],
   "source": [
    "train_df, valid_df = train_test_split(train, stratify=train.label.to_list())\n",
    "train_df = train_df.reset_index(drop=True)\n",
    "valid_df = valid_df.reset_index(drop=True)"
   ]
  },
  {
   "cell_type": "code",
   "execution_count": 12,
   "id": "30ff0ab1",
   "metadata": {
    "colab": {
     "base_uri": "https://localhost:8080/"
    },
    "executionInfo": {
     "elapsed": 6,
     "status": "ok",
     "timestamp": 1692711547207,
     "user": {
      "displayName": "Hossam Mostafa",
      "userId": "17081656889446114550"
     },
     "user_tz": -180
    },
    "id": "30ff0ab1",
    "outputId": "5469100f-8bc2-4b4a-cb25-352a312e0534"
   },
   "outputs": [
    {
     "data": {
      "text/plain": [
       "0    0.628994\n",
       "1    0.371006\n",
       "Name: label, dtype: float64"
      ]
     },
     "execution_count": 12,
     "metadata": {},
     "output_type": "execute_result"
    }
   ],
   "source": [
    "train_df.label.value_counts(normalize=True)"
   ]
  },
  {
   "cell_type": "code",
   "execution_count": 13,
   "id": "2e468589",
   "metadata": {
    "colab": {
     "base_uri": "https://localhost:8080/"
    },
    "executionInfo": {
     "elapsed": 5,
     "status": "ok",
     "timestamp": 1692711547207,
     "user": {
      "displayName": "Hossam Mostafa",
      "userId": "17081656889446114550"
     },
     "user_tz": -180
    },
    "id": "2e468589",
    "outputId": "8a604aa0-b3d9-4d47-d513-6058f433ee1d"
   },
   "outputs": [
    {
     "data": {
      "text/plain": [
       "0    0.628988\n",
       "1    0.371012\n",
       "Name: label, dtype: float64"
      ]
     },
     "execution_count": 13,
     "metadata": {},
     "output_type": "execute_result"
    }
   ],
   "source": [
    "valid_df.label.value_counts(normalize=True)"
   ]
  },
  {
   "cell_type": "code",
   "execution_count": 14,
   "id": "8c3a2343",
   "metadata": {
    "colab": {
     "base_uri": "https://localhost:8080/"
    },
    "executionInfo": {
     "elapsed": 4,
     "status": "ok",
     "timestamp": 1692711547208,
     "user": {
      "displayName": "Hossam Mostafa",
      "userId": "17081656889446114550"
     },
     "user_tz": -180
    },
    "id": "8c3a2343",
    "outputId": "56d384be-3dd5-4461-85a1-48b5dacda289"
   },
   "outputs": [
    {
     "data": {
      "text/plain": [
       "0    0.904762\n",
       "1    0.095238\n",
       "Name: label, dtype: float64"
      ]
     },
     "execution_count": 14,
     "metadata": {},
     "output_type": "execute_result"
    }
   ],
   "source": [
    "test.label.value_counts(normalize=True)"
   ]
  },
  {
   "cell_type": "code",
   "execution_count": 15,
   "id": "957fe88b-4fef-4f84-a01c-f4ce89fc7ffa",
   "metadata": {},
   "outputs": [
    {
     "data": {
      "text/plain": [
       "0    0.904\n",
       "1    0.096\n",
       "Name: label, dtype: float64"
      ]
     },
     "execution_count": 15,
     "metadata": {},
     "output_type": "execute_result"
    }
   ],
   "source": [
    "lf_dev = pd.read_json(\"../data/processed/lf_dev.json\")[[\"text\", \"label\"]]\n",
    "lf_dev.label.value_counts(normalize=True)"
   ]
  },
  {
   "cell_type": "code",
   "execution_count": 16,
   "id": "8c87ae64-a019-4388-aeb9-014f01e9e7eb",
   "metadata": {},
   "outputs": [],
   "source": [
    "lf_dev = lf_dev.reset_index(drop=True)\n",
    "test = test.reset_index(drop=True)"
   ]
  },
  {
   "cell_type": "markdown",
   "id": "a40738a9",
   "metadata": {
    "id": "a40738a9"
   },
   "source": [
    "## Tokenization\n"
   ]
  },
  {
   "cell_type": "code",
   "execution_count": 17,
   "id": "fb6a1249",
   "metadata": {
    "executionInfo": {
     "elapsed": 595,
     "status": "ok",
     "timestamp": 1692711547800,
     "user": {
      "displayName": "Hossam Mostafa",
      "userId": "17081656889446114550"
     },
     "user_tz": -180
    },
    "id": "fb6a1249"
   },
   "outputs": [],
   "source": [
    "from transformers import AutoTokenizer\n",
    "\n",
    "tokenizer = AutoTokenizer.from_pretrained('aubmindlab/bert-base-arabertv02-twitter')"
   ]
  },
  {
   "cell_type": "code",
   "execution_count": 18,
   "id": "b5e2bd7e",
   "metadata": {
    "colab": {
     "base_uri": "https://localhost:8080/"
    },
    "executionInfo": {
     "elapsed": 467,
     "status": "ok",
     "timestamp": 1692711548266,
     "user": {
      "displayName": "Hossam Mostafa",
      "userId": "17081656889446114550"
     },
     "user_tz": -180
    },
    "id": "b5e2bd7e",
    "outputId": "7dbf130c-993c-4232-dd8d-350283131782"
   },
   "outputs": [
    {
     "data": {
      "text/plain": [
       "DatasetDict({\n",
       "    train: Dataset({\n",
       "        features: ['text', 'label'],\n",
       "        num_rows: 145359\n",
       "    })\n",
       "    validation: Dataset({\n",
       "        features: ['text', 'label'],\n",
       "        num_rows: 48454\n",
       "    })\n",
       "    lf_development: Dataset({\n",
       "        features: ['text', 'label'],\n",
       "        num_rows: 500\n",
       "    })\n",
       "    test: Dataset({\n",
       "        features: ['text', 'label'],\n",
       "        num_rows: 420\n",
       "    })\n",
       "})"
      ]
     },
     "execution_count": 18,
     "metadata": {},
     "output_type": "execute_result"
    }
   ],
   "source": [
    "# transformimg from pandas to hugging face datasets\n",
    "\n",
    "from datasets import Dataset, DatasetDict\n",
    "\n",
    "train_ds = Dataset.from_pandas(train_df, split=\"train\")\n",
    "valid_ds = Dataset.from_pandas(valid_df, split=\"validation\")\n",
    "lf_dev_ds = Dataset.from_pandas(lf_dev, split=\"lf_development\")\n",
    "test_ds = Dataset.from_pandas(test, split=\"test\")\n",
    "\n",
    "ds = DatasetDict({\"train\": train_ds, \"validation\": valid_ds,\n",
    "                  \"lf_development\": lf_dev_ds, \"test\": test_ds})\n",
    "ds"
   ]
  },
  {
   "cell_type": "code",
   "execution_count": 19,
   "id": "8c55126e",
   "metadata": {
    "executionInfo": {
     "elapsed": 5,
     "status": "ok",
     "timestamp": 1692711548266,
     "user": {
      "displayName": "Hossam Mostafa",
      "userId": "17081656889446114550"
     },
     "user_tz": -180
    },
    "id": "8c55126e"
   },
   "outputs": [],
   "source": [
    "def tokenize_ds(field):\n",
    "    \"\"\"Tokenize examples from dataset.\"\"\"\n",
    "    return tokenizer(\n",
    "        field[\"text\"],\n",
    "        truncation=True,\n",
    "    )"
   ]
  },
  {
   "cell_type": "code",
   "execution_count": 20,
   "id": "b11a8574",
   "metadata": {
    "colab": {
     "base_uri": "https://localhost:8080/",
     "height": 113,
     "referenced_widgets": [
      "c1b66a2d5180403eb5945fec1c2b2524",
      "6c9963d0dec243af94a45fc51236b0fb",
      "35af331afc2645cbbfe783db09cc3e9f",
      "82260a5097ec42899a45c9db0a1354a9",
      "0fe8fe5d706f4643b269f2245a314584",
      "9e4ccd8cd4664d8abaf7481cdbe81076",
      "b2cd18fafd074b309011a468f021d17f",
      "709dc54fa8574dd9933c58454489a091",
      "413fbdbc09e9499f972acc8b7d8bb0d9",
      "e121cea982a6483795c32de8ef5727c8",
      "6b4a1b2244474197bf8975d349baeb6f",
      "0ce18af48fc2472aab7b6f322f6e63f8",
      "0ad659922273442a9b54fc788df75896",
      "f6f47d5a78f84e818414e7025574099a",
      "f0d7101f48a74088ab3daf179b21f14f",
      "17830377c33c4f39894ab90371c5f697",
      "f13d53c688ef429b88708fb6d6b114bc",
      "fc79bf1affe9476ba60f1902a8368865",
      "f8a1a34ee6bb46c3b8f189d5aa1c1069",
      "5c8246d3723a47ac9d3cc297a67d62d5",
      "945c9331f5ba4bdf93175f32d06d6b93",
      "1f80249258514c5086b312080678687e",
      "0dc1b0a0dca0414cbca71d33fdf278ca",
      "7551fcad447d471189d7c8bd2f54da26",
      "c8ff0f62c9544bbfa5849a3cc24bd84c",
      "e5add923fcc848d58a996abdbe85ffda",
      "9382e05c63d94d4782fb81e287007252",
      "88dce9a9322e41a49e4610d0403ba629",
      "4d0a2937383443308eb9a3464121ee78",
      "e736d220b46a4f88b9642926c6c37ed6",
      "17fb4df5af5f4dbc96ee79b9d2024f87",
      "e26c531a7923436e9a433fe9d7a7c788",
      "9bf591f2d1594ddf9df27c25a5787281"
     ]
    },
    "executionInfo": {
     "elapsed": 50718,
     "status": "ok",
     "timestamp": 1692711598980,
     "user": {
      "displayName": "Hossam Mostafa",
      "userId": "17081656889446114550"
     },
     "user_tz": -180
    },
    "id": "b11a8574",
    "outputId": "4fa24d86-931a-400b-e095-aaa1a45faf69"
   },
   "outputs": [
    {
     "data": {
      "application/vnd.jupyter.widget-view+json": {
       "model_id": "46b6549e029e427fbb4ad1a4bc0964a9",
       "version_major": 2,
       "version_minor": 0
      },
      "text/plain": [
       "  0%|          | 0/146 [00:00<?, ?ba/s]"
      ]
     },
     "metadata": {},
     "output_type": "display_data"
    },
    {
     "data": {
      "application/vnd.jupyter.widget-view+json": {
       "model_id": "7ff8d85342c94078be63f90da435cd80",
       "version_major": 2,
       "version_minor": 0
      },
      "text/plain": [
       "  0%|          | 0/49 [00:00<?, ?ba/s]"
      ]
     },
     "metadata": {},
     "output_type": "display_data"
    },
    {
     "data": {
      "application/vnd.jupyter.widget-view+json": {
       "model_id": "2a5f35b164924bc982b5191191330f36",
       "version_major": 2,
       "version_minor": 0
      },
      "text/plain": [
       "  0%|          | 0/1 [00:00<?, ?ba/s]"
      ]
     },
     "metadata": {},
     "output_type": "display_data"
    },
    {
     "data": {
      "application/vnd.jupyter.widget-view+json": {
       "model_id": "ff21a07e143c48849c06347119c49a64",
       "version_major": 2,
       "version_minor": 0
      },
      "text/plain": [
       "  0%|          | 0/1 [00:00<?, ?ba/s]"
      ]
     },
     "metadata": {},
     "output_type": "display_data"
    }
   ],
   "source": [
    "ds_encoded = ds.map(tokenize_ds, batched=True)"
   ]
  },
  {
   "cell_type": "code",
   "execution_count": 21,
   "id": "93d39d9b",
   "metadata": {
    "colab": {
     "base_uri": "https://localhost:8080/"
    },
    "executionInfo": {
     "elapsed": 12,
     "status": "ok",
     "timestamp": 1692711598981,
     "user": {
      "displayName": "Hossam Mostafa",
      "userId": "17081656889446114550"
     },
     "user_tz": -180
    },
    "id": "93d39d9b",
    "outputId": "2b8e312f-e0a3-4b06-9fa2-eca0a2e7562d"
   },
   "outputs": [
    {
     "data": {
      "text/plain": [
       "DatasetDict({\n",
       "    train: Dataset({\n",
       "        features: ['text', 'label', 'input_ids', 'token_type_ids', 'attention_mask'],\n",
       "        num_rows: 145359\n",
       "    })\n",
       "    validation: Dataset({\n",
       "        features: ['text', 'label', 'input_ids', 'token_type_ids', 'attention_mask'],\n",
       "        num_rows: 48454\n",
       "    })\n",
       "    lf_development: Dataset({\n",
       "        features: ['text', 'label', 'input_ids', 'token_type_ids', 'attention_mask'],\n",
       "        num_rows: 500\n",
       "    })\n",
       "    test: Dataset({\n",
       "        features: ['text', 'label', 'input_ids', 'token_type_ids', 'attention_mask'],\n",
       "        num_rows: 420\n",
       "    })\n",
       "})"
      ]
     },
     "execution_count": 21,
     "metadata": {},
     "output_type": "execute_result"
    }
   ],
   "source": [
    "ds_encoded"
   ]
  },
  {
   "cell_type": "markdown",
   "id": "4c0ecf71",
   "metadata": {
    "id": "4c0ecf71"
   },
   "source": [
    "## Modeling\n"
   ]
  },
  {
   "cell_type": "markdown",
   "id": "70629486",
   "metadata": {
    "id": "70629486"
   },
   "source": [
    "### Setup\n"
   ]
  },
  {
   "cell_type": "code",
   "execution_count": 22,
   "id": "5da54a0e",
   "metadata": {
    "executionInfo": {
     "elapsed": 10,
     "status": "ok",
     "timestamp": 1692711598981,
     "user": {
      "displayName": "Hossam Mostafa",
      "userId": "17081656889446114550"
     },
     "user_tz": -180
    },
    "id": "5da54a0e"
   },
   "outputs": [],
   "source": [
    "from sklearn.metrics import accuracy_score, f1_score, precision_score, recall_score"
   ]
  },
  {
   "cell_type": "code",
   "execution_count": 23,
   "id": "f3c350c2",
   "metadata": {
    "executionInfo": {
     "elapsed": 10,
     "status": "ok",
     "timestamp": 1692711598981,
     "user": {
      "displayName": "Hossam Mostafa",
      "userId": "17081656889446114550"
     },
     "user_tz": -180
    },
    "id": "f3c350c2"
   },
   "outputs": [],
   "source": [
    "def compute_scores(preds):\n",
    "    \"\"\"Compute scores of transformers predictions.\"\"\"\n",
    "    logits, labels = preds\n",
    "    pred = np.argmax(logits, axis=-1)\n",
    "    acc = accuracy_score(labels, pred)\n",
    "    f1 = f1_score(labels, pred)\n",
    "    prec = precision_score(labels, pred)\n",
    "    rec = recall_score(labels, pred)\n",
    "    return {\"Accuracy\": acc, 'Precision': prec, 'Recall': rec, \"F1\": f1}"
   ]
  },
  {
   "cell_type": "code",
   "execution_count": 24,
   "id": "90520d4b",
   "metadata": {
    "executionInfo": {
     "elapsed": 10,
     "status": "ok",
     "timestamp": 1692711598981,
     "user": {
      "displayName": "Hossam Mostafa",
      "userId": "17081656889446114550"
     },
     "user_tz": -180
    },
    "id": "90520d4b"
   },
   "outputs": [],
   "source": [
    "id2label = {0: \"transparent\", 1: \"propaganda\"}\n",
    "label2id = {\"transparent\": 0, \"propaganda\": 1}"
   ]
  },
  {
   "cell_type": "code",
   "execution_count": 25,
   "id": "812c5c35",
   "metadata": {
    "executionInfo": {
     "elapsed": 4472,
     "status": "ok",
     "timestamp": 1692711603444,
     "user": {
      "displayName": "Hossam Mostafa",
      "userId": "17081656889446114550"
     },
     "user_tz": -180
    },
    "id": "812c5c35"
   },
   "outputs": [],
   "source": [
    "from transformers import AutoModelForSequenceClassification, TrainingArguments"
   ]
  },
  {
   "cell_type": "code",
   "execution_count": 26,
   "id": "55ebf129",
   "metadata": {
    "colab": {
     "base_uri": "https://localhost:8080/"
    },
    "executionInfo": {
     "elapsed": 2684,
     "status": "ok",
     "timestamp": 1692711606125,
     "user": {
      "displayName": "Hossam Mostafa",
      "userId": "17081656889446114550"
     },
     "user_tz": -180
    },
    "id": "55ebf129",
    "outputId": "c0464732-4e24-459a-b8ed-a16769746a63"
   },
   "outputs": [],
   "source": [
    "def model_init():\n",
    "    return (AutoModelForSequenceClassification\n",
    "            .from_pretrained('aubmindlab/bert-base-arabertv02-twitter',\n",
    "                             num_labels=2, id2label=id2label,\n",
    "                             label2id=label2id))"
   ]
  },
  {
   "cell_type": "code",
   "execution_count": 27,
   "id": "576923ee-c771-4212-9074-d8d490a5708f",
   "metadata": {},
   "outputs": [],
   "source": [
    "class CustomTrainingArguments(TrainingArguments):\n",
    "    def __init__(self, *args, alpha=1.0, beta=1.0, **kwargs):\n",
    "        super().__init__(*args, **kwargs)\n",
    "        self.alpha = alpha\n",
    "        self.beta = beta"
   ]
  },
  {
   "cell_type": "code",
   "execution_count": 28,
   "id": "93aa6e58",
   "metadata": {
    "executionInfo": {
     "elapsed": 5,
     "status": "ok",
     "timestamp": 1692711606126,
     "user": {
      "displayName": "Hossam Mostafa",
      "userId": "17081656889446114550"
     },
     "user_tz": -180
    },
    "id": "93aa6e58"
   },
   "outputs": [],
   "source": [
    "# training_args = CustomTrainingArguments(\n",
    "#     output_dir=\"../models/arabertv2-prop\",\n",
    "#     learning_rate=2e-5,\n",
    "#     per_device_train_batch_size=96,\n",
    "#     per_device_eval_batch_size=128,\n",
    "#     num_train_epochs=1,\n",
    "#     weight_decay=1e-4,\n",
    "#     evaluation_strategy=\"epoch\",\n",
    "#     save_strategy=\"epoch\",\n",
    "#     load_best_model_at_end=True,\n",
    "#     log_level=\"error\",\n",
    "#     push_to_hub=False,\n",
    "# )"
   ]
  },
  {
   "cell_type": "markdown",
   "id": "151a0b31",
   "metadata": {
    "id": "151a0b31"
   },
   "source": [
    "### Training\n"
   ]
  },
  {
   "cell_type": "code",
   "execution_count": 29,
   "id": "897cf6db",
   "metadata": {
    "executionInfo": {
     "elapsed": 5,
     "status": "ok",
     "timestamp": 1692711606126,
     "user": {
      "displayName": "Hossam Mostafa",
      "userId": "17081656889446114550"
     },
     "user_tz": -180
    },
    "id": "897cf6db"
   },
   "outputs": [],
   "source": [
    "import torch\n",
    "from torch import nn\n",
    "from transformers import Trainer\n",
    "import torch.nn.functional as F\n",
    "\n",
    "# labels = train_df.label # np.argmax(train_df.label.to_list(), axis=-1)\n",
    "\n",
    "# w0 = labels.sum() / len(labels)\n",
    "# w1 = 1 - w0\n",
    "# w = torch.tensor([w0, w1], device=\"cuda\", dtype=torch.float32)\n",
    "# w"
   ]
  },
  {
   "cell_type": "code",
   "execution_count": 30,
   "id": "8o2NrDMX12Ej",
   "metadata": {
    "executionInfo": {
     "elapsed": 4,
     "status": "ok",
     "timestamp": 1692711606126,
     "user": {
      "displayName": "Hossam Mostafa",
      "userId": "17081656889446114550"
     },
     "user_tz": -180
    },
    "id": "8o2NrDMX12Ej"
   },
   "outputs": [],
   "source": [
    "if torch.cuda.is_available():\n",
    "    torch.backends.cudnn.benchmark = True\n",
    "    if torch.cuda.device_count() > 1:\n",
    "        device = torch.device('cuda:0')\n",
    "    else:\n",
    "        device = torch.device('cuda')\n",
    "else:\n",
    "    device = torch.device('cpu')"
   ]
  },
  {
   "cell_type": "code",
   "execution_count": 31,
   "id": "7vfTTF8lVH16",
   "metadata": {
    "executionInfo": {
     "elapsed": 4,
     "status": "ok",
     "timestamp": 1692711606126,
     "user": {
      "displayName": "Hossam Mostafa",
      "userId": "17081656889446114550"
     },
     "user_tz": -180
    },
    "id": "7vfTTF8lVH16"
   },
   "outputs": [],
   "source": [
    "# APL (Active Passive Loss)\n",
    "\n",
    "class NormalizedCrossEntropy(torch.nn.Module):\n",
    "    def __init__(self, num_classes, scale=1.0):\n",
    "        super(NormalizedCrossEntropy, self).__init__()\n",
    "        self.device = device\n",
    "        self.num_classes = num_classes\n",
    "        self.scale = scale\n",
    "\n",
    "    def forward(self, pred, labels):\n",
    "        pred = F.log_softmax(pred, dim=1)\n",
    "        label_one_hot = torch.nn.functional.one_hot(labels, self.num_classes).float().to(self.device)\n",
    "        nce = -1 * torch.sum(label_one_hot * pred, dim=1) / (- pred.sum(dim=1))\n",
    "        return self.scale * nce.mean()\n",
    "\n",
    "\n",
    "class ReverseCrossEntropy(torch.nn.Module):\n",
    "    def __init__(self, num_classes, scale=1.0):\n",
    "        super(ReverseCrossEntropy, self).__init__()\n",
    "        self.device = device\n",
    "        self.num_classes = num_classes\n",
    "        self.scale = scale\n",
    "\n",
    "    def forward(self, pred, labels):\n",
    "        pred = F.softmax(pred, dim=1)\n",
    "        pred = torch.clamp(pred, min=1e-7, max=1.0)\n",
    "        label_one_hot = torch.nn.functional.one_hot(labels, self.num_classes).float().to(self.device)\n",
    "        label_one_hot = torch.clamp(label_one_hot, min=1e-4, max=1.0)\n",
    "        rce = (-1*torch.sum(pred * torch.log(label_one_hot), dim=1))\n",
    "        return self.scale * rce.mean()\n",
    "\n",
    "\n",
    "class NCEandRCE(torch.nn.Module):\n",
    "    def __init__(self, alpha, beta, num_classes):\n",
    "        super(NCEandRCE, self).__init__()\n",
    "        self.num_classes = num_classes\n",
    "        self.nce = NormalizedCrossEntropy(scale=alpha, num_classes=num_classes)\n",
    "        self.rce = ReverseCrossEntropy(scale=beta, num_classes=num_classes)\n",
    "\n",
    "    def forward(self, pred, labels):\n",
    "        return self.nce(pred, labels) + self.rce(pred, labels)\n",
    "\n",
    "\n",
    "class MeanAbsoluteError(torch.nn.Module):\n",
    "    def __init__(self, num_classes, scale=1.0):\n",
    "        super(MeanAbsoluteError, self).__init__()\n",
    "        self.device = device\n",
    "        self.num_classes = num_classes\n",
    "        self.scale = scale\n",
    "\n",
    "    def forward(self, pred, labels):\n",
    "        pred = F.softmax(pred, dim=1)\n",
    "        label_one_hot = torch.nn.functional.one_hot(labels, self.num_classes).float().to(self.device)\n",
    "        mae = 1. - torch.sum(label_one_hot * pred, dim=1)\n",
    "        return self.scale * mae.mean()\n",
    "\n",
    "\n",
    "class NCEandMAE(torch.nn.Module):\n",
    "    def __init__(self, alpha, beta, num_classes):\n",
    "        super(NCEandMAE, self).__init__()\n",
    "        self.num_classes = num_classes\n",
    "        self.nce = NormalizedCrossEntropy(scale=alpha, num_classes=num_classes)\n",
    "        self.mae = MeanAbsoluteError(scale=beta, num_classes=num_classes)\n",
    "\n",
    "    def forward(self, pred, labels):\n",
    "        return self.nce(pred, labels) + self.mae(pred, labels)"
   ]
  },
  {
   "cell_type": "code",
   "execution_count": 32,
   "id": "EZybgMa-VLIm",
   "metadata": {
    "executionInfo": {
     "elapsed": 5,
     "status": "ok",
     "timestamp": 1692711606127,
     "user": {
      "displayName": "Hossam Mostafa",
      "userId": "17081656889446114550"
     },
     "user_tz": -180
    },
    "id": "EZybgMa-VLIm"
   },
   "outputs": [],
   "source": [
    "# aploss = NCEandMAE(alpha=1.0, beta=10.0, num_classes=2)"
   ]
  },
  {
   "cell_type": "code",
   "execution_count": 33,
   "id": "8a3460b2",
   "metadata": {
    "executionInfo": {
     "elapsed": 5,
     "status": "ok",
     "timestamp": 1692711606127,
     "user": {
      "displayName": "Hossam Mostafa",
      "userId": "17081656889446114550"
     },
     "user_tz": -180
    },
    "id": "8a3460b2"
   },
   "outputs": [],
   "source": [
    "class CustomTrainer(Trainer):\n",
    "    def compute_loss(self, model, inputs, return_outputs=False):\n",
    "        labels = inputs.get(\"labels\") # [batch_size, num_labels]\n",
    "        # del inputs['labels']\n",
    "        outputs = model(**inputs)\n",
    "        logits = outputs.get(\"logits\") # [batch_size, num_labels]\n",
    "        # loss_fct = nn.CrossEntropyLoss(weight=w_)\n",
    "        # loss = loss_fct(\n",
    "        #     logits.view(-1, self.model.config.num_labels), labels.view(-1))\n",
    "        loss_fn = NCEandMAE(alpha=self.args.alpha, beta=self.args.beta, num_classes=2)\n",
    "        loss = loss_fn(logits, labels)\n",
    "        return (loss, outputs) if return_outputs else loss"
   ]
  },
  {
   "cell_type": "code",
   "execution_count": 34,
   "id": "6b53b784",
   "metadata": {
    "executionInfo": {
     "elapsed": 1931,
     "status": "ok",
     "timestamp": 1692711608054,
     "user": {
      "displayName": "Hossam Mostafa",
      "userId": "17081656889446114550"
     },
     "user_tz": -180
    },
    "id": "6b53b784"
   },
   "outputs": [],
   "source": [
    "# trainer = CustomTrainer(\n",
    "#     model_init=model_init,\n",
    "#     args=training_args,\n",
    "#     train_dataset=ds_encoded[\"train\"],\n",
    "#     eval_dataset=ds_encoded[\"validation\"],\n",
    "#     tokenizer=tokenizer,\n",
    "#     compute_metrics=compute_scores,\n",
    "# )"
   ]
  },
  {
   "cell_type": "code",
   "execution_count": 35,
   "id": "c4a34cf0-c50c-41b6-9f59-6d3357e602ce",
   "metadata": {},
   "outputs": [],
   "source": [
    "# # hp tuning\n",
    "# def hp_space(trial):\n",
    "#     return {\"alpha\": trial.suggest_categorical(\"alpha\", [0.01, 0.1, 1.0, 10]),\n",
    "#             \"beta\": trial.suggest_categorical(\"beta\", [0.01, 0.1, 1.0, 10])}"
   ]
  },
  {
   "cell_type": "code",
   "execution_count": 36,
   "id": "50456b46-4139-4535-a3c7-3d3bd967602d",
   "metadata": {},
   "outputs": [],
   "source": [
    "# def compute_objective(metrics):\n",
    "#     return metrics[\"eval_F1\"]"
   ]
  },
  {
   "cell_type": "code",
   "execution_count": 37,
   "id": "f5d6fb89-84ec-4ea6-b4b0-1a485b67fdb8",
   "metadata": {},
   "outputs": [],
   "source": [
    "# best_run = trainer.hyperparameter_search(n_trials=3, direction=\"maximize\",\n",
    "#                                          compute_objective=compute_objective,\n",
    "#                                          hp_space=hp_space, storage=\"sqlite:///optuna_apl.db\")"
   ]
  },
  {
   "cell_type": "code",
   "execution_count": 38,
   "id": "004ac17b-ca88-4b11-8455-25fdde23c532",
   "metadata": {},
   "outputs": [],
   "source": [
    "# print(best_run)"
   ]
  },
  {
   "cell_type": "code",
   "execution_count": 39,
   "id": "c4c7ed5f-44ef-4b21-b818-c29918efa8c0",
   "metadata": {},
   "outputs": [],
   "source": [
    "# import json\n",
    "\n",
    "# with open(\"./hp.json\", \"w+\") as f:\n",
    "#     json.dump(best_run.hyperparameters, f, indent=1)"
   ]
  },
  {
   "cell_type": "code",
   "execution_count": 40,
   "id": "e811f991-11d6-491a-9d17-41dbd7de525b",
   "metadata": {},
   "outputs": [],
   "source": [
    "# import json\n",
    "\n",
    "# with open(\"./hp.json\") as f:\n",
    "#     best_run = json.load(f)"
   ]
  },
  {
   "cell_type": "code",
   "execution_count": 41,
   "id": "2e348797-768d-4b4c-b59d-b96ac744dad2",
   "metadata": {},
   "outputs": [
    {
     "name": "stdout",
     "output_type": "stream",
     "text": [
      "huggingface/tokenizers: The current process just got forked, after parallelism has already been used. Disabling parallelism to avoid deadlocks...\n",
      "To disable this warning, you can either:\n",
      "\t- Avoid using `tokenizers` before the fork if possible\n",
      "\t- Explicitly set the environment variable TOKENIZERS_PARALLELISM=(true | false)\n",
      "huggingface/tokenizers: The current process just got forked, after parallelism has already been used. Disabling parallelism to avoid deadlocks...\n",
      "To disable this warning, you can either:\n",
      "\t- Avoid using `tokenizers` before the fork if possible\n",
      "\t- Explicitly set the environment variable TOKENIZERS_PARALLELISM=(true | false)\n",
      "huggingface/tokenizers: The current process just got forked, after parallelism has already been used. Disabling parallelism to avoid deadlocks...\n",
      "To disable this warning, you can either:\n",
      "\t- Avoid using `tokenizers` before the fork if possible\n",
      "\t- Explicitly set the environment variable TOKENIZERS_PARALLELISM=(true | false)\n",
      "huggingface/tokenizers: The current process just got forked, after parallelism has already been used. Disabling parallelism to avoid deadlocks...\n",
      "To disable this warning, you can either:\n",
      "\t- Avoid using `tokenizers` before the fork if possible\n",
      "\t- Explicitly set the environment variable TOKENIZERS_PARALLELISM=(true | false)\n"
     ]
    },
    {
     "name": "stderr",
     "output_type": "stream",
     "text": [
      "\u001b[34m\u001b[1mwandb\u001b[0m: Currently logged in as: \u001b[33me_hossam96\u001b[0m. Use \u001b[1m`wandb login --relogin`\u001b[0m to force relogin\n",
      "\u001b[34m\u001b[1mwandb\u001b[0m: \u001b[33mWARNING\u001b[0m If you're specifying your api key in code, ensure this code is not shared publicly.\n",
      "\u001b[34m\u001b[1mwandb\u001b[0m: \u001b[33mWARNING\u001b[0m Consider setting the WANDB_API_KEY environment variable, or running `wandb login` from the command line.\n",
      "\u001b[34m\u001b[1mwandb\u001b[0m: Appending key for api.wandb.ai to your netrc file: /root/.netrc\n"
     ]
    },
    {
     "data": {
      "text/plain": [
       "True"
      ]
     },
     "execution_count": 41,
     "metadata": {},
     "output_type": "execute_result"
    }
   ],
   "source": [
    "import json\n",
    "import wandb\n",
    "\n",
    "with open(\"../data/access_tokens.json\") as f:\n",
    "    login_key = json.load(f)[\"wandb\"][\"login\"]\n",
    "\n",
    "wandb.login(key=login_key)"
   ]
  },
  {
   "cell_type": "code",
   "execution_count": 42,
   "id": "36c25ffd-26af-4bc7-8eab-76c47405071d",
   "metadata": {},
   "outputs": [
    {
     "name": "stdout",
     "output_type": "stream",
     "text": [
      "huggingface/tokenizers: The current process just got forked, after parallelism has already been used. Disabling parallelism to avoid deadlocks...\n",
      "To disable this warning, you can either:\n",
      "\t- Avoid using `tokenizers` before the fork if possible\n",
      "\t- Explicitly set the environment variable TOKENIZERS_PARALLELISM=(true | false)\n",
      "huggingface/tokenizers: The current process just got forked, after parallelism has already been used. Disabling parallelism to avoid deadlocks...\n",
      "To disable this warning, you can either:\n",
      "\t- Avoid using `tokenizers` before the fork if possible\n",
      "\t- Explicitly set the environment variable TOKENIZERS_PARALLELISM=(true | false)\n"
     ]
    },
    {
     "data": {
      "text/html": [
       "wandb version 0.15.10 is available!  To upgrade, please run:\n",
       " $ pip install wandb --upgrade"
      ],
      "text/plain": [
       "<IPython.core.display.HTML object>"
      ]
     },
     "metadata": {},
     "output_type": "display_data"
    },
    {
     "data": {
      "text/html": [
       "Tracking run with wandb version 0.13.4"
      ],
      "text/plain": [
       "<IPython.core.display.HTML object>"
      ]
     },
     "metadata": {},
     "output_type": "display_data"
    },
    {
     "data": {
      "text/html": [
       "Run data is saved locally in <code>/notebooks/Propaganda/notebooks/wandb/run-20230920_124926-mw27c00o</code>"
      ],
      "text/plain": [
       "<IPython.core.display.HTML object>"
      ]
     },
     "metadata": {},
     "output_type": "display_data"
    },
    {
     "data": {
      "text/html": [
       "Syncing run <strong><a href=\"https://wandb.ai/e_hossam96/arabic-weak-propaganda/runs/mw27c00o\" target=\"_blank\">arabert-nce_mae</a></strong> to <a href=\"https://wandb.ai/e_hossam96/arabic-weak-propaganda\" target=\"_blank\">Weights & Biases</a> (<a href=\"https://wandb.me/run\" target=\"_blank\">docs</a>)<br/>"
      ],
      "text/plain": [
       "<IPython.core.display.HTML object>"
      ]
     },
     "metadata": {},
     "output_type": "display_data"
    },
    {
     "data": {
      "text/html": [
       "<button onClick=\"this.nextSibling.style.display='block';this.style.display='none';\">Display W&B run</button><iframe src=\"https://wandb.ai/e_hossam96/arabic-weak-propaganda/runs/mw27c00o?jupyter=true\" style=\"border:none;width:100%;height:420px;display:none;\"></iframe>"
      ],
      "text/plain": [
       "<wandb.sdk.wandb_run.Run at 0x7f359b3cf670>"
      ]
     },
     "execution_count": 42,
     "metadata": {},
     "output_type": "execute_result"
    }
   ],
   "source": [
    "wandb.init(project=\"arabic-weak-propaganda\", name=\"arabert-nce_mae\")"
   ]
  },
  {
   "cell_type": "code",
   "execution_count": 43,
   "id": "9311dd40-fa0a-46c9-ad60-fc28546a2b26",
   "metadata": {},
   "outputs": [],
   "source": [
    "training_args = CustomTrainingArguments(\n",
    "    output_dir=\"../models/arabertv2-prop\",\n",
    "    learning_rate=2e-5,\n",
    "    per_device_train_batch_size=64,\n",
    "    per_device_eval_batch_size=64,\n",
    "    num_train_epochs=5,\n",
    "    weight_decay=1e-5,\n",
    "    warmup_ratio=0.1,\n",
    "    alpha=1.0, beta=1.0,\n",
    "    evaluation_strategy=\"epoch\",\n",
    "    save_strategy=\"epoch\",\n",
    "    load_best_model_at_end=True,\n",
    "    log_level=\"error\",\n",
    ")"
   ]
  },
  {
   "cell_type": "code",
   "execution_count": 44,
   "id": "ab4367f8-92bf-40cd-87a0-51afdf865471",
   "metadata": {},
   "outputs": [],
   "source": [
    "from transformers import DataCollatorWithPadding\n",
    "\n",
    "data_collator = DataCollatorWithPadding(tokenizer=tokenizer)"
   ]
  },
  {
   "cell_type": "code",
   "execution_count": 45,
   "id": "b82486be-a3c0-497e-ab7f-14e3d252ffb9",
   "metadata": {},
   "outputs": [
    {
     "name": "stderr",
     "output_type": "stream",
     "text": [
      "Some weights of the model checkpoint at aubmindlab/bert-base-arabertv02-twitter were not used when initializing BertForSequenceClassification: ['cls.predictions.transform.dense.weight', 'cls.predictions.transform.dense.bias', 'cls.predictions.bias', 'cls.predictions.transform.LayerNorm.bias', 'cls.predictions.decoder.weight', 'cls.predictions.transform.LayerNorm.weight', 'cls.predictions.decoder.bias']\n",
      "- This IS expected if you are initializing BertForSequenceClassification from the checkpoint of a model trained on another task or with another architecture (e.g. initializing a BertForSequenceClassification model from a BertForPreTraining model).\n",
      "- This IS NOT expected if you are initializing BertForSequenceClassification from the checkpoint of a model that you expect to be exactly identical (initializing a BertForSequenceClassification model from a BertForSequenceClassification model).\n",
      "Some weights of BertForSequenceClassification were not initialized from the model checkpoint at aubmindlab/bert-base-arabertv02-twitter and are newly initialized: ['bert.pooler.dense.weight', 'classifier.bias', 'classifier.weight', 'bert.pooler.dense.bias']\n",
      "You should probably TRAIN this model on a down-stream task to be able to use it for predictions and inference.\n"
     ]
    }
   ],
   "source": [
    "trainer = CustomTrainer(\n",
    "    model=model_init(),\n",
    "    args=training_args,\n",
    "    train_dataset=ds_encoded[\"train\"],\n",
    "    eval_dataset=ds_encoded[\"validation\"],\n",
    "    tokenizer=tokenizer,\n",
    "    data_collator=data_collator,\n",
    "    compute_metrics=compute_scores,\n",
    ")"
   ]
  },
  {
   "cell_type": "code",
   "execution_count": 46,
   "id": "4a43f6b0",
   "metadata": {
    "colab": {
     "base_uri": "https://localhost:8080/",
     "height": 161
    },
    "id": "4a43f6b0",
    "outputId": "e8842ad9-161b-4c91-9974-e4fd9fc55722"
   },
   "outputs": [
    {
     "name": "stderr",
     "output_type": "stream",
     "text": [
      "/usr/local/lib/python3.9/dist-packages/transformers/optimization.py:306: FutureWarning: This implementation of AdamW is deprecated and will be removed in a future version. Use the PyTorch implementation torch.optim.AdamW instead, or set `no_deprecation_warning=True` to disable this warning\n",
      "  warnings.warn(\n"
     ]
    },
    {
     "data": {
      "text/html": [
       "\n",
       "    <div>\n",
       "      \n",
       "      <progress value='11360' max='11360' style='width:300px; height:20px; vertical-align: middle;'></progress>\n",
       "      [11360/11360 2:03:13, Epoch 5/5]\n",
       "    </div>\n",
       "    <table border=\"1\" class=\"dataframe\">\n",
       "  <thead>\n",
       " <tr style=\"text-align: left;\">\n",
       "      <th>Epoch</th>\n",
       "      <th>Training Loss</th>\n",
       "      <th>Validation Loss</th>\n",
       "      <th>Accuracy</th>\n",
       "      <th>Precision</th>\n",
       "      <th>Recall</th>\n",
       "      <th>F1</th>\n",
       "    </tr>\n",
       "  </thead>\n",
       "  <tbody>\n",
       "    <tr>\n",
       "      <td>1</td>\n",
       "      <td>0.368900</td>\n",
       "      <td>0.376332</td>\n",
       "      <td>0.811780</td>\n",
       "      <td>0.818483</td>\n",
       "      <td>0.633087</td>\n",
       "      <td>0.713945</td>\n",
       "    </tr>\n",
       "    <tr>\n",
       "      <td>2</td>\n",
       "      <td>0.332300</td>\n",
       "      <td>0.376210</td>\n",
       "      <td>0.811863</td>\n",
       "      <td>0.698384</td>\n",
       "      <td>0.867609</td>\n",
       "      <td>0.773853</td>\n",
       "    </tr>\n",
       "    <tr>\n",
       "      <td>3</td>\n",
       "      <td>0.339500</td>\n",
       "      <td>0.359793</td>\n",
       "      <td>0.820097</td>\n",
       "      <td>0.801589</td>\n",
       "      <td>0.684541</td>\n",
       "      <td>0.738456</td>\n",
       "    </tr>\n",
       "    <tr>\n",
       "      <td>4</td>\n",
       "      <td>0.320700</td>\n",
       "      <td>0.331806</td>\n",
       "      <td>0.834131</td>\n",
       "      <td>0.776973</td>\n",
       "      <td>0.775547</td>\n",
       "      <td>0.776259</td>\n",
       "    </tr>\n",
       "    <tr>\n",
       "      <td>5</td>\n",
       "      <td>0.306100</td>\n",
       "      <td>0.324861</td>\n",
       "      <td>0.837599</td>\n",
       "      <td>0.780466</td>\n",
       "      <td>0.782333</td>\n",
       "      <td>0.781398</td>\n",
       "    </tr>\n",
       "  </tbody>\n",
       "</table><p>"
      ],
      "text/plain": [
       "<IPython.core.display.HTML object>"
      ]
     },
     "metadata": {},
     "output_type": "display_data"
    },
    {
     "data": {
      "text/plain": [
       "TrainOutput(global_step=11360, training_loss=0.34907602390772857, metrics={'train_runtime': 7394.0061, 'train_samples_per_second': 98.295, 'train_steps_per_second': 1.536, 'total_flos': 2.390861742006786e+16, 'train_loss': 0.34907602390772857, 'epoch': 5.0})"
      ]
     },
     "execution_count": 46,
     "metadata": {},
     "output_type": "execute_result"
    }
   ],
   "source": [
    "trainer.train()"
   ]
  },
  {
   "cell_type": "code",
   "execution_count": 47,
   "id": "8cda48bc-390e-4dc8-9d04-1b92fbf2a4f3",
   "metadata": {},
   "outputs": [
    {
     "data": {
      "text/html": [],
      "text/plain": [
       "<IPython.core.display.HTML object>"
      ]
     },
     "metadata": {},
     "output_type": "display_data"
    },
    {
     "data": {
      "text/plain": [
       "{'lf_development_loss': 0.16800065338611603,\n",
       " 'lf_development_Accuracy': 0.916,\n",
       " 'lf_development_Precision': 0.5789473684210527,\n",
       " 'lf_development_Recall': 0.4583333333333333,\n",
       " 'lf_development_F1': 0.5116279069767442,\n",
       " 'lf_development_runtime': 1.5834,\n",
       " 'lf_development_samples_per_second': 315.785,\n",
       " 'lf_development_steps_per_second': 5.053,\n",
       " 'epoch': 5.0}"
      ]
     },
     "execution_count": 47,
     "metadata": {},
     "output_type": "execute_result"
    }
   ],
   "source": [
    "trainer.evaluate(ds_encoded[\"lf_development\"], metric_key_prefix=\"lf_development\")"
   ]
  },
  {
   "cell_type": "code",
   "execution_count": 48,
   "id": "0e37461c",
   "metadata": {
    "id": "0e37461c"
   },
   "outputs": [],
   "source": [
    "outs = trainer.predict(ds_encoded[\"lf_development\"])\n",
    "preds = np.argmax(outs[0], axis=-1)\n",
    "labels = outs[1]"
   ]
  },
  {
   "cell_type": "code",
   "execution_count": 49,
   "id": "e9fcc916-ffe9-4dd7-bdca-450c31fd9041",
   "metadata": {},
   "outputs": [],
   "source": [
    "label_names = list(label2id.keys())"
   ]
  },
  {
   "cell_type": "code",
   "execution_count": 50,
   "id": "be17af72",
   "metadata": {
    "id": "be17af72"
   },
   "outputs": [
    {
     "name": "stdout",
     "output_type": "stream",
     "text": [
      "              precision    recall  f1-score   support\n",
      "\n",
      " transparent       0.94      0.96      0.95       452\n",
      "  propaganda       0.58      0.46      0.51        48\n",
      "\n",
      "    accuracy                           0.92       500\n",
      "   macro avg       0.76      0.71      0.73       500\n",
      "weighted avg       0.91      0.92      0.91       500\n",
      "\n"
     ]
    }
   ],
   "source": [
    "from sklearn.metrics import classification_report\n",
    "\n",
    "print(classification_report(labels, preds, target_names=label_names))"
   ]
  },
  {
   "cell_type": "code",
   "execution_count": 51,
   "id": "8547ca22-7e70-45d0-a5d9-727ac6c5f609",
   "metadata": {},
   "outputs": [],
   "source": [
    "sns.set_style(\"whitegrid\", {'axes.grid': False})"
   ]
  },
  {
   "cell_type": "code",
   "execution_count": 52,
   "id": "BYne3EHLCqeS",
   "metadata": {
    "id": "BYne3EHLCqeS"
   },
   "outputs": [
    {
     "data": {
      "image/png": "[encoded data removed]",
      "text/plain": [
       "<Figure size 640x480 with 2 Axes>"
      ]
     },
     "metadata": {},
     "output_type": "display_data"
    }
   ],
   "source": [
    "from sklearn.metrics import confusion_matrix, ConfusionMatrixDisplay\n",
    "\n",
    "cm = confusion_matrix(labels, preds)\n",
    "disp = ConfusionMatrixDisplay(confusion_matrix=cm, display_labels=label_names)\n",
    "\n",
    "\n",
    "disp.plot()\n",
    "plt.show()"
   ]
  },
  {
   "cell_type": "code",
   "execution_count": 53,
   "id": "665c62e7-2622-49de-971a-728f434d9953",
   "metadata": {},
   "outputs": [
    {
     "data": {
      "text/html": [],
      "text/plain": [
       "<IPython.core.display.HTML object>"
      ]
     },
     "metadata": {},
     "output_type": "display_data"
    },
    {
     "data": {
      "text/plain": [
       "{'test_loss': 0.15167336165905,\n",
       " 'test_Accuracy': 0.9238095238095239,\n",
       " 'test_Precision': 0.6052631578947368,\n",
       " 'test_Recall': 0.575,\n",
       " 'test_F1': 0.5897435897435896,\n",
       " 'test_runtime': 1.5784,\n",
       " 'test_samples_per_second': 266.093,\n",
       " 'test_steps_per_second': 4.435,\n",
       " 'epoch': 5.0}"
      ]
     },
     "execution_count": 53,
     "metadata": {},
     "output_type": "execute_result"
    }
   ],
   "source": [
    "trainer.evaluate(ds_encoded[\"test\"], metric_key_prefix=\"test\")"
   ]
  },
  {
   "cell_type": "code",
   "execution_count": 54,
   "id": "9a9bf028-1450-440c-a979-3b63e007e95d",
   "metadata": {},
   "outputs": [],
   "source": [
    "outs = trainer.predict(ds_encoded[\"test\"])\n",
    "preds = np.argmax(outs[0], axis=-1)\n",
    "labels = outs[1]"
   ]
  },
  {
   "cell_type": "code",
   "execution_count": 55,
   "id": "fb0fa8a5-2610-4525-aa6c-35f5a884e822",
   "metadata": {},
   "outputs": [
    {
     "name": "stdout",
     "output_type": "stream",
     "text": [
      "              precision    recall  f1-score   support\n",
      "\n",
      " transparent       0.96      0.96      0.96       380\n",
      "  propaganda       0.61      0.57      0.59        40\n",
      "\n",
      "    accuracy                           0.92       420\n",
      "   macro avg       0.78      0.77      0.77       420\n",
      "weighted avg       0.92      0.92      0.92       420\n",
      "\n"
     ]
    }
   ],
   "source": [
    "print(classification_report(labels, preds, target_names=label_names))"
   ]
  },
  {
   "cell_type": "code",
   "execution_count": 56,
   "id": "092c4569-e46f-4051-a518-e9adde867171",
   "metadata": {},
   "outputs": [
    {
     "data": {
      "image/png": "[encoded data removed]",
      "text/plain": [
       "<Figure size 640x480 with 2 Axes>"
      ]
     },
     "metadata": {},
     "output_type": "display_data"
    }
   ],
   "source": [
    "cm = confusion_matrix(labels, preds)\n",
    "disp = ConfusionMatrixDisplay(confusion_matrix=cm, display_labels=label_names)\n",
    "\n",
    "disp.plot()\n",
    "plt.show()"
   ]
  },
  {
   "cell_type": "code",
   "execution_count": 57,
   "id": "2e5c5a24-f3a7-4ed3-82d8-facc696b2131",
   "metadata": {},
   "outputs": [],
   "source": [
    "trainer.save_model(\"../models/arabertv2-prop\")"
   ]
  },
  {
   "cell_type": "code",
   "execution_count": 58,
   "id": "da1a72f3-dc4e-4640-9cdf-4213f6a7f040",
   "metadata": {},
   "outputs": [
    {
     "data": {
      "text/html": [
       "Waiting for W&B process to finish... <strong style=\"color:green\">(success).</strong>"
      ],
      "text/plain": [
       "<IPython.core.display.HTML object>"
      ]
     },
     "metadata": {},
     "output_type": "display_data"
    },
    {
     "data": {
      "text/html": [
       "<style>\n",
       "    table.wandb td:nth-child(1) { padding: 0 10px; text-align: left ; width: auto;} td:nth-child(2) {text-align: left ; width: 100%}\n",
       "    .wandb-row { display: flex; flex-direction: row; flex-wrap: wrap; justify-content: flex-start; width: 100% }\n",
       "    .wandb-col { display: flex; flex-direction: column; flex-basis: 100%; flex: 1; padding: 10px; }\n",
       "    </style>\n",
       "<div class=\"wandb-row\"><div class=\"wandb-col\"><h3>Run history:</h3><br/><table class=\"wandb\"><tr><td>eval/Accuracy</td><td>▁▁▃▇█</td></tr><tr><td>eval/F1</td><td>▁▇▄▇█</td></tr><tr><td>eval/Precision</td><td>█▁▇▆▆</td></tr><tr><td>eval/Recall</td><td>▁█▃▅▅</td></tr><tr><td>eval/loss</td><td>██▆▂▁</td></tr><tr><td>eval/runtime</td><td>▁▄▆█▂</td></tr><tr><td>eval/samples_per_second</td><td>█▅▃▁▇</td></tr><tr><td>eval/steps_per_second</td><td>█▅▃▁▇</td></tr><tr><td>test/Accuracy</td><td>▁</td></tr><tr><td>test/F1</td><td>▁</td></tr><tr><td>test/Precision</td><td>▁</td></tr><tr><td>test/Recall</td><td>▁</td></tr><tr><td>test/loss</td><td>▁</td></tr><tr><td>test/runtime</td><td>▁</td></tr><tr><td>test/samples_per_second</td><td>▁</td></tr><tr><td>test/steps_per_second</td><td>▁</td></tr><tr><td>train/epoch</td><td>▁▁▂▂▂▂▃▃▃▄▄▄▄▅▅▅▅▆▆▆▆▇▇▇▇█████</td></tr><tr><td>train/global_step</td><td>▁▁▂▂▂▂▃▃▃▄▄▄▄▅▅▅▅▆▆▆▆▇▇▇▇█████</td></tr><tr><td>train/learning_rate</td><td>▄▇██▇▇▇▆▆▅▅▅▄▄▄▃▃▂▂▂▁▁</td></tr><tr><td>train/lf_development_Accuracy</td><td>▁</td></tr><tr><td>train/lf_development_F1</td><td>▁</td></tr><tr><td>train/lf_development_Precision</td><td>▁</td></tr><tr><td>train/lf_development_Recall</td><td>▁</td></tr><tr><td>train/lf_development_loss</td><td>▁</td></tr><tr><td>train/lf_development_runtime</td><td>▁</td></tr><tr><td>train/lf_development_samples_per_second</td><td>▁</td></tr><tr><td>train/lf_development_steps_per_second</td><td>▁</td></tr><tr><td>train/loss</td><td>█▃▃▂▂▂▂▂▂▂▂▂▂▁▂▁▁▁▁▁▁▁</td></tr><tr><td>train/total_flos</td><td>▁</td></tr><tr><td>train/train_loss</td><td>▁</td></tr><tr><td>train/train_runtime</td><td>▁</td></tr><tr><td>train/train_samples_per_second</td><td>▁</td></tr><tr><td>train/train_steps_per_second</td><td>▁</td></tr></table><br/></div><div class=\"wandb-col\"><h3>Run summary:</h3><br/><table class=\"wandb\"><tr><td>eval/Accuracy</td><td>0.8376</td></tr><tr><td>eval/F1</td><td>0.7814</td></tr><tr><td>eval/Precision</td><td>0.78047</td></tr><tr><td>eval/Recall</td><td>0.78233</td></tr><tr><td>eval/loss</td><td>0.32486</td></tr><tr><td>eval/runtime</td><td>177.3811</td></tr><tr><td>eval/samples_per_second</td><td>273.163</td></tr><tr><td>eval/steps_per_second</td><td>4.273</td></tr><tr><td>test/Accuracy</td><td>0.92381</td></tr><tr><td>test/F1</td><td>0.58974</td></tr><tr><td>test/Precision</td><td>0.60526</td></tr><tr><td>test/Recall</td><td>0.575</td></tr><tr><td>test/loss</td><td>0.15167</td></tr><tr><td>test/runtime</td><td>1.5784</td></tr><tr><td>test/samples_per_second</td><td>266.093</td></tr><tr><td>test/steps_per_second</td><td>4.435</td></tr><tr><td>train/epoch</td><td>5.0</td></tr><tr><td>train/global_step</td><td>11360</td></tr><tr><td>train/learning_rate</td><td>0.0</td></tr><tr><td>train/lf_development_Accuracy</td><td>0.916</td></tr><tr><td>train/lf_development_F1</td><td>0.51163</td></tr><tr><td>train/lf_development_Precision</td><td>0.57895</td></tr><tr><td>train/lf_development_Recall</td><td>0.45833</td></tr><tr><td>train/lf_development_loss</td><td>0.168</td></tr><tr><td>train/lf_development_runtime</td><td>1.5834</td></tr><tr><td>train/lf_development_samples_per_second</td><td>315.785</td></tr><tr><td>train/lf_development_steps_per_second</td><td>5.053</td></tr><tr><td>train/loss</td><td>0.3061</td></tr><tr><td>train/total_flos</td><td>2.390861742006786e+16</td></tr><tr><td>train/train_loss</td><td>0.34908</td></tr><tr><td>train/train_runtime</td><td>7394.0061</td></tr><tr><td>train/train_samples_per_second</td><td>98.295</td></tr><tr><td>train/train_steps_per_second</td><td>1.536</td></tr></table><br/></div></div>"
      ],
      "text/plain": [
       "<IPython.core.display.HTML object>"
      ]
     },
     "metadata": {},
     "output_type": "display_data"
    },
    {
     "data": {
      "text/html": [
       "Synced <strong style=\"color:#cdcd00\">arabert-nce_mae</strong>: <a href=\"https://wandb.ai/e_hossam96/arabic-weak-propaganda/runs/mw27c00o\" target=\"_blank\">https://wandb.ai/e_hossam96/arabic-weak-propaganda/runs/mw27c00o</a><br/>Synced 5 W&B file(s), 0 media file(s), 0 artifact file(s) and 0 other file(s)"
      ],
      "text/plain": [
       "<IPython.core.display.HTML object>"
      ]
     },
     "metadata": {},
     "output_type": "display_data"
    },
    {
     "data": {
      "text/html": [
       "Find logs at: <code>./wandb/run-20230920_124926-mw27c00o/logs</code>"
      ],
      "text/plain": [
       "<IPython.core.display.HTML object>"
      ]
     },
     "metadata": {},
     "output_type": "display_data"
    }
   ],
   "source": [
    "wandb.finish()"
   ]
  }
 ],
 "metadata": {
  "accelerator": "GPU",
  "colab": {
   "gpuType": "T4",
   "provenance": []
  },
  "kernelspec": {
   "display_name": "Python 3 (ipykernel)",
   "language": "python",
   "name": "python3"
  },
  "language_info": {
   "codemirror_mode": {
    "name": "ipython",
    "version": 3
   },
   "file_extension": ".py",
   "mimetype": "text/x-python",
   "name": "python",
   "nbconvert_exporter": "python",
   "pygments_lexer": "ipython3",
   "version": "3.9.16"
  },
  "widgets": {
   "application/vnd.jupyter.widget-state+json": {
    "0ad659922273442a9b54fc788df75896": {
     "model_module": "@jupyter-widgets/controls",
     "model_module_version": "1.5.0",
     "model_name": "HTMLModel",
     "state": {
      "_dom_classes": [],
      "_model_module": "@jupyter-widgets/controls",
      "_model_module_version": "1.5.0",
      "_model_name": "HTMLModel",
      "_view_count": null,
      "_view_module": "@jupyter-widgets/controls",
      "_view_module_version": "1.5.0",
      "_view_name": "HTMLView",
      "description": "",
      "description_tooltip": null,
      "layout": "IPY_MODEL_f13d53c688ef429b88708fb6d6b114bc",
      "placeholder": "​",
      "style": "IPY_MODEL_fc79bf1affe9476ba60f1902a8368865",
      "value": "Map: 100%"
     }
    },
    "0ce18af48fc2472aab7b6f322f6e63f8": {
     "model_module": "@jupyter-widgets/controls",
     "model_module_version": "1.5.0",
     "model_name": "HBoxModel",
     "state": {
      "_dom_classes": [],
      "_model_module": "@jupyter-widgets/controls",
      "_model_module_version": "1.5.0",
      "_model_name": "HBoxModel",
      "_view_count": null,
      "_view_module": "@jupyter-widgets/controls",
      "_view_module_version": "1.5.0",
      "_view_name": "HBoxView",
      "box_style": "",
      "children": [
       "IPY_MODEL_0ad659922273442a9b54fc788df75896",
       "IPY_MODEL_f6f47d5a78f84e818414e7025574099a",
       "IPY_MODEL_f0d7101f48a74088ab3daf179b21f14f"
      ],
      "layout": "IPY_MODEL_17830377c33c4f39894ab90371c5f697"
     }
    },
    "0dc1b0a0dca0414cbca71d33fdf278ca": {
     "model_module": "@jupyter-widgets/controls",
     "model_module_version": "1.5.0",
     "model_name": "HBoxModel",
     "state": {
      "_dom_classes": [],
      "_model_module": "@jupyter-widgets/controls",
      "_model_module_version": "1.5.0",
      "_model_name": "HBoxModel",
      "_view_count": null,
      "_view_module": "@jupyter-widgets/controls",
      "_view_module_version": "1.5.0",
      "_view_name": "HBoxView",
      "box_style": "",
      "children": [
       "IPY_MODEL_7551fcad447d471189d7c8bd2f54da26",
       "IPY_MODEL_c8ff0f62c9544bbfa5849a3cc24bd84c",
       "IPY_MODEL_e5add923fcc848d58a996abdbe85ffda"
      ],
      "layout": "IPY_MODEL_9382e05c63d94d4782fb81e287007252"
     }
    },
    "0fe8fe5d706f4643b269f2245a314584": {
     "model_module": "@jupyter-widgets/base",
     "model_module_version": "1.2.0",
     "model_name": "LayoutModel",
     "state": {
      "_model_module": "@jupyter-widgets/base",
      "_model_module_version": "1.2.0",
      "_model_name": "LayoutModel",
      "_view_count": null,
      "_view_module": "@jupyter-widgets/base",
      "_view_module_version": "1.2.0",
      "_view_name": "LayoutView",
      "align_content": null,
      "align_items": null,
      "align_self": null,
      "border": null,
      "bottom": null,
      "display": null,
      "flex": null,
      "flex_flow": null,
      "grid_area": null,
      "grid_auto_columns": null,
      "grid_auto_flow": null,
      "grid_auto_rows": null,
      "grid_column": null,
      "grid_gap": null,
      "grid_row": null,
      "grid_template_areas": null,
      "grid_template_columns": null,
      "grid_template_rows": null,
      "height": null,
      "justify_content": null,
      "justify_items": null,
      "left": null,
      "margin": null,
      "max_height": null,
      "max_width": null,
      "min_height": null,
      "min_width": null,
      "object_fit": null,
      "object_position": null,
      "order": null,
      "overflow": null,
      "overflow_x": null,
      "overflow_y": null,
      "padding": null,
      "right": null,
      "top": null,
      "visibility": null,
      "width": null
     }
    },
    "17830377c33c4f39894ab90371c5f697": {
     "model_module": "@jupyter-widgets/base",
     "model_module_version": "1.2.0",
     "model_name": "LayoutModel",
     "state": {
      "_model_module": "@jupyter-widgets/base",
      "_model_module_version": "1.2.0",
      "_model_name": "LayoutModel",
      "_view_count": null,
      "_view_module": "@jupyter-widgets/base",
      "_view_module_version": "1.2.0",
      "_view_name": "LayoutView",
      "align_content": null,
      "align_items": null,
      "align_self": null,
      "border": null,
      "bottom": null,
      "display": null,
      "flex": null,
      "flex_flow": null,
      "grid_area": null,
      "grid_auto_columns": null,
      "grid_auto_flow": null,
      "grid_auto_rows": null,
      "grid_column": null,
      "grid_gap": null,
      "grid_row": null,
      "grid_template_areas": null,
      "grid_template_columns": null,
      "grid_template_rows": null,
      "height": null,
      "justify_content": null,
      "justify_items": null,
      "left": null,
      "margin": null,
      "max_height": null,
      "max_width": null,
      "min_height": null,
      "min_width": null,
      "object_fit": null,
      "object_position": null,
      "order": null,
      "overflow": null,
      "overflow_x": null,
      "overflow_y": null,
      "padding": null,
      "right": null,
      "top": null,
      "visibility": null,
      "width": null
     }
    },
    "17fb4df5af5f4dbc96ee79b9d2024f87": {
     "model_module": "@jupyter-widgets/controls",
     "model_module_version": "1.5.0",
     "model_name": "ProgressStyleModel",
     "state": {
      "_model_module": "@jupyter-widgets/controls",
      "_model_module_version": "1.5.0",
      "_model_name": "ProgressStyleModel",
      "_view_count": null,
      "_view_module": "@jupyter-widgets/base",
      "_view_module_version": "1.2.0",
      "_view_name": "StyleView",
      "bar_color": null,
      "description_width": ""
     }
    },
    "1f80249258514c5086b312080678687e": {
     "model_module": "@jupyter-widgets/controls",
     "model_module_version": "1.5.0",
     "model_name": "DescriptionStyleModel",
     "state": {
      "_model_module": "@jupyter-widgets/controls",
      "_model_module_version": "1.5.0",
      "_model_name": "DescriptionStyleModel",
      "_view_count": null,
      "_view_module": "@jupyter-widgets/base",
      "_view_module_version": "1.2.0",
      "_view_name": "StyleView",
      "description_width": ""
     }
    },
    "35af331afc2645cbbfe783db09cc3e9f": {
     "model_module": "@jupyter-widgets/controls",
     "model_module_version": "1.5.0",
     "model_name": "FloatProgressModel",
     "state": {
      "_dom_classes": [],
      "_model_module": "@jupyter-widgets/controls",
      "_model_module_version": "1.5.0",
      "_model_name": "FloatProgressModel",
      "_view_count": null,
      "_view_module": "@jupyter-widgets/controls",
      "_view_module_version": "1.5.0",
      "_view_name": "ProgressView",
      "bar_style": "success",
      "description": "",
      "description_tooltip": null,
      "layout": "IPY_MODEL_709dc54fa8574dd9933c58454489a091",
      "max": 130824,
      "min": 0,
      "orientation": "horizontal",
      "style": "IPY_MODEL_413fbdbc09e9499f972acc8b7d8bb0d9",
      "value": 130824
     }
    },
    "413fbdbc09e9499f972acc8b7d8bb0d9": {
     "model_module": "@jupyter-widgets/controls",
     "model_module_version": "1.5.0",
     "model_name": "ProgressStyleModel",
     "state": {
      "_model_module": "@jupyter-widgets/controls",
      "_model_module_version": "1.5.0",
      "_model_name": "ProgressStyleModel",
      "_view_count": null,
      "_view_module": "@jupyter-widgets/base",
      "_view_module_version": "1.2.0",
      "_view_name": "StyleView",
      "bar_color": null,
      "description_width": ""
     }
    },
    "4d0a2937383443308eb9a3464121ee78": {
     "model_module": "@jupyter-widgets/controls",
     "model_module_version": "1.5.0",
     "model_name": "DescriptionStyleModel",
     "state": {
      "_model_module": "@jupyter-widgets/controls",
      "_model_module_version": "1.5.0",
      "_model_name": "DescriptionStyleModel",
      "_view_count": null,
      "_view_module": "@jupyter-widgets/base",
      "_view_module_version": "1.2.0",
      "_view_name": "StyleView",
      "description_width": ""
     }
    },
    "5c8246d3723a47ac9d3cc297a67d62d5": {
     "model_module": "@jupyter-widgets/controls",
     "model_module_version": "1.5.0",
     "model_name": "ProgressStyleModel",
     "state": {
      "_model_module": "@jupyter-widgets/controls",
      "_model_module_version": "1.5.0",
      "_model_name": "ProgressStyleModel",
      "_view_count": null,
      "_view_module": "@jupyter-widgets/base",
      "_view_module_version": "1.2.0",
      "_view_name": "StyleView",
      "bar_color": null,
      "description_width": ""
     }
    },
    "6b4a1b2244474197bf8975d349baeb6f": {
     "model_module": "@jupyter-widgets/controls",
     "model_module_version": "1.5.0",
     "model_name": "DescriptionStyleModel",
     "state": {
      "_model_module": "@jupyter-widgets/controls",
      "_model_module_version": "1.5.0",
      "_model_name": "DescriptionStyleModel",
      "_view_count": null,
      "_view_module": "@jupyter-widgets/base",
      "_view_module_version": "1.2.0",
      "_view_name": "StyleView",
      "description_width": ""
     }
    },
    "6c9963d0dec243af94a45fc51236b0fb": {
     "model_module": "@jupyter-widgets/controls",
     "model_module_version": "1.5.0",
     "model_name": "HTMLModel",
     "state": {
      "_dom_classes": [],
      "_model_module": "@jupyter-widgets/controls",
      "_model_module_version": "1.5.0",
      "_model_name": "HTMLModel",
      "_view_count": null,
      "_view_module": "@jupyter-widgets/controls",
      "_view_module_version": "1.5.0",
      "_view_name": "HTMLView",
      "description": "",
      "description_tooltip": null,
      "layout": "IPY_MODEL_9e4ccd8cd4664d8abaf7481cdbe81076",
      "placeholder": "​",
      "style": "IPY_MODEL_b2cd18fafd074b309011a468f021d17f",
      "value": "Map: 100%"
     }
    },
    "709dc54fa8574dd9933c58454489a091": {
     "model_module": "@jupyter-widgets/base",
     "model_module_version": "1.2.0",
     "model_name": "LayoutModel",
     "state": {
      "_model_module": "@jupyter-widgets/base",
      "_model_module_version": "1.2.0",
      "_model_name": "LayoutModel",
      "_view_count": null,
      "_view_module": "@jupyter-widgets/base",
      "_view_module_version": "1.2.0",
      "_view_name": "LayoutView",
      "align_content": null,
      "align_items": null,
      "align_self": null,
      "border": null,
      "bottom": null,
      "display": null,
      "flex": null,
      "flex_flow": null,
      "grid_area": null,
      "grid_auto_columns": null,
      "grid_auto_flow": null,
      "grid_auto_rows": null,
      "grid_column": null,
      "grid_gap": null,
      "grid_row": null,
      "grid_template_areas": null,
      "grid_template_columns": null,
      "grid_template_rows": null,
      "height": null,
      "justify_content": null,
      "justify_items": null,
      "left": null,
      "margin": null,
      "max_height": null,
      "max_width": null,
      "min_height": null,
      "min_width": null,
      "object_fit": null,
      "object_position": null,
      "order": null,
      "overflow": null,
      "overflow_x": null,
      "overflow_y": null,
      "padding": null,
      "right": null,
      "top": null,
      "visibility": null,
      "width": null
     }
    },
    "7551fcad447d471189d7c8bd2f54da26": {
     "model_module": "@jupyter-widgets/controls",
     "model_module_version": "1.5.0",
     "model_name": "HTMLModel",
     "state": {
      "_dom_classes": [],
      "_model_module": "@jupyter-widgets/controls",
      "_model_module_version": "1.5.0",
      "_model_name": "HTMLModel",
      "_view_count": null,
      "_view_module": "@jupyter-widgets/controls",
      "_view_module_version": "1.5.0",
      "_view_name": "HTMLView",
      "description": "",
      "description_tooltip": null,
      "layout": "IPY_MODEL_88dce9a9322e41a49e4610d0403ba629",
      "placeholder": "​",
      "style": "IPY_MODEL_4d0a2937383443308eb9a3464121ee78",
      "value": "Map: 100%"
     }
    },
    "82260a5097ec42899a45c9db0a1354a9": {
     "model_module": "@jupyter-widgets/controls",
     "model_module_version": "1.5.0",
     "model_name": "HTMLModel",
     "state": {
      "_dom_classes": [],
      "_model_module": "@jupyter-widgets/controls",
      "_model_module_version": "1.5.0",
      "_model_name": "HTMLModel",
      "_view_count": null,
      "_view_module": "@jupyter-widgets/controls",
      "_view_module_version": "1.5.0",
      "_view_name": "HTMLView",
      "description": "",
      "description_tooltip": null,
      "layout": "IPY_MODEL_e121cea982a6483795c32de8ef5727c8",
      "placeholder": "​",
      "style": "IPY_MODEL_6b4a1b2244474197bf8975d349baeb6f",
      "value": " 130824/130824 [00:37&lt;00:00, 3865.90 examples/s]"
     }
    },
    "88dce9a9322e41a49e4610d0403ba629": {
     "model_module": "@jupyter-widgets/base",
     "model_module_version": "1.2.0",
     "model_name": "LayoutModel",
     "state": {
      "_model_module": "@jupyter-widgets/base",
      "_model_module_version": "1.2.0",
      "_model_name": "LayoutModel",
      "_view_count": null,
      "_view_module": "@jupyter-widgets/base",
      "_view_module_version": "1.2.0",
      "_view_name": "LayoutView",
      "align_content": null,
      "align_items": null,
      "align_self": null,
      "border": null,
      "bottom": null,
      "display": null,
      "flex": null,
      "flex_flow": null,
      "grid_area": null,
      "grid_auto_columns": null,
      "grid_auto_flow": null,
      "grid_auto_rows": null,
      "grid_column": null,
      "grid_gap": null,
      "grid_row": null,
      "grid_template_areas": null,
      "grid_template_columns": null,
      "grid_template_rows": null,
      "height": null,
      "justify_content": null,
      "justify_items": null,
      "left": null,
      "margin": null,
      "max_height": null,
      "max_width": null,
      "min_height": null,
      "min_width": null,
      "object_fit": null,
      "object_position": null,
      "order": null,
      "overflow": null,
      "overflow_x": null,
      "overflow_y": null,
      "padding": null,
      "right": null,
      "top": null,
      "visibility": null,
      "width": null
     }
    },
    "9382e05c63d94d4782fb81e287007252": {
     "model_module": "@jupyter-widgets/base",
     "model_module_version": "1.2.0",
     "model_name": "LayoutModel",
     "state": {
      "_model_module": "@jupyter-widgets/base",
      "_model_module_version": "1.2.0",
      "_model_name": "LayoutModel",
      "_view_count": null,
      "_view_module": "@jupyter-widgets/base",
      "_view_module_version": "1.2.0",
      "_view_name": "LayoutView",
      "align_content": null,
      "align_items": null,
      "align_self": null,
      "border": null,
      "bottom": null,
      "display": null,
      "flex": null,
      "flex_flow": null,
      "grid_area": null,
      "grid_auto_columns": null,
      "grid_auto_flow": null,
      "grid_auto_rows": null,
      "grid_column": null,
      "grid_gap": null,
      "grid_row": null,
      "grid_template_areas": null,
      "grid_template_columns": null,
      "grid_template_rows": null,
      "height": null,
      "justify_content": null,
      "justify_items": null,
      "left": null,
      "margin": null,
      "max_height": null,
      "max_width": null,
      "min_height": null,
      "min_width": null,
      "object_fit": null,
      "object_position": null,
      "order": null,
      "overflow": null,
      "overflow_x": null,
      "overflow_y": null,
      "padding": null,
      "right": null,
      "top": null,
      "visibility": null,
      "width": null
     }
    },
    "945c9331f5ba4bdf93175f32d06d6b93": {
     "model_module": "@jupyter-widgets/base",
     "model_module_version": "1.2.0",
     "model_name": "LayoutModel",
     "state": {
      "_model_module": "@jupyter-widgets/base",
      "_model_module_version": "1.2.0",
      "_model_name": "LayoutModel",
      "_view_count": null,
      "_view_module": "@jupyter-widgets/base",
      "_view_module_version": "1.2.0",
      "_view_name": "LayoutView",
      "align_content": null,
      "align_items": null,
      "align_self": null,
      "border": null,
      "bottom": null,
      "display": null,
      "flex": null,
      "flex_flow": null,
      "grid_area": null,
      "grid_auto_columns": null,
      "grid_auto_flow": null,
      "grid_auto_rows": null,
      "grid_column": null,
      "grid_gap": null,
      "grid_row": null,
      "grid_template_areas": null,
      "grid_template_columns": null,
      "grid_template_rows": null,
      "height": null,
      "justify_content": null,
      "justify_items": null,
      "left": null,
      "margin": null,
      "max_height": null,
      "max_width": null,
      "min_height": null,
      "min_width": null,
      "object_fit": null,
      "object_position": null,
      "order": null,
      "overflow": null,
      "overflow_x": null,
      "overflow_y": null,
      "padding": null,
      "right": null,
      "top": null,
      "visibility": null,
      "width": null
     }
    },
    "9bf591f2d1594ddf9df27c25a5787281": {
     "model_module": "@jupyter-widgets/controls",
     "model_module_version": "1.5.0",
     "model_name": "DescriptionStyleModel",
     "state": {
      "_model_module": "@jupyter-widgets/controls",
      "_model_module_version": "1.5.0",
      "_model_name": "DescriptionStyleModel",
      "_view_count": null,
      "_view_module": "@jupyter-widgets/base",
      "_view_module_version": "1.2.0",
      "_view_name": "StyleView",
      "description_width": ""
     }
    },
    "9e4ccd8cd4664d8abaf7481cdbe81076": {
     "model_module": "@jupyter-widgets/base",
     "model_module_version": "1.2.0",
     "model_name": "LayoutModel",
     "state": {
      "_model_module": "@jupyter-widgets/base",
      "_model_module_version": "1.2.0",
      "_model_name": "LayoutModel",
      "_view_count": null,
      "_view_module": "@jupyter-widgets/base",
      "_view_module_version": "1.2.0",
      "_view_name": "LayoutView",
      "align_content": null,
      "align_items": null,
      "align_self": null,
      "border": null,
      "bottom": null,
      "display": null,
      "flex": null,
      "flex_flow": null,
      "grid_area": null,
      "grid_auto_columns": null,
      "grid_auto_flow": null,
      "grid_auto_rows": null,
      "grid_column": null,
      "grid_gap": null,
      "grid_row": null,
      "grid_template_areas": null,
      "grid_template_columns": null,
      "grid_template_rows": null,
      "height": null,
      "justify_content": null,
      "justify_items": null,
      "left": null,
      "margin": null,
      "max_height": null,
      "max_width": null,
      "min_height": null,
      "min_width": null,
      "object_fit": null,
      "object_position": null,
      "order": null,
      "overflow": null,
      "overflow_x": null,
      "overflow_y": null,
      "padding": null,
      "right": null,
      "top": null,
      "visibility": null,
      "width": null
     }
    },
    "b2cd18fafd074b309011a468f021d17f": {
     "model_module": "@jupyter-widgets/controls",
     "model_module_version": "1.5.0",
     "model_name": "DescriptionStyleModel",
     "state": {
      "_model_module": "@jupyter-widgets/controls",
      "_model_module_version": "1.5.0",
      "_model_name": "DescriptionStyleModel",
      "_view_count": null,
      "_view_module": "@jupyter-widgets/base",
      "_view_module_version": "1.2.0",
      "_view_name": "StyleView",
      "description_width": ""
     }
    },
    "c1b66a2d5180403eb5945fec1c2b2524": {
     "model_module": "@jupyter-widgets/controls",
     "model_module_version": "1.5.0",
     "model_name": "HBoxModel",
     "state": {
      "_dom_classes": [],
      "_model_module": "@jupyter-widgets/controls",
      "_model_module_version": "1.5.0",
      "_model_name": "HBoxModel",
      "_view_count": null,
      "_view_module": "@jupyter-widgets/controls",
      "_view_module_version": "1.5.0",
      "_view_name": "HBoxView",
      "box_style": "",
      "children": [
       "IPY_MODEL_6c9963d0dec243af94a45fc51236b0fb",
       "IPY_MODEL_35af331afc2645cbbfe783db09cc3e9f",
       "IPY_MODEL_82260a5097ec42899a45c9db0a1354a9"
      ],
      "layout": "IPY_MODEL_0fe8fe5d706f4643b269f2245a314584"
     }
    },
    "c8ff0f62c9544bbfa5849a3cc24bd84c": {
     "model_module": "@jupyter-widgets/controls",
     "model_module_version": "1.5.0",
     "model_name": "FloatProgressModel",
     "state": {
      "_dom_classes": [],
      "_model_module": "@jupyter-widgets/controls",
      "_model_module_version": "1.5.0",
      "_model_name": "FloatProgressModel",
      "_view_count": null,
      "_view_module": "@jupyter-widgets/controls",
      "_view_module_version": "1.5.0",
      "_view_name": "ProgressView",
      "bar_style": "success",
      "description": "",
      "description_tooltip": null,
      "layout": "IPY_MODEL_e736d220b46a4f88b9642926c6c37ed6",
      "max": 500,
      "min": 0,
      "orientation": "horizontal",
      "style": "IPY_MODEL_17fb4df5af5f4dbc96ee79b9d2024f87",
      "value": 500
     }
    },
    "e121cea982a6483795c32de8ef5727c8": {
     "model_module": "@jupyter-widgets/base",
     "model_module_version": "1.2.0",
     "model_name": "LayoutModel",
     "state": {
      "_model_module": "@jupyter-widgets/base",
      "_model_module_version": "1.2.0",
      "_model_name": "LayoutModel",
      "_view_count": null,
      "_view_module": "@jupyter-widgets/base",
      "_view_module_version": "1.2.0",
      "_view_name": "LayoutView",
      "align_content": null,
      "align_items": null,
      "align_self": null,
      "border": null,
      "bottom": null,
      "display": null,
      "flex": null,
      "flex_flow": null,
      "grid_area": null,
      "grid_auto_columns": null,
      "grid_auto_flow": null,
      "grid_auto_rows": null,
      "grid_column": null,
      "grid_gap": null,
      "grid_row": null,
      "grid_template_areas": null,
      "grid_template_columns": null,
      "grid_template_rows": null,
      "height": null,
      "justify_content": null,
      "justify_items": null,
      "left": null,
      "margin": null,
      "max_height": null,
      "max_width": null,
      "min_height": null,
      "min_width": null,
      "object_fit": null,
      "object_position": null,
      "order": null,
      "overflow": null,
      "overflow_x": null,
      "overflow_y": null,
      "padding": null,
      "right": null,
      "top": null,
      "visibility": null,
      "width": null
     }
    },
    "e26c531a7923436e9a433fe9d7a7c788": {
     "model_module": "@jupyter-widgets/base",
     "model_module_version": "1.2.0",
     "model_name": "LayoutModel",
     "state": {
      "_model_module": "@jupyter-widgets/base",
      "_model_module_version": "1.2.0",
      "_model_name": "LayoutModel",
      "_view_count": null,
      "_view_module": "@jupyter-widgets/base",
      "_view_module_version": "1.2.0",
      "_view_name": "LayoutView",
      "align_content": null,
      "align_items": null,
      "align_self": null,
      "border": null,
      "bottom": null,
      "display": null,
      "flex": null,
      "flex_flow": null,
      "grid_area": null,
      "grid_auto_columns": null,
      "grid_auto_flow": null,
      "grid_auto_rows": null,
      "grid_column": null,
      "grid_gap": null,
      "grid_row": null,
      "grid_template_areas": null,
      "grid_template_columns": null,
      "grid_template_rows": null,
      "height": null,
      "justify_content": null,
      "justify_items": null,
      "left": null,
      "margin": null,
      "max_height": null,
      "max_width": null,
      "min_height": null,
      "min_width": null,
      "object_fit": null,
      "object_position": null,
      "order": null,
      "overflow": null,
      "overflow_x": null,
      "overflow_y": null,
      "padding": null,
      "right": null,
      "top": null,
      "visibility": null,
      "width": null
     }
    },
    "e5add923fcc848d58a996abdbe85ffda": {
     "model_module": "@jupyter-widgets/controls",
     "model_module_version": "1.5.0",
     "model_name": "HTMLModel",
     "state": {
      "_dom_classes": [],
      "_model_module": "@jupyter-widgets/controls",
      "_model_module_version": "1.5.0",
      "_model_name": "HTMLModel",
      "_view_count": null,
      "_view_module": "@jupyter-widgets/controls",
      "_view_module_version": "1.5.0",
      "_view_name": "HTMLView",
      "description": "",
      "description_tooltip": null,
      "layout": "IPY_MODEL_e26c531a7923436e9a433fe9d7a7c788",
      "placeholder": "​",
      "style": "IPY_MODEL_9bf591f2d1594ddf9df27c25a5787281",
      "value": " 500/500 [00:00&lt;00:00, 2552.12 examples/s]"
     }
    },
    "e736d220b46a4f88b9642926c6c37ed6": {
     "model_module": "@jupyter-widgets/base",
     "model_module_version": "1.2.0",
     "model_name": "LayoutModel",
     "state": {
      "_model_module": "@jupyter-widgets/base",
      "_model_module_version": "1.2.0",
      "_model_name": "LayoutModel",
      "_view_count": null,
      "_view_module": "@jupyter-widgets/base",
      "_view_module_version": "1.2.0",
      "_view_name": "LayoutView",
      "align_content": null,
      "align_items": null,
      "align_self": null,
      "border": null,
      "bottom": null,
      "display": null,
      "flex": null,
      "flex_flow": null,
      "grid_area": null,
      "grid_auto_columns": null,
      "grid_auto_flow": null,
      "grid_auto_rows": null,
      "grid_column": null,
      "grid_gap": null,
      "grid_row": null,
      "grid_template_areas": null,
      "grid_template_columns": null,
      "grid_template_rows": null,
      "height": null,
      "justify_content": null,
      "justify_items": null,
      "left": null,
      "margin": null,
      "max_height": null,
      "max_width": null,
      "min_height": null,
      "min_width": null,
      "object_fit": null,
      "object_position": null,
      "order": null,
      "overflow": null,
      "overflow_x": null,
      "overflow_y": null,
      "padding": null,
      "right": null,
      "top": null,
      "visibility": null,
      "width": null
     }
    },
    "f0d7101f48a74088ab3daf179b21f14f": {
     "model_module": "@jupyter-widgets/controls",
     "model_module_version": "1.5.0",
     "model_name": "HTMLModel",
     "state": {
      "_dom_classes": [],
      "_model_module": "@jupyter-widgets/controls",
      "_model_module_version": "1.5.0",
      "_model_name": "HTMLModel",
      "_view_count": null,
      "_view_module": "@jupyter-widgets/controls",
      "_view_module_version": "1.5.0",
      "_view_name": "HTMLView",
      "description": "",
      "description_tooltip": null,
      "layout": "IPY_MODEL_945c9331f5ba4bdf93175f32d06d6b93",
      "placeholder": "​",
      "style": "IPY_MODEL_1f80249258514c5086b312080678687e",
      "value": " 43609/43609 [00:13&lt;00:00, 3816.37 examples/s]"
     }
    },
    "f13d53c688ef429b88708fb6d6b114bc": {
     "model_module": "@jupyter-widgets/base",
     "model_module_version": "1.2.0",
     "model_name": "LayoutModel",
     "state": {
      "_model_module": "@jupyter-widgets/base",
      "_model_module_version": "1.2.0",
      "_model_name": "LayoutModel",
      "_view_count": null,
      "_view_module": "@jupyter-widgets/base",
      "_view_module_version": "1.2.0",
      "_view_name": "LayoutView",
      "align_content": null,
      "align_items": null,
      "align_self": null,
      "border": null,
      "bottom": null,
      "display": null,
      "flex": null,
      "flex_flow": null,
      "grid_area": null,
      "grid_auto_columns": null,
      "grid_auto_flow": null,
      "grid_auto_rows": null,
      "grid_column": null,
      "grid_gap": null,
      "grid_row": null,
      "grid_template_areas": null,
      "grid_template_columns": null,
      "grid_template_rows": null,
      "height": null,
      "justify_content": null,
      "justify_items": null,
      "left": null,
      "margin": null,
      "max_height": null,
      "max_width": null,
      "min_height": null,
      "min_width": null,
      "object_fit": null,
      "object_position": null,
      "order": null,
      "overflow": null,
      "overflow_x": null,
      "overflow_y": null,
      "padding": null,
      "right": null,
      "top": null,
      "visibility": null,
      "width": null
     }
    },
    "f6f47d5a78f84e818414e7025574099a": {
     "model_module": "@jupyter-widgets/controls",
     "model_module_version": "1.5.0",
     "model_name": "FloatProgressModel",
     "state": {
      "_dom_classes": [],
      "_model_module": "@jupyter-widgets/controls",
      "_model_module_version": "1.5.0",
      "_model_name": "FloatProgressModel",
      "_view_count": null,
      "_view_module": "@jupyter-widgets/controls",
      "_view_module_version": "1.5.0",
      "_view_name": "ProgressView",
      "bar_style": "success",
      "description": "",
      "description_tooltip": null,
      "layout": "IPY_MODEL_f8a1a34ee6bb46c3b8f189d5aa1c1069",
      "max": 43609,
      "min": 0,
      "orientation": "horizontal",
      "style": "IPY_MODEL_5c8246d3723a47ac9d3cc297a67d62d5",
      "value": 43609
     }
    },
    "f8a1a34ee6bb46c3b8f189d5aa1c1069": {
     "model_module": "@jupyter-widgets/base",
     "model_module_version": "1.2.0",
     "model_name": "LayoutModel",
     "state": {
      "_model_module": "@jupyter-widgets/base",
      "_model_module_version": "1.2.0",
      "_model_name": "LayoutModel",
      "_view_count": null,
      "_view_module": "@jupyter-widgets/base",
      "_view_module_version": "1.2.0",
      "_view_name": "LayoutView",
      "align_content": null,
      "align_items": null,
      "align_self": null,
      "border": null,
      "bottom": null,
      "display": null,
      "flex": null,
      "flex_flow": null,
      "grid_area": null,
      "grid_auto_columns": null,
      "grid_auto_flow": null,
      "grid_auto_rows": null,
      "grid_column": null,
      "grid_gap": null,
      "grid_row": null,
      "grid_template_areas": null,
      "grid_template_columns": null,
      "grid_template_rows": null,
      "height": null,
      "justify_content": null,
      "justify_items": null,
      "left": null,
      "margin": null,
      "max_height": null,
      "max_width": null,
      "min_height": null,
      "min_width": null,
      "object_fit": null,
      "object_position": null,
      "order": null,
      "overflow": null,
      "overflow_x": null,
      "overflow_y": null,
      "padding": null,
      "right": null,
      "top": null,
      "visibility": null,
      "width": null
     }
    },
    "fc79bf1affe9476ba60f1902a8368865": {
     "model_module": "@jupyter-widgets/controls",
     "model_module_version": "1.5.0",
     "model_name": "DescriptionStyleModel",
     "state": {
      "_model_module": "@jupyter-widgets/controls",
      "_model_module_version": "1.5.0",
      "_model_name": "DescriptionStyleModel",
      "_view_count": null,
      "_view_module": "@jupyter-widgets/base",
      "_view_module_version": "1.2.0",
      "_view_name": "StyleView",
      "description_width": ""
     }
    }
   }
  }
 },
 "nbformat": 4,
 "nbformat_minor": 5
}
